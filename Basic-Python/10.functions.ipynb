{
 "cells": [
  {
   "cell_type": "markdown",
   "metadata": {},
   "source": [
    "#### **1. Function**"
   ]
  },
  {
   "cell_type": "code",
   "execution_count": 27,
   "metadata": {},
   "outputs": [
    {
     "name": "stdout",
     "output_type": "stream",
     "text": [
      "Welcome, DQSquad!\n",
      "-----------------\n"
     ]
    }
   ],
   "source": [
    "''' Fungsi Tanpa Argumen & Tanpa Return '''\n",
    "\n",
    "# Definisikan fungsi\n",
    "\n",
    "def header():\n",
    "    print(\"Welcome, DQSquad!\")\n",
    "    print(\"-\" * 17)\n",
    "\n",
    "# Panggil fungsi yang dibuat\n",
    "header()"
   ]
  },
  {
   "cell_type": "code",
   "execution_count": 28,
   "metadata": {},
   "outputs": [
    {
     "name": "stdout",
     "output_type": "stream",
     "text": [
      "Nama pelanggan = Aksara Sunyi\n"
     ]
    }
   ],
   "source": [
    "''' Fungsi Dengan Argumen & Tanpa Return '''\n",
    "\n",
    "def tampilkan_pelanggan(cust_name):\n",
    "    print(f'Nama pelanggan = {cust_name}')\n",
    "\n",
    "# Panggil fungsi yang dibuat\n",
    "tampilkan_pelanggan('Aksara Sunyi')"
   ]
  },
  {
   "cell_type": "code",
   "execution_count": 29,
   "metadata": {},
   "outputs": [
    {
     "name": "stdout",
     "output_type": "stream",
     "text": [
      "9\n"
     ]
    }
   ],
   "source": [
    "''' Fungsi Dengan Argumen & Dengan Return '''\n",
    "\n",
    "def fungsi_kuadrat(x):\n",
    "    y = x**2\n",
    "    return(y)\n",
    "\n",
    "# Panggil fungsi yang dibuat\n",
    "hasil = fungsi_kuadrat(3)\n",
    "\n",
    "# Tampilkan hasilnya\n",
    "print(hasil)"
   ]
  },
  {
   "cell_type": "code",
   "execution_count": 30,
   "metadata": {},
   "outputs": [],
   "source": [
    "# Kalo ga pake return? hasilnya disembunyikan/ tidak ditampilkan/ akan dikembalikan sbg None\n",
    "# Ketika kita return, kita meng-assign/ mengembalikan ke hasil\n",
    "\n",
    "def fungsi_kuadrat(x):\n",
    "    hasil = x ** 2\n",
    "\n",
    "fungsi_kuadrat(3)"
   ]
  },
  {
   "cell_type": "code",
   "execution_count": 31,
   "metadata": {},
   "outputs": [
    {
     "name": "stdout",
     "output_type": "stream",
     "text": [
      "Hasil kuadrat dari 3 adalah 9\n",
      "None\n"
     ]
    }
   ],
   "source": [
    "# f(x) = x^2\n",
    "def fungsi_kuadrat(x):\n",
    "    hasil = x ** 2\n",
    "    print('Hasil kuadrat dari', x, 'adalah', hasil)\n",
    "\n",
    "result = fungsi_kuadrat(3)\n",
    "\n",
    "print(result)"
   ]
  },
  {
   "cell_type": "code",
   "execution_count": 32,
   "metadata": {},
   "outputs": [
    {
     "name": "stdout",
     "output_type": "stream",
     "text": [
      "Hasil kuadrat dari 1.61803 adalah 2.6180210809\n",
      "2.6180210809\n"
     ]
    }
   ],
   "source": [
    "# f(x) = x^2\n",
    "def fungsi_kuadrat(x):\n",
    "    hasil = x ** 2\n",
    "    print('Hasil kuadrat dari', x, 'adalah', hasil)\n",
    "    return(hasil)\n",
    "\n",
    "result = fungsi_kuadrat(1.61803)\n",
    "\n",
    "print(result)"
   ]
  },
  {
   "cell_type": "code",
   "execution_count": 33,
   "metadata": {},
   "outputs": [
    {
     "name": "stdout",
     "output_type": "stream",
     "text": [
      "1\n",
      "4\n",
      "9\n"
     ]
    }
   ],
   "source": [
    "''' Sebuah fungsi dapat dipanggil berulang kali '''\n",
    "\n",
    "def fungsi_kuadrat(x):\n",
    "    y = x**2\n",
    "    return(y)\n",
    "\n",
    "# Panggil fungsi yang dibuat\n",
    "hasil1 = fungsi_kuadrat(1)\n",
    "print(hasil1)\n",
    "\n",
    "hasil2 = fungsi_kuadrat(2)\n",
    "print(hasil2)\n",
    "\n",
    "hasil3 = fungsi_kuadrat(3)\n",
    "print(hasil3)"
   ]
  },
  {
   "cell_type": "code",
   "execution_count": 34,
   "metadata": {},
   "outputs": [
    {
     "name": "stdout",
     "output_type": "stream",
     "text": [
      "Hasil kuadrat dari 0 adalah 0\n",
      "Hasil kuadrat dari 1 adalah 1\n",
      "Hasil kuadrat dari 2 adalah 4\n",
      "Hasil kuadrat dari 3 adalah 9\n",
      "Hasil kuadrat dari 4 adalah 16\n",
      "Hasil kuadrat dari 5 adalah 25\n"
     ]
    }
   ],
   "source": [
    "''' Sebuah fungsi dapat dipanggil berulang kali dengan kriteria loop '''\n",
    "\n",
    "def fungsi_kuadrat(x):\n",
    "    y = x**2\n",
    "    return(y)\n",
    "\n",
    "for i in range(0, 6, 1):\n",
    "    square = fungsi_kuadrat(i)\n",
    "    print(f'Hasil kuadrat dari {i} adalah {square}')"
   ]
  },
  {
   "cell_type": "code",
   "execution_count": 35,
   "metadata": {},
   "outputs": [
    {
     "name": "stdout",
     "output_type": "stream",
     "text": [
      "255000\n"
     ]
    }
   ],
   "source": [
    "# Buat fungsi tarif kargo taksi\n",
    "def tarif_taksi (jarak):\n",
    "    biaya = (jarak*5000) + 75000\n",
    "    return(biaya)\n",
    "  \n",
    "harga = tarif_taksi(jarak = 36)\n",
    "print (harga)"
   ]
  },
  {
   "cell_type": "code",
   "execution_count": 36,
   "metadata": {},
   "outputs": [
    {
     "data": {
      "text/plain": [
       "6.0"
      ]
     },
     "execution_count": 36,
     "metadata": {},
     "output_type": "execute_result"
    }
   ],
   "source": [
    "def luas_segitiga(alas, tinggi):\n",
    "    luas = ((alas * tinggi) / 2)\n",
    "    return(luas)\n",
    "\n",
    "luas_segitiga(3, 4)"
   ]
  },
  {
   "cell_type": "code",
   "execution_count": 37,
   "metadata": {},
   "outputs": [
    {
     "data": {
      "text/plain": [
       "144"
      ]
     },
     "execution_count": 37,
     "metadata": {},
     "output_type": "execute_result"
    }
   ],
   "source": [
    "def luas_persegi(sisi):\n",
    "    luas = sisi ** 2\n",
    "    return(luas)\n",
    "\n",
    "luas_persegi(12)"
   ]
  },
  {
   "cell_type": "markdown",
   "metadata": {},
   "source": [
    "#### **2. Argument in Function**"
   ]
  },
  {
   "cell_type": "code",
   "execution_count": 38,
   "metadata": {},
   "outputs": [],
   "source": [
    "# Definisikan fungsi\n",
    "\n",
    "def gabungkan_nama(nama_depan, nama_belakang):\n",
    "    nama_lengkap = nama_depan + ' ' + nama_belakang\n",
    "    return(nama_lengkap)"
   ]
  },
  {
   "cell_type": "code",
   "execution_count": 39,
   "metadata": {},
   "outputs": [
    {
     "name": "stdout",
     "output_type": "stream",
     "text": [
      "Aksara Sunyi\n"
     ]
    }
   ],
   "source": [
    "''' Pemanggilan Fungsi Dengan Parameter Tipe 1 '''\n",
    "\n",
    "# Assignment hasil pemanggilan fungsi ke dalam sebuah variabel\n",
    "nama_lengkap = gabungkan_nama('Aksara', 'Sunyi')\n",
    "\n",
    "# Tampilkan hasilnya\n",
    "print(nama_lengkap)"
   ]
  },
  {
   "cell_type": "code",
   "execution_count": 40,
   "metadata": {},
   "outputs": [
    {
     "name": "stdout",
     "output_type": "stream",
     "text": [
      "Aksara Sunyi\n"
     ]
    }
   ],
   "source": [
    "''' Pemanggilan Fungsi Dengan Parameter Tipe 2 '''\n",
    "\n",
    "# Assignment hasil pemanggilan fungsi ke dalam sebuah variabel\n",
    "nama_lengkap = gabungkan_nama(nama_depan = 'Aksara', nama_belakang = 'Sunyi')\n",
    "\n",
    "# Tampilkan hasilnya\n",
    "print(nama_lengkap)"
   ]
  },
  {
   "cell_type": "code",
   "execution_count": 41,
   "metadata": {},
   "outputs": [
    {
     "name": "stdout",
     "output_type": "stream",
     "text": [
      "Aksara Sunyi\n"
     ]
    }
   ],
   "source": [
    "''' Pemanggilan Fungsi Dengan Parameter Tipe 3 '''\n",
    "\n",
    "# Assignment hasil pemanggilan fungsi ke dalam sebuah variabel\n",
    "nama_lengkap = gabungkan_nama(nama_belakang = 'Sunyi', nama_depan = 'Aksara')\n",
    "\n",
    "# Tampilkan hasilnya\n",
    "print(nama_lengkap)"
   ]
  },
  {
   "cell_type": "code",
   "execution_count": 42,
   "metadata": {},
   "outputs": [],
   "source": [
    "def gabung_nama(nama_depan, nama_tengah, nama_belakang):\n",
    "    gabung = nama_depan + ' ' + nama_tengah + ' ' + nama_belakang\n",
    "    return(gabung)\n",
    "\n",
    "#Yang baik sebenernya di declare parameternya apa, tapi tidak umum digunakan:\n",
    "#def gabung_nama(nama_depan: str, nama_tengah: str, nama_belakang: str):\n",
    "#    gabung = nama_depan + ' ' + nama_tengah + ' ' + nama_belakang\n",
    "#    return(gabung)"
   ]
  },
  {
   "cell_type": "code",
   "execution_count": 43,
   "metadata": {},
   "outputs": [
    {
     "data": {
      "text/plain": [
       "'Ayu Rahma Puspita'"
      ]
     },
     "execution_count": 43,
     "metadata": {},
     "output_type": "execute_result"
    }
   ],
   "source": [
    "gabung_nama(nama_depan = 'Ayu', nama_tengah = 'Rahma', nama_belakang = 'Puspita')"
   ]
  },
  {
   "cell_type": "code",
   "execution_count": 44,
   "metadata": {},
   "outputs": [
    {
     "data": {
      "text/plain": [
       "'Ayu Rahma Puspita'"
      ]
     },
     "execution_count": 44,
     "metadata": {},
     "output_type": "execute_result"
    }
   ],
   "source": [
    "# Urutan mempengaruhi argumen\n",
    "# Kalau yg kita input jumlahnya kurang atau lebih dari fungsi yg sudah kita declare, akan error\n",
    "gabung_nama('Ayu', 'Rahma', 'Puspita')\n"
   ]
  },
  {
   "cell_type": "code",
   "execution_count": 45,
   "metadata": {},
   "outputs": [],
   "source": [
    "def gabung_nik_nama(nik, nama_depan, nama_tengah, nama_belakang):\n",
    "    gabung = nik + ' ' + nama_depan + ' ' + nama_tengah + ' ' + nama_belakang\n",
    "    return(gabung)"
   ]
  },
  {
   "cell_type": "code",
   "execution_count": 47,
   "metadata": {},
   "outputs": [
    {
     "ename": "TypeError",
     "evalue": "unsupported operand type(s) for +: 'int' and 'str'",
     "output_type": "error",
     "traceback": [
      "\u001b[1;31m---------------------------------------------------------------------------\u001b[0m",
      "\u001b[1;31mTypeError\u001b[0m                                 Traceback (most recent call last)",
      "\u001b[1;32mC:\\Users\\DESTIA~1\\AppData\\Local\\Temp/ipykernel_15396/1326966647.py\u001b[0m in \u001b[0;36m<module>\u001b[1;34m\u001b[0m\n\u001b[1;32m----> 1\u001b[1;33m \u001b[0mgabung_nik_nama\u001b[0m\u001b[1;33m(\u001b[0m\u001b[1;36m1101100110\u001b[0m\u001b[1;33m,\u001b[0m \u001b[1;34m'Ayu'\u001b[0m\u001b[1;33m,\u001b[0m \u001b[1;34m'Rahma'\u001b[0m\u001b[1;33m,\u001b[0m \u001b[1;34m'Puspita'\u001b[0m\u001b[1;33m)\u001b[0m\u001b[1;33m\u001b[0m\u001b[1;33m\u001b[0m\u001b[0m\n\u001b[0m",
      "\u001b[1;32mC:\\Users\\DESTIA~1\\AppData\\Local\\Temp/ipykernel_15396/4144111223.py\u001b[0m in \u001b[0;36mgabung_nik_nama\u001b[1;34m(nik, nama_depan, nama_tengah, nama_belakang)\u001b[0m\n\u001b[0;32m      1\u001b[0m \u001b[1;32mdef\u001b[0m \u001b[0mgabung_nik_nama\u001b[0m\u001b[1;33m(\u001b[0m\u001b[0mnik\u001b[0m\u001b[1;33m,\u001b[0m \u001b[0mnama_depan\u001b[0m\u001b[1;33m,\u001b[0m \u001b[0mnama_tengah\u001b[0m\u001b[1;33m,\u001b[0m \u001b[0mnama_belakang\u001b[0m\u001b[1;33m)\u001b[0m\u001b[1;33m:\u001b[0m\u001b[1;33m\u001b[0m\u001b[1;33m\u001b[0m\u001b[0m\n\u001b[1;32m----> 2\u001b[1;33m     \u001b[0mgabung\u001b[0m \u001b[1;33m=\u001b[0m \u001b[0mnik\u001b[0m \u001b[1;33m+\u001b[0m \u001b[1;34m' '\u001b[0m \u001b[1;33m+\u001b[0m \u001b[0mnama_depan\u001b[0m \u001b[1;33m+\u001b[0m \u001b[1;34m' '\u001b[0m \u001b[1;33m+\u001b[0m \u001b[0mnama_tengah\u001b[0m \u001b[1;33m+\u001b[0m \u001b[1;34m' '\u001b[0m \u001b[1;33m+\u001b[0m \u001b[0mnama_belakang\u001b[0m\u001b[1;33m\u001b[0m\u001b[1;33m\u001b[0m\u001b[0m\n\u001b[0m\u001b[0;32m      3\u001b[0m     \u001b[1;32mreturn\u001b[0m\u001b[1;33m(\u001b[0m\u001b[0mgabung\u001b[0m\u001b[1;33m)\u001b[0m\u001b[1;33m\u001b[0m\u001b[1;33m\u001b[0m\u001b[0m\n",
      "\u001b[1;31mTypeError\u001b[0m: unsupported operand type(s) for +: 'int' and 'str'"
     ]
    }
   ],
   "source": [
    "gabung_nik_nama(1101100110, 'Ayu', 'Rahma', 'Puspita')"
   ]
  },
  {
   "cell_type": "code",
   "execution_count": 48,
   "metadata": {},
   "outputs": [],
   "source": [
    "def gabung_nik_nama(nik, nama_depan, nama_tengah, nama_belakang):\n",
    "    gabung = str(nik) + ' ' + nama_depan + ' ' + nama_tengah + ' ' + nama_belakang\n",
    "    return(gabung)"
   ]
  },
  {
   "cell_type": "code",
   "execution_count": 49,
   "metadata": {},
   "outputs": [
    {
     "data": {
      "text/plain": [
       "'1101100110 Ayu Rahma Puspita'"
      ]
     },
     "execution_count": 49,
     "metadata": {},
     "output_type": "execute_result"
    }
   ],
   "source": [
    "gabung_nik_nama(1101100110, 'Ayu', 'Rahma', 'Puspita')"
   ]
  },
  {
   "cell_type": "code",
   "execution_count": 50,
   "metadata": {},
   "outputs": [
    {
     "ename": "SyntaxError",
     "evalue": "leading zeros in decimal integer literals are not permitted; use an 0o prefix for octal integers (Temp/ipykernel_15396/128233140.py, line 1)",
     "output_type": "error",
     "traceback": [
      "\u001b[1;36m  File \u001b[1;32m\"C:\\Users\\DESTIA~1\\AppData\\Local\\Temp/ipykernel_15396/128233140.py\"\u001b[1;36m, line \u001b[1;32m1\u001b[0m\n\u001b[1;33m    gabung_nik_nama(0101100110, 'Ayu', 'Rahma', 'Puspita')\u001b[0m\n\u001b[1;37m                             ^\u001b[0m\n\u001b[1;31mSyntaxError\u001b[0m\u001b[1;31m:\u001b[0m leading zeros in decimal integer literals are not permitted; use an 0o prefix for octal integers\n"
     ]
    }
   ],
   "source": [
    "gabung_nik_nama(0101100110, 'Ayu', 'Rahma', 'Puspita')"
   ]
  },
  {
   "cell_type": "markdown",
   "id": "9c88b0e0",
   "metadata": {
    "id": "9c88b0e0"
   },
   "source": [
    "Argumen pada python, tidak hanya menerima argumen dengan tipe data dasar. Tipe data <i>sequential</i> seperti list, dict, dst pun bisa menjadi argumen"
   ]
  },
  {
   "cell_type": "code",
   "execution_count": 51,
   "id": "ce3d7331",
   "metadata": {
    "id": "ce3d7331"
   },
   "outputs": [],
   "source": [
    "def menu_goreng(menu):\n",
    "    fry = list()\n",
    "    for i in menu:\n",
    "        if 'goreng' in i.lower():\n",
    "            fry.append(i)\n",
    "    return(fry)\n",
    "\n",
    "# Notes : str.lower() sebuah method pada string untuk mengubah string menjadi lowercase"
   ]
  },
  {
   "cell_type": "code",
   "execution_count": 52,
   "metadata": {},
   "outputs": [
    {
     "name": "stdout",
     "output_type": "stream",
     "text": [
      "['Ayam Goreng', 'Gorengan', 'Nasi Goreng']\n"
     ]
    }
   ],
   "source": [
    "menu_resto = ['Ayam Goreng', 'Gorengan', 'Nasi Goreng', 'Rendang', 'Maya Otos']\n",
    "\n",
    "filter_menu = menu_goreng(menu = menu_resto)\n",
    "\n",
    "print(filter_menu)"
   ]
  },
  {
   "cell_type": "code",
   "execution_count": 53,
   "metadata": {},
   "outputs": [
    {
     "name": "stdout",
     "output_type": "stream",
     "text": [
      "Jika jaraknya = 5 km maka tarifnya = 32500\n",
      "Jika jaraknya = 3 km maka tarifnya = 22500\n",
      "Jika jaraknya = 6 km maka tarifnya = 37500\n",
      "Jika jaraknya = 7 km maka tarifnya = 42500\n",
      "Jika jaraknya = 9 km maka tarifnya = 52500\n"
     ]
    }
   ],
   "source": [
    "# Mendefinisikan dulu fungsi dengan nama tarif_taksi dengan argumen jarak\n",
    "def tarif_taksi(jarak):\n",
    "    biaya = (jarak*5000) + 7500\n",
    "    return(biaya)\n",
    "\n",
    "# Definisikan nilai-nilai yang akan dihitung\n",
    "jarak = [5, 3, 6, 7, 9]\n",
    "\n",
    "# Hitung argo taksi\n",
    "for dist in jarak:\n",
    "    argo = tarif_taksi(dist)\n",
    "    print('Jika jaraknya =', dist, 'km maka tarifnya =', argo)"
   ]
  },
  {
   "cell_type": "code",
   "execution_count": 58,
   "metadata": {},
   "outputs": [
    {
     "name": "stdout",
     "output_type": "stream",
     "text": [
      "*\n",
      "\n",
      "**\n",
      "\n",
      "***\n",
      "\n",
      "****\n",
      "\n",
      "*****\n",
      "\n"
     ]
    }
   ],
   "source": [
    "# DQChallenge 1 : Perbaiki sintaks\n",
    "\n",
    "'''\n",
    "    Fungsi dibawah ini digunakan untuk membuat tumpukan bintang\n",
    "    yang membentuk segitiga siku-siku dengan banyak bintang ter-\n",
    "    urut ke-bawah.\n",
    "    \n",
    "    Contoh : \n",
    "    \n",
    "    Ketika dipanggil bintang_segitiga(4) maka output yang keluar adalah\n",
    "    \n",
    "    *\n",
    "    **\n",
    "    ***\n",
    "    ****\n",
    "    \n",
    "    Problem : Masalah yang dihadapi adalah sintaks yang ditulis dibawah ini masih ada bagian yang kurang tepat, \n",
    "    Help us to try to fix this!\n",
    "'''\n",
    "\n",
    "def bintang_segitiga(panjangtumpukan):\n",
    "    for i in range(panjangtumpukan):\n",
    "        for j in range(panjangtumpukan):\n",
    "            if(i >= j):\n",
    "                print('*', end = '')\n",
    "        print('\\n')\n",
    "            \n",
    "bintang_segitiga(5)    "
   ]
  },
  {
   "cell_type": "markdown",
   "metadata": {},
   "source": [
    "#### **3. Default Argument**"
   ]
  },
  {
   "cell_type": "code",
   "execution_count": 60,
   "metadata": {},
   "outputs": [],
   "source": [
    "# Definisikan fungsi\n",
    "\n",
    "def tampilkan_data(nama = 'Shiva', umur = 21):\n",
    "    data = f\"Panggil aku {nama}, paman! Umurku {umur} tahun \"\n",
    "    return (data)"
   ]
  },
  {
   "cell_type": "code",
   "execution_count": 61,
   "metadata": {},
   "outputs": [
    {
     "name": "stdout",
     "output_type": "stream",
     "text": [
      "Panggil aku Shiva, paman! Umurku 21 tahun \n"
     ]
    }
   ],
   "source": [
    "''' Jika tidak ada assignment argumen saat fungsi dipanggil, maka argumen akan menampilkan setting defaultnya '''\n",
    "\n",
    "# Assignment hasil pemanggilan fungsi ke dalam sebuah variabel\n",
    "data = tampilkan_data()\n",
    "\n",
    "# Tampilkan hasil\n",
    "print(data)"
   ]
  },
  {
   "cell_type": "code",
   "execution_count": 62,
   "metadata": {},
   "outputs": [
    {
     "name": "stdout",
     "output_type": "stream",
     "text": [
      "Panggil aku Bambang, paman! Umurku 21 tahun \n"
     ]
    }
   ],
   "source": [
    "''' Jika terdapat satu atau lebih assignment pada argumen tertentu, maka nilai argumen akan berubah sesuai assignmentnya '''\n",
    "\n",
    "# Assignment hasil pemanggilan fungsi ke dalam sebuah variabel\n",
    "data = tampilkan_data(nama = 'Bambang')\n",
    "\n",
    "# Tampilkan hasil\n",
    "print(data)"
   ]
  },
  {
   "cell_type": "code",
   "execution_count": 63,
   "metadata": {},
   "outputs": [
    {
     "name": "stdout",
     "output_type": "stream",
     "text": [
      "Panggil aku Mawar, paman! Umurku 17 tahun \n"
     ]
    }
   ],
   "source": [
    "''' Memanggil fungsi dengan assignment argumen '''\n",
    "\n",
    "# Assignment hasil pemanggilan fungsi ke dalam sebuah variabel\n",
    "data = tampilkan_data(nama = 'Mawar', umur = 17)\n",
    "\n",
    "# Tampilkan hasil\n",
    "print(data)"
   ]
  },
  {
   "cell_type": "markdown",
   "metadata": {},
   "source": [
    "#### **4. Multiple Return**"
   ]
  },
  {
   "cell_type": "code",
   "execution_count": 64,
   "metadata": {},
   "outputs": [],
   "source": [
    "# Definsikan sebuah fungsi \n",
    "\n",
    "def umur_15_tahun_lagi(umur):\n",
    "    umur_sekarang = umur\n",
    "    umur_plus_15 = umur + 15\n",
    "    return (umur_sekarang, umur_plus_15)"
   ]
  },
  {
   "cell_type": "code",
   "execution_count": 66,
   "metadata": {},
   "outputs": [
    {
     "name": "stdout",
     "output_type": "stream",
     "text": [
      "Umur saat ini adalah 17 tahun, dan umur 15 tahun lagi adalah 32 tahun\n"
     ]
    }
   ],
   "source": [
    "# Assignment variabel saat pemanggilan fungsi\n",
    "x, y = umur_15_tahun_lagi(17)\n",
    "\n",
    "# Tampilkan hasilnya\n",
    "print(f\"Umur saat ini adalah {x} tahun, dan umur 15 tahun lagi adalah {y} tahun\")"
   ]
  },
  {
   "cell_type": "code",
   "execution_count": 67,
   "metadata": {},
   "outputs": [
    {
     "name": "stdout",
     "output_type": "stream",
     "text": [
      "Dengan jarak = 10 maka argo1 = 57500 dan argo2 = 56000\n"
     ]
    }
   ],
   "source": [
    "# Multiple Return\n",
    "def tarif_taksi(jarak):\n",
    "    biaya1 = (jarak*5000) + 7500\n",
    "    biaya2 = (jarak*5000) + 6000\n",
    "    return(biaya1, biaya2)\n",
    "\n",
    "distance = 10\n",
    "\n",
    "argo1, argo2 = tarif_taksi(distance)\n",
    "\n",
    "print('Dengan jarak =',distance, 'maka argo1 =', argo1, 'dan argo2 =', argo2)"
   ]
  },
  {
   "cell_type": "markdown",
   "metadata": {},
   "source": [
    "#### **5. Lambda Function**"
   ]
  },
  {
   "cell_type": "code",
   "execution_count": 68,
   "metadata": {},
   "outputs": [
    {
     "name": "stdout",
     "output_type": "stream",
     "text": [
      "Pangkat tiga dari [-2, -1, 0, 1, 2] adalah [-8, -1, 0, 1, 8]\n"
     ]
    }
   ],
   "source": [
    "''' Perbandingan fungsi biasa dan fungsi lambda '''\n",
    "\n",
    "# Definsikan sebuah fungsi\n",
    "def fungsi_kubik(list_angka):\n",
    "    hasil = list()\n",
    "    for angka in list_angka:\n",
    "        pangkat_tiga = angka ** 3\n",
    "        hasil.append(pangkat_tiga)\n",
    "    return (hasil)\n",
    "\n",
    "# Buat daftar angka\n",
    "daftar_angka = [-2, -1, 0, 1, 2]\n",
    "\n",
    "# Panggil fungsi\n",
    "daftar_angka_pangkat_tiga = fungsi_kubik(daftar_angka)\n",
    "\n",
    "# Tampilkan hasil\n",
    "print(f'Pangkat tiga dari {daftar_angka} adalah {daftar_angka_pangkat_tiga}')"
   ]
  },
  {
   "cell_type": "code",
   "execution_count": 69,
   "metadata": {},
   "outputs": [
    {
     "name": "stdout",
     "output_type": "stream",
     "text": [
      "Pangkat tiga dari [-2, -1, 0, 1, 2] adalah [-8, -1, 0, 1, 8]\n"
     ]
    }
   ],
   "source": [
    "# Buat sebuah fungsi lambda dan assign nilainya ke sebuah variabel\n",
    "daftar_angka_pangkat_tiga = list(map(lambda x : x ** 3, [-2, -1, 0, 1, 2]))\n",
    "\n",
    "# Tampilkan hasilnya\n",
    "print(f'Pangkat tiga dari {daftar_angka} adalah {daftar_angka_pangkat_tiga}')"
   ]
  },
  {
   "cell_type": "code",
   "execution_count": 70,
   "metadata": {},
   "outputs": [],
   "source": [
    "# Definsikan fungsi lambda\n",
    "hitung_pangkat_tiga = lambda x : x ** 3"
   ]
  },
  {
   "cell_type": "code",
   "execution_count": 71,
   "metadata": {},
   "outputs": [
    {
     "name": "stdout",
     "output_type": "stream",
     "text": [
      "Pangkat tiga dari [-2, -1, 0, 1, 2] adalah [-8, -1, 0, 1, 8]\n"
     ]
    }
   ],
   "source": [
    "''' Aplikasikan fungsi lambda yang sudah didefinisikan '''\n",
    "\n",
    "daftar_angka = [-2, -1, 0, 1, 2]\n",
    "\n",
    "list_angka_pangkat_tiga = list(map(hitung_pangkat_tiga, daftar_angka))\n",
    "\n",
    "print(f'Pangkat tiga dari {daftar_angka} adalah {list_angka_pangkat_tiga}')"
   ]
  },
  {
   "cell_type": "code",
   "execution_count": 72,
   "metadata": {},
   "outputs": [
    {
     "data": {
      "text/plain": [
       "64"
      ]
     },
     "execution_count": 72,
     "metadata": {},
     "output_type": "execute_result"
    }
   ],
   "source": [
    "# Jika tanpa fungsi map, maka dapat pula digunakan sebagai fungsi dengan input non-iterable\n",
    "hitung_pangkat_tiga(4)"
   ]
  },
  {
   "cell_type": "code",
   "execution_count": 73,
   "metadata": {},
   "outputs": [],
   "source": [
    "# Bahkan penamaan fungsi dapat dialokasikan ke nama yang lain\n",
    "cubic_func = hitung_pangkat_tiga"
   ]
  },
  {
   "cell_type": "code",
   "execution_count": 74,
   "metadata": {},
   "outputs": [
    {
     "name": "stdout",
     "output_type": "stream",
     "text": [
      "Pangkat tiga dari [-2, -1, 0, 1, 2] adalah [-8, -1, 0, 1, 8]\n"
     ]
    }
   ],
   "source": [
    "''' Aplikasikan fungsi lambda yang sudah diubah namanya '''\n",
    "\n",
    "daftar_angka = [-2, -1, 0, 1, 2]\n",
    "\n",
    "list_angka_pangkat_tiga = list(map(cubic_func, daftar_angka))\n",
    "\n",
    "print(f'Pangkat tiga dari {daftar_angka} adalah {list_angka_pangkat_tiga}')"
   ]
  },
  {
   "cell_type": "code",
   "execution_count": 75,
   "metadata": {},
   "outputs": [
    {
     "data": {
      "text/plain": [
       "1000"
      ]
     },
     "execution_count": 75,
     "metadata": {},
     "output_type": "execute_result"
    }
   ],
   "source": [
    "# Jika tanpa fungsi map, maka dapat pula digunakan sebagai fungsi dengan input non-iterable\n",
    "cubic_func(10)"
   ]
  },
  {
   "cell_type": "markdown",
   "id": "66c59dee",
   "metadata": {
    "id": "66c59dee"
   },
   "source": [
    "Tidak hanya digunakan pada angka, fungsi lambda dan map juga dapat digunakan untuk selain angka"
   ]
  },
  {
   "cell_type": "code",
   "execution_count": 76,
   "id": "24a57367",
   "metadata": {
    "id": "24a57367",
    "outputId": "e1fee9a9-acf4-437a-fbe4-e3ed59d3808c"
   },
   "outputs": [
    {
     "name": "stdout",
     "output_type": "stream",
     "text": [
      "['dqaksara@dqlab.id', 'dqsunyi@dqlab.id', 'dqantara@dqlab.id', 'dqsendja@dqlab.id', 'dqkroma@dqlab.id']\n"
     ]
    }
   ],
   "source": [
    "\"\"\" Pembuatan domain email secara otomatis dari nama yang diberikan \"\"\"\n",
    "\n",
    "list_pelanggan = ['AKSARA', 'Sunyi', 'Antara', 'SENDJA', 'kroma']\n",
    "\n",
    "pelanggan_dqsquad = list(map(lambda x : 'dq' + x.lower() + '@dqlab.id', list_pelanggan))\n",
    "\n",
    "print(pelanggan_dqsquad)"
   ]
  }
 ],
 "metadata": {
  "kernelspec": {
   "display_name": "Python 3.9.7 ('base')",
   "language": "python",
   "name": "python3"
  },
  "language_info": {
   "codemirror_mode": {
    "name": "ipython",
    "version": 3
   },
   "file_extension": ".py",
   "mimetype": "text/x-python",
   "name": "python",
   "nbconvert_exporter": "python",
   "pygments_lexer": "ipython3",
   "version": "3.9.7"
  },
  "orig_nbformat": 4,
  "vscode": {
   "interpreter": {
    "hash": "ad2bdc8ecc057115af97d19610ffacc2b4e99fae6737bb82f5d7fb13d2f2c186"
   }
  }
 },
 "nbformat": 4,
 "nbformat_minor": 2
}
