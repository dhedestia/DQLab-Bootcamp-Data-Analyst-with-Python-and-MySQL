{
 "cells": [
  {
   "cell_type": "code",
   "execution_count": 47,
   "metadata": {},
   "outputs": [
    {
     "name": "stdout",
     "output_type": "stream",
     "text": [
      "    nama  tinggi_badan\n",
      "0  Yanto           190\n",
      "1  Yanti           135\n",
      "2   Budi           170\n"
     ]
    }
   ],
   "source": [
    "import pandas\n",
    "\n",
    "# Buat dataframe dengan nama `data`\n",
    "data = pandas.DataFrame(\n",
    "    {\n",
    "        'nama' : ['Yanto', 'Yanti', 'Budi'], \n",
    "        'tinggi_badan' : [190, 135, 170]\n",
    "     }\n",
    ")\n",
    "\n",
    "print(data)"
   ]
  },
  {
   "cell_type": "code",
   "execution_count": 48,
   "metadata": {},
   "outputs": [
    {
     "data": {
      "text/html": [
       "<div>\n",
       "<style scoped>\n",
       "    .dataframe tbody tr th:only-of-type {\n",
       "        vertical-align: middle;\n",
       "    }\n",
       "\n",
       "    .dataframe tbody tr th {\n",
       "        vertical-align: top;\n",
       "    }\n",
       "\n",
       "    .dataframe thead th {\n",
       "        text-align: right;\n",
       "    }\n",
       "</style>\n",
       "<table border=\"1\" class=\"dataframe\">\n",
       "  <thead>\n",
       "    <tr style=\"text-align: right;\">\n",
       "      <th></th>\n",
       "      <th>nama</th>\n",
       "      <th>tinggi_badan</th>\n",
       "    </tr>\n",
       "  </thead>\n",
       "  <tbody>\n",
       "    <tr>\n",
       "      <th>0</th>\n",
       "      <td>Yanti</td>\n",
       "      <td>135</td>\n",
       "    </tr>\n",
       "    <tr>\n",
       "      <th>1</th>\n",
       "      <td>Budi</td>\n",
       "      <td>170</td>\n",
       "    </tr>\n",
       "    <tr>\n",
       "      <th>2</th>\n",
       "      <td>Yanto</td>\n",
       "      <td>190</td>\n",
       "    </tr>\n",
       "  </tbody>\n",
       "</table>\n",
       "</div>"
      ],
      "text/plain": [
       "    nama  tinggi_badan\n",
       "0  Yanti           135\n",
       "1   Budi           170\n",
       "2  Yanto           190"
      ]
     },
     "metadata": {},
     "output_type": "display_data"
    }
   ],
   "source": [
    "# Mengurutkan data secara ascending\n",
    "data = data.sort_values(by = ['tinggi_badan']).reset_index(drop = True)\n",
    "\n",
    "# Tampilkan hasil\n",
    "display(data)\n",
    "\n",
    "# sort_values: sorting by column, no index juga ikutan berubah keacak\n",
    "# reset_index: buat ngereset index nya jadi beraturan mulai dari 1 lagi\n",
    "# bedanya print sama display? kalo print ga muncul garis2nya"
   ]
  },
  {
   "cell_type": "code",
   "execution_count": 49,
   "metadata": {},
   "outputs": [],
   "source": [
    "# Membuat class:\n",
    "class Person():\n",
    "    pass # pass ini maksudnya cuma utk ngeskip code ke bawah"
   ]
  },
  {
   "cell_type": "code",
   "execution_count": 50,
   "metadata": {},
   "outputs": [],
   "source": [
    "# Menambahkan atribut:\n",
    "class Person():\n",
    "\n",
    "    def __init__(self, name, gender):\n",
    "        self.nama = name # nama, jeniskelamin ini dinamakan atribut, self bisa diganti, tapi style nya python biasanya pakai self\n",
    "        self.jeniskelamin = gender # name, gender ini dinamakan parameter fungsi\n",
    "        # jadi yg ada self ini yg bisa dipanggil, self itu adalah variable yg nempel sama objek\n",
    "        # atribut sama parameter fungsi harus beda? terserah sebenernya sama boleh, beda boleh"
   ]
  },
  {
   "cell_type": "code",
   "execution_count": 51,
   "metadata": {},
   "outputs": [],
   "source": [
    "# Membuat objek:\n",
    "person_1 = Person('Anna', 'Female')\n",
    "person_2 = Person('Andi', 'Male')\n",
    "\n"
   ]
  },
  {
   "cell_type": "code",
   "execution_count": 52,
   "metadata": {},
   "outputs": [
    {
     "name": "stdout",
     "output_type": "stream",
     "text": [
      "<class '__main__.Person'>\n",
      "<class '__main__.Person'>\n"
     ]
    }
   ],
   "source": [
    "# Memeriksa nama class\n",
    "\n",
    "print(type(person_1))\n",
    "print(type(person_2))"
   ]
  },
  {
   "cell_type": "code",
   "execution_count": 53,
   "metadata": {},
   "outputs": [
    {
     "name": "stdout",
     "output_type": "stream",
     "text": [
      "Anna\n"
     ]
    }
   ],
   "source": [
    "# Memanggil atribut (atribut nama dari class Person):\n",
    "nama_person_1 = person_1.nama\n",
    "\n",
    "print(nama_person_1)"
   ]
  },
  {
   "cell_type": "code",
   "execution_count": 54,
   "metadata": {},
   "outputs": [],
   "source": [
    "# Menambahkan private atribut:\n",
    "class Person():\n",
    "\n",
    "    def __init__(self, name, gender, age):\n",
    "        self.nama = name\n",
    "        self.jeniskelamin = gender\n",
    "        # Private atribute (encapsulation)\n",
    "        self.__umur = age"
   ]
  },
  {
   "cell_type": "code",
   "execution_count": 55,
   "metadata": {},
   "outputs": [
    {
     "ename": "AttributeError",
     "evalue": "'Person' object has no attribute 'umur'",
     "output_type": "error",
     "traceback": [
      "\u001b[1;31m---------------------------------------------------------------------------\u001b[0m",
      "\u001b[1;31mAttributeError\u001b[0m                            Traceback (most recent call last)",
      "\u001b[1;32mC:\\Users\\DESTIA~1\\AppData\\Local\\Temp/ipykernel_18916/3300946428.py\u001b[0m in \u001b[0;36m<module>\u001b[1;34m\u001b[0m\n\u001b[0;32m      1\u001b[0m \u001b[0mperson_1\u001b[0m \u001b[1;33m=\u001b[0m \u001b[0mPerson\u001b[0m\u001b[1;33m(\u001b[0m\u001b[1;34m'Anna'\u001b[0m\u001b[1;33m,\u001b[0m \u001b[1;34m'Female'\u001b[0m\u001b[1;33m,\u001b[0m \u001b[1;36m29\u001b[0m\u001b[1;33m)\u001b[0m\u001b[1;33m\u001b[0m\u001b[1;33m\u001b[0m\u001b[0m\n\u001b[0;32m      2\u001b[0m \u001b[1;33m\u001b[0m\u001b[0m\n\u001b[1;32m----> 3\u001b[1;33m \u001b[0mperson_1\u001b[0m\u001b[1;33m.\u001b[0m\u001b[0mumur\u001b[0m\u001b[1;33m\u001b[0m\u001b[1;33m\u001b[0m\u001b[0m\n\u001b[0m",
      "\u001b[1;31mAttributeError\u001b[0m: 'Person' object has no attribute 'umur'"
     ]
    }
   ],
   "source": [
    "person_1 = Person('Anna', 'Female', 29)\n",
    "\n",
    "person_1.umur"
   ]
  },
  {
   "cell_type": "markdown",
   "metadata": {},
   "source": [
    "#### **Class**"
   ]
  },
  {
   "cell_type": "code",
   "execution_count": 56,
   "metadata": {},
   "outputs": [],
   "source": [
    "''' Membuat Class beserta Konstruktornya '''\n",
    "\n",
    "#Buat class dengan nama Person\n",
    "class Person():\n",
    " \n",
    "    # Konstruktor init\n",
    "    def __init__(self, name, age):\n",
    "        self.name = name\n",
    "        self.age = age\n",
    "        self.spesies = 'Homo sapiens'\n",
    "        kingdom = 'Animalia'"
   ]
  },
  {
   "cell_type": "code",
   "execution_count": 57,
   "id": "21b05631",
   "metadata": {},
   "outputs": [
    {
     "name": "stdout",
     "output_type": "stream",
     "text": [
      "<__main__.Person object at 0x000002A2A89D8FD0>\n"
     ]
    }
   ],
   "source": [
    "''' Membuat object dari Class yang telah dibuat '''\n",
    "\n",
    "# Buat sebuah objek\n",
    "person1 = Person(name = 'Shiva', age = 5)\n",
    "\n",
    "# Cetak object\n",
    "print(person1)"
   ]
  },
  {
   "cell_type": "code",
   "execution_count": 58,
   "metadata": {},
   "outputs": [
    {
     "name": "stdout",
     "output_type": "stream",
     "text": [
      "Homo sapiens\n"
     ]
    }
   ],
   "source": [
    "# Buat sebuah objek\n",
    "person1 = Person(name = 'Shiva', age = 5)\n",
    "\n",
    "# Akses atribut spesies pada objek\n",
    "print(person1.spesies)"
   ]
  },
  {
   "cell_type": "code",
   "execution_count": 59,
   "metadata": {},
   "outputs": [
    {
     "ename": "AttributeError",
     "evalue": "'Person' object has no attribute 'kingdom'",
     "output_type": "error",
     "traceback": [
      "\u001b[1;31m---------------------------------------------------------------------------\u001b[0m",
      "\u001b[1;31mAttributeError\u001b[0m                            Traceback (most recent call last)",
      "\u001b[1;32mC:\\Users\\DESTIA~1\\AppData\\Local\\Temp/ipykernel_18916/3554819552.py\u001b[0m in \u001b[0;36m<module>\u001b[1;34m\u001b[0m\n\u001b[0;32m      3\u001b[0m \u001b[1;33m\u001b[0m\u001b[0m\n\u001b[0;32m      4\u001b[0m \u001b[1;31m# Akses atribut kingdom pada objek\u001b[0m\u001b[1;33m\u001b[0m\u001b[1;33m\u001b[0m\u001b[0m\n\u001b[1;32m----> 5\u001b[1;33m \u001b[0mperson1\u001b[0m\u001b[1;33m.\u001b[0m\u001b[0mkingdom\u001b[0m\u001b[1;33m\u001b[0m\u001b[1;33m\u001b[0m\u001b[0m\n\u001b[0m",
      "\u001b[1;31mAttributeError\u001b[0m: 'Person' object has no attribute 'kingdom'"
     ]
    }
   ],
   "source": [
    "# Buat sebuah objek\n",
    "person1 = Person(name = 'Shiva', age = 5)\n",
    "    \n",
    "# Akses atribut kingdom pada objek\n",
    "person1.kingdom"
   ]
  },
  {
   "cell_type": "markdown",
   "id": "7bc258c8",
   "metadata": {},
   "source": [
    "<h3 style=\"color:green\"> Tugas 1 </h3>\n",
    "\n",
    "Buatlah sebuah class dengan nama Car, lalu buat konstruktor __init__ dengan argumen nama mobil, warna, tahun keluar. Buat argumen self pada setiap argumen didalam konstruktor init"
   ]
  },
  {
   "cell_type": "code",
   "execution_count": 60,
   "metadata": {},
   "outputs": [],
   "source": [
    "class Car():\n",
    "    \n",
    "    def __init__(self, name, color, year):\n",
    "        self.name = name\n",
    "        self.color = color\n",
    "        self.year = year"
   ]
  },
  {
   "cell_type": "markdown",
   "id": "47866b32",
   "metadata": {},
   "source": [
    "<h3 style=\"color:green\"> Tugas 2 </h3>\n",
    "\n",
    "<ol>\n",
    "    <li>Buatlah sebuah class dengan nama Car, lalu buat konstruktor __init__ dengan argumen nama mobil, warna, tahun keluar. Buat argumen self pada setiap argumen didalam konstruktor init.</li>\n",
    "    <li>Buat object dari class yang dibuat dengan menginisialisasikan nama mobil = 'esemka', warna = 'putih', tahun keluar = 2019</li>\n",
    "    <li>Tampilkan objek yang telah dibuat pada konsol</li>\n",
    "</ol>"
   ]
  },
  {
   "cell_type": "code",
   "execution_count": 61,
   "metadata": {},
   "outputs": [
    {
     "name": "stdout",
     "output_type": "stream",
     "text": [
      "<__main__.Car object at 0x000002A2A8946EE0>\n"
     ]
    }
   ],
   "source": [
    "class Car():\n",
    "    \n",
    "    def __init__(self, name, color, year):\n",
    "        self.name = name\n",
    "        self.color = color\n",
    "        self.year = year\n",
    "\n",
    "car_1 = Car('Esemka', 'White', 2019)\n",
    "\n",
    "print(car_1)"
   ]
  },
  {
   "cell_type": "markdown",
   "id": "d09ba016",
   "metadata": {},
   "source": [
    "<h3 style=\"color:green\"> Tugas 3 </h3>\n",
    "\n",
    "<ol>\n",
    "    <li>Buatlah sebuah class dengan nama Car, lalu buat konstruktor __init__ dengan argumen nama mobil, warna, tahun keluar. Buat argumen self pada setiap argumen didalam konstruktor init.</li>\n",
    "    <li>Buat object dari class yang dibuat dengan menginisialisasikan nama mobil = 'esemka', warna = 'putih', tahun keluar = 2019</li>\n",
    "    <li>Tampilkan setiap atribut yang ada pada objek yang telah dibuat</li>\n",
    "</ol>"
   ]
  },
  {
   "cell_type": "code",
   "execution_count": 62,
   "metadata": {},
   "outputs": [
    {
     "name": "stdout",
     "output_type": "stream",
     "text": [
      "Esemka\n",
      "White\n",
      "2019\n"
     ]
    }
   ],
   "source": [
    "class Car():\n",
    "    \n",
    "    def __init__(self, name, color, year):\n",
    "        self.name = name\n",
    "        self.color = color\n",
    "        self.year = year\n",
    "\n",
    "car_1 = Car('Esemka', 'White', 2019)\n",
    "\n",
    "print(car_1.name)\n",
    "print(car_1.color)\n",
    "print(car_1.year)"
   ]
  },
  {
   "cell_type": "markdown",
   "metadata": {},
   "source": [
    "#### **Encapsulation**"
   ]
  },
  {
   "cell_type": "code",
   "execution_count": 63,
   "id": "6dd84e07",
   "metadata": {},
   "outputs": [],
   "source": [
    "#Buat class dengan nama Person\n",
    "class Person():\n",
    " \n",
    "    # Konstruktor init\n",
    "    def __init__(self, name, age):\n",
    "        # Public attribute (atribut yang dapat diakses bebas)\n",
    "        self.name = name\n",
    "        self.age = age\n",
    "        # Private attribut (attribute yang hanya bisa diakses dalam script Class)\n",
    "        self.__spesies = 'Homo sapiens'\n",
    "        # Bukan attribute namun variabel biasa\n",
    "        kingdom = 'Animalia'"
   ]
  },
  {
   "cell_type": "code",
   "execution_count": 64,
   "id": "ce267881",
   "metadata": {},
   "outputs": [
    {
     "name": "stdout",
     "output_type": "stream",
     "text": [
      "Shiva\n"
     ]
    }
   ],
   "source": [
    "# Buat sebuah objek\n",
    "person1 = Person(name = 'Shiva', age = 5)\n",
    "\n",
    "# Akses atribut name pada objek\n",
    "print(person1.name)"
   ]
  },
  {
   "cell_type": "code",
   "execution_count": 65,
   "id": "1c8f96fa",
   "metadata": {},
   "outputs": [
    {
     "ename": "AttributeError",
     "evalue": "'Person' object has no attribute 'spesies'",
     "output_type": "error",
     "traceback": [
      "\u001b[1;31m---------------------------------------------------------------------------\u001b[0m",
      "\u001b[1;31mAttributeError\u001b[0m                            Traceback (most recent call last)",
      "\u001b[1;32mC:\\Users\\DESTIA~1\\AppData\\Local\\Temp/ipykernel_18916/2016704384.py\u001b[0m in \u001b[0;36m<module>\u001b[1;34m\u001b[0m\n\u001b[0;32m      3\u001b[0m \u001b[1;33m\u001b[0m\u001b[0m\n\u001b[0;32m      4\u001b[0m \u001b[1;31m# Akses atribut spesies pada objek\u001b[0m\u001b[1;33m\u001b[0m\u001b[1;33m\u001b[0m\u001b[0m\n\u001b[1;32m----> 5\u001b[1;33m \u001b[0mprint\u001b[0m\u001b[1;33m(\u001b[0m\u001b[0mperson1\u001b[0m\u001b[1;33m.\u001b[0m\u001b[0mspesies\u001b[0m\u001b[1;33m)\u001b[0m\u001b[1;33m\u001b[0m\u001b[1;33m\u001b[0m\u001b[0m\n\u001b[0m",
      "\u001b[1;31mAttributeError\u001b[0m: 'Person' object has no attribute 'spesies'"
     ]
    }
   ],
   "source": [
    "# Buat sebuah objek\n",
    "person1 = Person(name = 'Shiva', age = 5)\n",
    "\n",
    "# Akses atribut spesies pada objek\n",
    "print(person1.spesies)"
   ]
  },
  {
   "cell_type": "code",
   "execution_count": 66,
   "id": "047875da",
   "metadata": {},
   "outputs": [
    {
     "ename": "AttributeError",
     "evalue": "'Person' object has no attribute '__spesies'",
     "output_type": "error",
     "traceback": [
      "\u001b[1;31m---------------------------------------------------------------------------\u001b[0m",
      "\u001b[1;31mAttributeError\u001b[0m                            Traceback (most recent call last)",
      "\u001b[1;32mC:\\Users\\DESTIA~1\\AppData\\Local\\Temp/ipykernel_18916/755103883.py\u001b[0m in \u001b[0;36m<module>\u001b[1;34m\u001b[0m\n\u001b[0;32m      3\u001b[0m \u001b[1;33m\u001b[0m\u001b[0m\n\u001b[0;32m      4\u001b[0m \u001b[1;31m# Akses atribut spesies pada objek\u001b[0m\u001b[1;33m\u001b[0m\u001b[1;33m\u001b[0m\u001b[0m\n\u001b[1;32m----> 5\u001b[1;33m \u001b[0mprint\u001b[0m\u001b[1;33m(\u001b[0m\u001b[0mperson1\u001b[0m\u001b[1;33m.\u001b[0m\u001b[0m__spesies\u001b[0m\u001b[1;33m)\u001b[0m\u001b[1;33m\u001b[0m\u001b[1;33m\u001b[0m\u001b[0m\n\u001b[0m",
      "\u001b[1;31mAttributeError\u001b[0m: 'Person' object has no attribute '__spesies'"
     ]
    }
   ],
   "source": [
    "# Buat sebuah objek\n",
    "person1 = Person(name = 'Shiva', age = 5)\n",
    "\n",
    "# Akses atribut spesies pada objek\n",
    "print(person1.__spesies)"
   ]
  },
  {
   "cell_type": "code",
   "execution_count": 67,
   "id": "86af36b7",
   "metadata": {},
   "outputs": [
    {
     "name": "stdout",
     "output_type": "stream",
     "text": [
      "Nama awal : Shiva\n",
      "\n",
      "Nama update : Shivu\n"
     ]
    }
   ],
   "source": [
    "''' Attribut dari sebuah class dapat diupdate nilainya '''\n",
    "\n",
    "# Buat sebuah objek\n",
    "person1 = Person(name = 'Shiva', age = 5)\n",
    "\n",
    "# Akses atribut spesies pada objek\n",
    "print(f\"Nama awal : {person1.name}\")\n",
    "\n",
    "# Update atribut nama\n",
    "person1.name = 'Shivu'\n",
    "\n",
    "# Akses atribut spesies pada objek\n",
    "print(f\"\\nNama update : {person1.name}\")"
   ]
  },
  {
   "cell_type": "markdown",
   "id": "4365d78d",
   "metadata": {},
   "source": [
    "<h3 style=\"color:green\"> Tugas 4 </h3>\n",
    "\n",
    "<ol>\n",
    "    <li>Buatlah sebuah class dengan nama Car, lalu buat konstruktor __init__ dengan argumen nama mobil, warna, tahun keluar. Buat argumen self pada setiap argumen didalam konstruktor init. <b>Dengan ketentuan semua atribut bersifat publik kecuali tahun keluar bersifat private</b></li>\n",
    "    <li>Buat object dari class yang dibuat dengan menginisialisasikan nama mobil = 'esemka', warna = 'putih', tahun keluar = 2019</li>\n",
    "    <li>Tampilkan setiap atribut yang ada pada objek yang telah dibuat baik publik maupun private</li>\n",
    "</ol>"
   ]
  },
  {
   "cell_type": "code",
   "execution_count": 68,
   "metadata": {},
   "outputs": [
    {
     "name": "stdout",
     "output_type": "stream",
     "text": [
      "Esemka\n",
      "White\n"
     ]
    },
    {
     "ename": "AttributeError",
     "evalue": "'Car' object has no attribute '__year'",
     "output_type": "error",
     "traceback": [
      "\u001b[1;31m---------------------------------------------------------------------------\u001b[0m",
      "\u001b[1;31mAttributeError\u001b[0m                            Traceback (most recent call last)",
      "\u001b[1;32mC:\\Users\\DESTIA~1\\AppData\\Local\\Temp/ipykernel_18916/1191129428.py\u001b[0m in \u001b[0;36m<module>\u001b[1;34m\u001b[0m\n\u001b[0;32m     10\u001b[0m \u001b[0mprint\u001b[0m\u001b[1;33m(\u001b[0m\u001b[0mcar_1\u001b[0m\u001b[1;33m.\u001b[0m\u001b[0mname\u001b[0m\u001b[1;33m)\u001b[0m\u001b[1;33m\u001b[0m\u001b[1;33m\u001b[0m\u001b[0m\n\u001b[0;32m     11\u001b[0m \u001b[0mprint\u001b[0m\u001b[1;33m(\u001b[0m\u001b[0mcar_1\u001b[0m\u001b[1;33m.\u001b[0m\u001b[0mcolor\u001b[0m\u001b[1;33m)\u001b[0m\u001b[1;33m\u001b[0m\u001b[1;33m\u001b[0m\u001b[0m\n\u001b[1;32m---> 12\u001b[1;33m \u001b[0mprint\u001b[0m\u001b[1;33m(\u001b[0m\u001b[0mcar_1\u001b[0m\u001b[1;33m.\u001b[0m\u001b[0m__year\u001b[0m\u001b[1;33m)\u001b[0m\u001b[1;33m\u001b[0m\u001b[1;33m\u001b[0m\u001b[0m\n\u001b[0m",
      "\u001b[1;31mAttributeError\u001b[0m: 'Car' object has no attribute '__year'"
     ]
    }
   ],
   "source": [
    "class Car():\n",
    "    \n",
    "    def __init__(self, name, color, year):\n",
    "        self.name = name\n",
    "        self.color = color\n",
    "        self.__year = year\n",
    "\n",
    "car_1 = Car('Esemka', 'White', 2019)\n",
    "\n",
    "print(car_1.name)\n",
    "print(car_1.color)\n",
    "print(car_1.__year)"
   ]
  },
  {
   "cell_type": "markdown",
   "metadata": {},
   "source": [
    "#### **Method (Behavior)**"
   ]
  },
  {
   "cell_type": "code",
   "execution_count": 70,
   "id": "d0acdbd9",
   "metadata": {},
   "outputs": [],
   "source": [
    "#Buat class dengan nama Person\n",
    "class Person():\n",
    " \n",
    "    # Konstruktor init\n",
    "    def __init__(self, name, age):\n",
    "        self.name = name\n",
    "        self.age = age\n",
    "        self.__spesies = 'Homo sapiens'\n",
    "        kingdom = 'Animalia'\n",
    "    \n",
    "    # Buat method tanpa argumen\n",
    "    def say_hello(self):\n",
    "        print(f'Hallo, panggil aku {self.name}! Umurku {self.age} tahun')\n",
    "        print(f'Aku merupakan makhluk hidup dengan kingdom Animalia dan jenis spesies {self.__spesies}')"
   ]
  },
  {
   "cell_type": "code",
   "execution_count": 71,
   "id": "c571b29b",
   "metadata": {},
   "outputs": [
    {
     "name": "stdout",
     "output_type": "stream",
     "text": [
      "Hallo, panggil aku Shiva! Umurku 5 tahun\n",
      "Aku merupakan makhluk hidup dengan kingdom Animalia dan jenis spesies Homo sapiens\n"
     ]
    }
   ],
   "source": [
    "# Buat sebuah objek\n",
    "person1 = Person(name = 'Shiva', age = 5)\n",
    "\n",
    "# Akses atribut spesies pada objek\n",
    "person1.say_hello()"
   ]
  },
  {
   "cell_type": "code",
   "execution_count": 72,
   "id": "061ddca8",
   "metadata": {},
   "outputs": [],
   "source": [
    "#Buat class dengan nama Person\n",
    "class Person():\n",
    " \n",
    "    # Konstruktor init\n",
    "    def __init__(self, name, age):\n",
    "        self.name = name\n",
    "        self.age = age\n",
    "        self.__spesies = 'Homo sapiens'\n",
    "        kingdom = 'Animalia'\n",
    "    \n",
    "    # Buat method tanpa argumen\n",
    "    def say_hello(self):\n",
    "        print(f'Hallo, panggil aku {self.name}! Umurku {self.age} tahun')\n",
    "        print(f'Aku merupakan makhluk hidup dengan kingdom Animalia dan jenis spesies {self.__spesies}')\n",
    "    \n",
    "    # Buat method dengan argumen\n",
    "    def say_hello_to_neighbour(self, neighbourname):\n",
    "        print(f'Hallo. Panggil aku {self.name}, kak {neighbourname}! Umurku {self.age} tahun')\n",
    "        print(f'Aku merupakan makhluk hidup dengan kingdom Animalia dan jenis spesies {self.__spesies}')"
   ]
  },
  {
   "cell_type": "code",
   "execution_count": 73,
   "id": "973af3c9",
   "metadata": {},
   "outputs": [
    {
     "name": "stdout",
     "output_type": "stream",
     "text": [
      "Hallo. Panggil aku Shiva, kak Jill! Umurku 5 tahun\n",
      "Aku merupakan makhluk hidup dengan kingdom Animalia dan jenis spesies Homo sapiens\n"
     ]
    }
   ],
   "source": [
    "# Buat sebuah objek\n",
    "person1 = Person(name = 'Shiva', age = 5)\n",
    "\n",
    "# Akses atribut spesies pada objek\n",
    "person1.say_hello_to_neighbour(neighbourname = 'Jill')"
   ]
  },
  {
   "cell_type": "code",
   "execution_count": 74,
   "id": "138a4d97",
   "metadata": {},
   "outputs": [],
   "source": [
    "#Buat class dengan nama Person\n",
    "class Person():\n",
    " \n",
    "    # Konstruktor init\n",
    "    def __init__(self, name, age):\n",
    "        self.name = name\n",
    "        self.age = age\n",
    "        self.__spesies = 'Homo sapiens'\n",
    "        kingdom = 'Animalia'\n",
    "    \n",
    "    # Buat Class tanpa argumen\n",
    "    def say_hello(self):\n",
    "        print(f'Hallo, panggil aku {self.name}! Umurku {self.age} tahun')\n",
    "        print(f'Aku merupakan makhluk hidup dengan kingdom Animalia dan jenis spesies {self.__spesies}')\n",
    "    \n",
    "    # Buat method dengan argumen\n",
    "    def say_hello_to_neighbour(self, neighbourname):\n",
    "        print(f'Hallo. Panggil aku {self.name}, kak {neighbourname}! Umurku {self.age} tahun')\n",
    "        print(f'Aku merupakan makhluk hidup dengan kingdom Animalia dan jenis spesies {self.__spesies}')\n",
    "    \n",
    "    # Buat method dengan argumen dan dengan return non-self\n",
    "    def usiaku_sekian_tahun_lagi(self, tambahusia):\n",
    "        usia = self.age + tambahusia\n",
    "        return(usia)\n",
    "    \n",
    "    # Buat method dengan argumen dan dengan return self\n",
    "    def tambah_nama_belakang(self, nama_belakang):\n",
    "        self.fullname = self.name + ' ' + nama_belakang\n",
    "        return(self)"
   ]
  },
  {
   "cell_type": "code",
   "execution_count": 75,
   "id": "de32b52b",
   "metadata": {},
   "outputs": [],
   "source": [
    "# Buat sebuah objek\n",
    "person1 = Person(name = 'Shiva', age = 5)"
   ]
  },
  {
   "cell_type": "code",
   "execution_count": 76,
   "id": "1ebe6c36",
   "metadata": {},
   "outputs": [
    {
     "name": "stdout",
     "output_type": "stream",
     "text": [
      "Hallo, panggil aku Shiva! Umurku 5 tahun\n",
      "Aku merupakan makhluk hidup dengan kingdom Animalia dan jenis spesies Homo sapiens\n"
     ]
    }
   ],
   "source": [
    "# Panggil method say_hello (method tanpa argumen tanpa return)\n",
    "person1.say_hello()"
   ]
  },
  {
   "cell_type": "code",
   "execution_count": 77,
   "id": "63701b0b",
   "metadata": {},
   "outputs": [
    {
     "name": "stdout",
     "output_type": "stream",
     "text": [
      "Hallo. Panggil aku Shiva, kak Jill! Umurku 5 tahun\n",
      "Aku merupakan makhluk hidup dengan kingdom Animalia dan jenis spesies Homo sapiens\n"
     ]
    }
   ],
   "source": [
    "# Panggil method say_hello_to_neighbour (method dengan argumen tanpa return)\n",
    "person1.say_hello_to_neighbour(neighbourname = 'Jill')"
   ]
  },
  {
   "cell_type": "code",
   "execution_count": 78,
   "id": "6a27bf85",
   "metadata": {},
   "outputs": [
    {
     "name": "stdout",
     "output_type": "stream",
     "text": [
      "14\n"
     ]
    }
   ],
   "source": [
    "# Panggil method usiaku_sekian_tahun_lagi (method dengan argumen dengan return)\n",
    "usia_tambah = person1.usiaku_sekian_tahun_lagi(tambahusia = 9)\n",
    "print(usia_tambah)"
   ]
  },
  {
   "cell_type": "code",
   "execution_count": 79,
   "id": "70b50d0c",
   "metadata": {},
   "outputs": [
    {
     "name": "stdout",
     "output_type": "stream",
     "text": [
      "<__main__.Person object at 0x000002A2A89EB340>\n"
     ]
    }
   ],
   "source": [
    "# Panggil method nama_lengkap (method dengan argumen dengan return self)\n",
    "nama_panjang = person1.tambah_nama_belakang(nama_belakang = 'Vrindavan')\n",
    "\n",
    "print(nama_panjang)"
   ]
  },
  {
   "cell_type": "code",
   "execution_count": 80,
   "id": "862144c9",
   "metadata": {},
   "outputs": [
    {
     "name": "stdout",
     "output_type": "stream",
     "text": [
      "Shiva Vrindavan\n"
     ]
    }
   ],
   "source": [
    "nama_panjang = person1.tambah_nama_belakang(nama_belakang = 'Vrindavan')\n",
    "\n",
    "print(nama_panjang.fullname)"
   ]
  }
 ],
 "metadata": {
  "kernelspec": {
   "display_name": "Python 3.9.7 ('base')",
   "language": "python",
   "name": "python3"
  },
  "language_info": {
   "codemirror_mode": {
    "name": "ipython",
    "version": 3
   },
   "file_extension": ".py",
   "mimetype": "text/x-python",
   "name": "python",
   "nbconvert_exporter": "python",
   "pygments_lexer": "ipython3",
   "version": "3.9.7"
  },
  "orig_nbformat": 4,
  "vscode": {
   "interpreter": {
    "hash": "ad2bdc8ecc057115af97d19610ffacc2b4e99fae6737bb82f5d7fb13d2f2c186"
   }
  }
 },
 "nbformat": 4,
 "nbformat_minor": 2
}
