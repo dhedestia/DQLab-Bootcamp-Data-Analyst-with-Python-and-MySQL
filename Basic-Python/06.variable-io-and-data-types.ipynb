{
 "cells": [
  {
   "cell_type": "markdown",
   "metadata": {},
   "source": [
    "#### **1. Comment**"
   ]
  },
  {
   "cell_type": "code",
   "execution_count": null,
   "metadata": {},
   "outputs": [],
   "source": [
    "# This is a comment\n",
    "\n",
    "\n",
    "\n",
    "'''\n",
    "This is also a comment\n",
    "'''\n",
    "\n",
    "\n",
    "\n",
    "\"\"\"\n",
    "And again this is a comment\n",
    "\"\"\""
   ]
  },
  {
   "cell_type": "markdown",
   "metadata": {},
   "source": [
    "#### **2. Input**"
   ]
  },
  {
   "cell_type": "code",
   "execution_count": 46,
   "metadata": {},
   "outputs": [
    {
     "data": {
      "text/plain": [
       "'Aksara'"
      ]
     },
     "execution_count": 46,
     "metadata": {},
     "output_type": "execute_result"
    }
   ],
   "source": [
    "input('Hello DQSquad, please input your name: ')"
   ]
  },
  {
   "cell_type": "markdown",
   "metadata": {},
   "source": [
    "#### **3. Output**"
   ]
  },
  {
   "cell_type": "code",
   "execution_count": 47,
   "metadata": {},
   "outputs": [
    {
     "name": "stdout",
     "output_type": "stream",
     "text": [
      "Hello, DQSquad!\n"
     ]
    }
   ],
   "source": [
    "print('Hello, DQSquad!')"
   ]
  },
  {
   "cell_type": "code",
   "execution_count": 48,
   "metadata": {},
   "outputs": [
    {
     "name": "stdout",
     "output_type": "stream",
     "text": [
      "1 2 3\n"
     ]
    }
   ],
   "source": [
    "print(1, 2, 3)"
   ]
  },
  {
   "cell_type": "code",
   "execution_count": 49,
   "metadata": {},
   "outputs": [
    {
     "name": "stdout",
     "output_type": "stream",
     "text": [
      "1-2-3\n"
     ]
    }
   ],
   "source": [
    "print(1, 2, 3, sep = '-')"
   ]
  },
  {
   "cell_type": "code",
   "execution_count": 50,
   "metadata": {},
   "outputs": [
    {
     "name": "stdout",
     "output_type": "stream",
     "text": [
      "Hello DQSquad good morning\n"
     ]
    }
   ],
   "source": [
    "print('Hello DQSquad good morning', sep = '-')"
   ]
  },
  {
   "cell_type": "code",
   "execution_count": 51,
   "metadata": {},
   "outputs": [
    {
     "name": "stdout",
     "output_type": "stream",
     "text": [
      "Hello-DQSquad-good-morning\n"
     ]
    }
   ],
   "source": [
    "print('Hello', 'DQSquad', 'good', 'morning', sep = '-')"
   ]
  },
  {
   "cell_type": "code",
   "execution_count": 52,
   "metadata": {},
   "outputs": [
    {
     "name": "stdout",
     "output_type": "stream",
     "text": [
      "Hello DQSquad,\n",
      "Let start our journey\n"
     ]
    }
   ],
   "source": [
    "print('Hello DQSquad,')\n",
    "print('Let start our journey')"
   ]
  },
  {
   "cell_type": "code",
   "execution_count": 53,
   "metadata": {},
   "outputs": [
    {
     "name": "stdout",
     "output_type": "stream",
     "text": [
      "Hello DQSquad, Let start our journey\n"
     ]
    }
   ],
   "source": [
    "print('Hello DQSquad,', end = ' ')\n",
    "print('Let start our journey')"
   ]
  },
  {
   "cell_type": "code",
   "execution_count": 54,
   "metadata": {},
   "outputs": [
    {
     "name": "stdout",
     "output_type": "stream",
     "text": [
      "DQSquad Name: \n",
      "Aksara\n"
     ]
    }
   ],
   "source": [
    "print('DQSquad Name: ')\n",
    "print('Aksara')"
   ]
  },
  {
   "cell_type": "code",
   "execution_count": 55,
   "metadata": {},
   "outputs": [
    {
     "name": "stdout",
     "output_type": "stream",
     "text": [
      "DQSquad Name: Aksara\n"
     ]
    }
   ],
   "source": [
    "print('DQSquad Name:', end =' ')\n",
    "print('Aksara')"
   ]
  },
  {
   "cell_type": "code",
   "execution_count": 1,
   "metadata": {},
   "outputs": [
    {
     "name": "stdout",
     "output_type": "stream",
     "text": [
      "DQSQuad - Pilot - Class - Batch - 2 --> Flight your skills!\n"
     ]
    }
   ],
   "source": [
    "'''\n",
    "    G-Force Exercise #4\n",
    "    Tanpa mengubah sintaks dibawah ini, isikan bagian kosong \n",
    "    (fill the blank) agar saat dieksekusi muncul output seperti yang\n",
    "    tertera pada konsol \n",
    "    `DQSQuad - Pilot - Class - Batch - 2 --> Flight your skills!`\n",
    "'''\n",
    "\n",
    "print('DQSQuad', 'Pilot', 'Class', 'Batch', '2', sep = ' - ', end = ' ')\n",
    "print('--> Flight your skills!')"
   ]
  },
  {
   "cell_type": "markdown",
   "metadata": {},
   "source": [
    "#### **4. Variable**"
   ]
  },
  {
   "cell_type": "code",
   "execution_count": 61,
   "metadata": {},
   "outputs": [
    {
     "name": "stdout",
     "output_type": "stream",
     "text": [
      "Value of x variable is:  1\n"
     ]
    }
   ],
   "source": [
    "# Style 1: Direct Call\n",
    "\n",
    "x = 1\n",
    "print('Value of x variable is: ', x)"
   ]
  },
  {
   "cell_type": "code",
   "execution_count": 62,
   "metadata": {},
   "outputs": [
    {
     "name": "stdout",
     "output_type": "stream",
     "text": [
      "Value of x variable is: 1\n"
     ]
    }
   ],
   "source": [
    "# Style 2 : Using formatted string litteral\n",
    "\n",
    "x = 1\n",
    "print(f'Value of x variable is: {x}')"
   ]
  },
  {
   "cell_type": "code",
   "execution_count": 63,
   "metadata": {},
   "outputs": [
    {
     "name": "stdout",
     "output_type": "stream",
     "text": [
      "Value of x variable is: 1\n"
     ]
    }
   ],
   "source": [
    "# Style 3: Method Format\n",
    "\n",
    "x = 1\n",
    "\n",
    "print('Value of x variable is: {}'.format(x))"
   ]
  },
  {
   "cell_type": "code",
   "execution_count": 66,
   "metadata": {},
   "outputs": [
    {
     "name": "stdout",
     "output_type": "stream",
     "text": [
      "Welcome to DQSquad,  Aksara\n"
     ]
    }
   ],
   "source": [
    "# Asssignment variable with input() function\n",
    "\n",
    "dqsquad_name = input('Hello DQSquad, please input your name: ')\n",
    "print('Welcome to DQSquad, ', dqsquad_name)"
   ]
  },
  {
   "cell_type": "code",
   "execution_count": 67,
   "metadata": {},
   "outputs": [
    {
     "name": "stdout",
     "output_type": "stream",
     "text": [
      "1 titik, 2 koma\n",
      "Mau belajar data analitik? DQLab pilihannya\n"
     ]
    }
   ],
   "source": [
    "# Printing 2 variables [1]\n",
    "\n",
    "x = 1\n",
    "y = 2\n",
    "\n",
    "print(f'{x} titik, {y} koma') \n",
    "print('Mau belajar data analitik? DQLab pilihannya')"
   ]
  },
  {
   "cell_type": "code",
   "execution_count": 69,
   "metadata": {},
   "outputs": [
    {
     "name": "stdout",
     "output_type": "stream",
     "text": [
      "Nilai x adalah 1 sedangkan nilai y adalah 2\n"
     ]
    }
   ],
   "source": [
    "# Printing 2 variables [2] \n",
    "\n",
    "x, y = 1, 2\n",
    "\n",
    "print('Nilai x adalah', x, 'sedangkan nilai y adalah', y) "
   ]
  },
  {
   "cell_type": "code",
   "execution_count": 6,
   "metadata": {},
   "outputs": [
    {
     "name": "stdout",
     "output_type": "stream",
     "text": [
      "Nilai x yang diinputkan adalah x =  22/7\n"
     ]
    }
   ],
   "source": [
    "'''\n",
    "    G-Force Exercise #5\n",
    "    Tanpa mengubah sintaks dibawah ini, isikan bagian kosong \n",
    "    (fill the blank) agar saat dieksekusi muncul output seperti yang\n",
    "    tertera dibawah ini\n",
    "    >>> Masukkan nilai x = 22/7\n",
    "    >>> Nilai x yang diinputkan adalah x = 22/7\n",
    "'''\n",
    "\n",
    "i = input('Masukkan nilai x = ')\n",
    "print('Nilai x yang diinputkan adalah x = ', i)"
   ]
  },
  {
   "cell_type": "markdown",
   "metadata": {},
   "source": [
    "#### **5. Data Types**"
   ]
  },
  {
   "cell_type": "code",
   "execution_count": 70,
   "metadata": {},
   "outputs": [
    {
     "name": "stdout",
     "output_type": "stream",
     "text": [
      "Data type of x variable is:  <class 'int'>\n"
     ]
    }
   ],
   "source": [
    "x = 3\n",
    "print('Data type of x variable is: ', type(x))"
   ]
  },
  {
   "cell_type": "code",
   "execution_count": 71,
   "metadata": {},
   "outputs": [
    {
     "name": "stdout",
     "output_type": "stream",
     "text": [
      "Data type of x variable is:  <class 'float'>\n"
     ]
    }
   ],
   "source": [
    "x = 3.0\n",
    "print('Data type of x variable is: ', type(x))"
   ]
  },
  {
   "cell_type": "code",
   "execution_count": 72,
   "metadata": {},
   "outputs": [
    {
     "name": "stdout",
     "output_type": "stream",
     "text": [
      "Data type of x variable is:  <class 'float'>\n"
     ]
    }
   ],
   "source": [
    "x = 3.5e-4\n",
    "print('Data type of x variable is: ', type(x))"
   ]
  },
  {
   "cell_type": "code",
   "execution_count": 73,
   "metadata": {},
   "outputs": [
    {
     "name": "stdout",
     "output_type": "stream",
     "text": [
      "Data type of x variable is:  <class 'str'>\n"
     ]
    }
   ],
   "source": [
    "x = '3'\n",
    "print('Data type of x variable is: ', type(x))"
   ]
  },
  {
   "cell_type": "code",
   "execution_count": 74,
   "metadata": {},
   "outputs": [
    {
     "name": "stdout",
     "output_type": "stream",
     "text": [
      "Data type of x variable is:  <class 'complex'>\n"
     ]
    }
   ],
   "source": [
    "x = 3 + 4j\n",
    "print('Data type of x variable is: ', type(x))"
   ]
  },
  {
   "cell_type": "code",
   "execution_count": 83,
   "metadata": {},
   "outputs": [
    {
     "name": "stdout",
     "output_type": "stream",
     "text": [
      "Data type of x variable is:  <class 'bool'>\n"
     ]
    }
   ],
   "source": [
    "x = True # Remember! Case sensitive\n",
    "print('Data type of x variable is: ',type(x))"
   ]
  },
  {
   "cell_type": "markdown",
   "metadata": {},
   "source": [
    "#### **6. Data Type Conversion**"
   ]
  },
  {
   "cell_type": "code",
   "execution_count": 75,
   "metadata": {},
   "outputs": [
    {
     "name": "stdout",
     "output_type": "stream",
     "text": [
      "Data type of x variable is:  <class 'str'>\n",
      "Data type of x variable after modified is:  <class 'int'>\n"
     ]
    }
   ],
   "source": [
    "x = '3'\n",
    "print('Data type of x variable is: ', type(x))\n",
    "\n",
    "x = int(x)\n",
    "print('Data type of x variable after modified is: ', type(x))"
   ]
  },
  {
   "cell_type": "code",
   "execution_count": 81,
   "metadata": {},
   "outputs": [
    {
     "name": "stdout",
     "output_type": "stream",
     "text": [
      "Data type of x variable is:  <class 'float'>\n",
      "Data type of x variable after modified is:  <class 'str'>\n"
     ]
    }
   ],
   "source": [
    "x = 3.14\n",
    "print('Data type of x variable is: ', type(x))\n",
    "\n",
    "x = str(y)\n",
    "print('Data type of x variable after modified is: ', type(x))"
   ]
  },
  {
   "cell_type": "markdown",
   "metadata": {},
   "source": [
    "#### **7. Variable Operation**"
   ]
  },
  {
   "cell_type": "code",
   "execution_count": 91,
   "metadata": {},
   "outputs": [
    {
     "data": {
      "text/plain": [
       "8"
      ]
     },
     "execution_count": 91,
     "metadata": {},
     "output_type": "execute_result"
    }
   ],
   "source": [
    "# Numeric Operation (Addition)\n",
    "\n",
    "x = 5\n",
    "y = 3\n",
    "\n",
    "x + y"
   ]
  },
  {
   "cell_type": "code",
   "execution_count": 92,
   "metadata": {},
   "outputs": [
    {
     "data": {
      "text/plain": [
       "2"
      ]
     },
     "execution_count": 92,
     "metadata": {},
     "output_type": "execute_result"
    }
   ],
   "source": [
    "# Numeric Operation (Subtraction)\n",
    "\n",
    "x = 5\n",
    "y = 3\n",
    "\n",
    "x - y"
   ]
  },
  {
   "cell_type": "code",
   "execution_count": 93,
   "metadata": {},
   "outputs": [
    {
     "data": {
      "text/plain": [
       "15"
      ]
     },
     "execution_count": 93,
     "metadata": {},
     "output_type": "execute_result"
    }
   ],
   "source": [
    "# Numeric Operation (Multiplication)\n",
    "\n",
    "x = 5\n",
    "y = 3\n",
    "\n",
    "x * y"
   ]
  },
  {
   "cell_type": "code",
   "execution_count": 87,
   "metadata": {},
   "outputs": [
    {
     "data": {
      "text/plain": [
       "1.6666666666666667"
      ]
     },
     "execution_count": 87,
     "metadata": {},
     "output_type": "execute_result"
    }
   ],
   "source": [
    "# Numeric Operation (Division)\n",
    "\n",
    "x = 5\n",
    "y = 3\n",
    "\n",
    "x / y"
   ]
  },
  {
   "cell_type": "code",
   "execution_count": 88,
   "metadata": {},
   "outputs": [
    {
     "data": {
      "text/plain": [
       "2"
      ]
     },
     "execution_count": 88,
     "metadata": {},
     "output_type": "execute_result"
    }
   ],
   "source": [
    "# Numeric Operation (Modulus)\n",
    "\n",
    "x = 5\n",
    "y = 3\n",
    "\n",
    "x % y"
   ]
  },
  {
   "cell_type": "code",
   "execution_count": 89,
   "metadata": {},
   "outputs": [
    {
     "data": {
      "text/plain": [
       "125"
      ]
     },
     "execution_count": 89,
     "metadata": {},
     "output_type": "execute_result"
    }
   ],
   "source": [
    "# Numeric Operation (Exponentiation)\n",
    "\n",
    "x = 5\n",
    "y = 3\n",
    "\n",
    "x ** y"
   ]
  },
  {
   "cell_type": "code",
   "execution_count": 90,
   "metadata": {},
   "outputs": [
    {
     "data": {
      "text/plain": [
       "1"
      ]
     },
     "execution_count": 90,
     "metadata": {},
     "output_type": "execute_result"
    }
   ],
   "source": [
    "# Numeric Operation (Floor Division)\n",
    "\n",
    "x = 5\n",
    "y = 3\n",
    "\n",
    "x // y"
   ]
  },
  {
   "cell_type": "code",
   "execution_count": 99,
   "metadata": {},
   "outputs": [
    {
     "ename": "ZeroDivisionError",
     "evalue": "division by zero",
     "output_type": "error",
     "traceback": [
      "\u001b[1;31m---------------------------------------------------------------------------\u001b[0m",
      "\u001b[1;31mZeroDivisionError\u001b[0m                         Traceback (most recent call last)",
      "\u001b[1;32mC:\\Users\\DESTIA~1\\AppData\\Local\\Temp/ipykernel_15556/1498831954.py\u001b[0m in \u001b[0;36m<module>\u001b[1;34m\u001b[0m\n\u001b[0;32m      5\u001b[0m \u001b[0mb\u001b[0m \u001b[1;33m=\u001b[0m \u001b[1;33m-\u001b[0m\u001b[1;36m3\u001b[0m\u001b[1;33m\u001b[0m\u001b[1;33m\u001b[0m\u001b[0m\n\u001b[0;32m      6\u001b[0m \u001b[1;33m\u001b[0m\u001b[0m\n\u001b[1;32m----> 7\u001b[1;33m \u001b[0mc\u001b[0m \u001b[1;33m=\u001b[0m \u001b[1;33m(\u001b[0m\u001b[0ma\u001b[0m\u001b[1;33m+\u001b[0m\u001b[0mb\u001b[0m\u001b[1;33m)\u001b[0m\u001b[1;33m/\u001b[0m\u001b[1;33m(\u001b[0m\u001b[0mb\u001b[0m\u001b[1;33m+\u001b[0m\u001b[1;36m3\u001b[0m\u001b[1;33m*\u001b[0m\u001b[0ma\u001b[0m\u001b[1;33m)\u001b[0m\u001b[1;33m\u001b[0m\u001b[1;33m\u001b[0m\u001b[0m\n\u001b[0m",
      "\u001b[1;31mZeroDivisionError\u001b[0m: division by zero"
     ]
    }
   ],
   "source": [
    "# True Syntax but Error (sample case)\n",
    "# Becasue devided by zero\n",
    "\n",
    "a = 1\n",
    "b = -3\n",
    "\n",
    "c = (a+b)/(b+3*a)"
   ]
  },
  {
   "cell_type": "code",
   "execution_count": 96,
   "metadata": {},
   "outputs": [
    {
     "name": "stdout",
     "output_type": "stream",
     "text": [
      "PilotClass\n"
     ]
    }
   ],
   "source": [
    "# String Operation/ Concatenate [1]\n",
    "p = 'Pilot'\n",
    "q = 'Class'\n",
    "\n",
    "r = p + q\n",
    "\n",
    "print(r)"
   ]
  },
  {
   "cell_type": "code",
   "execution_count": 97,
   "metadata": {},
   "outputs": [
    {
     "name": "stdout",
     "output_type": "stream",
     "text": [
      "PythonPilotClasswithDQLab\n"
     ]
    }
   ],
   "source": [
    "# String Operation/ Concatenate [2]\n",
    "\n",
    "x = 'Python' + 'Pilot' + 'Class' + 'with' + 'DQLab'\n",
    "\n",
    "print(x)"
   ]
  },
  {
   "cell_type": "code",
   "execution_count": 98,
   "metadata": {},
   "outputs": [
    {
     "name": "stdout",
     "output_type": "stream",
     "text": [
      "PilotPilotPilotPilotPilot\n"
     ]
    }
   ],
   "source": [
    "# String Operation/ Concatenate [3]\n",
    "\n",
    "p = 'Pilot'\n",
    "q = 5\n",
    "\n",
    "r = p * q\n",
    "\n",
    "print(r)"
   ]
  },
  {
   "cell_type": "markdown",
   "metadata": {},
   "source": [
    "#### **8. Error Handling**"
   ]
  },
  {
   "cell_type": "code",
   "execution_count": 100,
   "metadata": {},
   "outputs": [
    {
     "ename": "ZeroDivisionError",
     "evalue": "division by zero",
     "output_type": "error",
     "traceback": [
      "\u001b[1;31m---------------------------------------------------------------------------\u001b[0m",
      "\u001b[1;31mZeroDivisionError\u001b[0m                         Traceback (most recent call last)",
      "\u001b[1;32mC:\\Users\\DESTIA~1\\AppData\\Local\\Temp/ipykernel_15556/3102782595.py\u001b[0m in \u001b[0;36m<module>\u001b[1;34m\u001b[0m\n\u001b[0;32m      1\u001b[0m \u001b[0mx\u001b[0m \u001b[1;33m=\u001b[0m \u001b[1;36m0\u001b[0m\u001b[1;33m\u001b[0m\u001b[1;33m\u001b[0m\u001b[0m\n\u001b[0;32m      2\u001b[0m \u001b[1;33m\u001b[0m\u001b[0m\n\u001b[1;32m----> 3\u001b[1;33m \u001b[0my\u001b[0m \u001b[1;33m=\u001b[0m \u001b[1;36m1\u001b[0m\u001b[1;33m/\u001b[0m \u001b[0mx\u001b[0m\u001b[1;33m\u001b[0m\u001b[1;33m\u001b[0m\u001b[0m\n\u001b[0m\u001b[0;32m      4\u001b[0m \u001b[1;33m\u001b[0m\u001b[0m\n\u001b[0;32m      5\u001b[0m \u001b[0mprint\u001b[0m\u001b[1;33m(\u001b[0m\u001b[1;34m'Untuk x = '\u001b[0m\u001b[1;33m,\u001b[0m \u001b[0mx\u001b[0m\u001b[1;33m,\u001b[0m \u001b[1;34m'maka nilai dari y = '\u001b[0m\u001b[1;33m,\u001b[0m \u001b[0my\u001b[0m\u001b[1;33m)\u001b[0m\u001b[1;33m\u001b[0m\u001b[1;33m\u001b[0m\u001b[0m\n",
      "\u001b[1;31mZeroDivisionError\u001b[0m: division by zero"
     ]
    }
   ],
   "source": [
    "x = 0\n",
    "\n",
    "y = 1/ x\n",
    "\n",
    "print('Untuk x = ', x, 'maka nilai dari y = ', y)\n",
    "\n",
    "print('End Program')"
   ]
  },
  {
   "cell_type": "code",
   "execution_count": 101,
   "metadata": {},
   "outputs": [
    {
     "name": "stdout",
     "output_type": "stream",
     "text": [
      "End Program\n"
     ]
    }
   ],
   "source": [
    "# Error Handling [1]\n",
    "\n",
    "x = 0\n",
    "\n",
    "# Coba hitung y dengan rumus 1 / x, jika program gagal dijalankan maka akan dilewati begitu saja (tidak ada pesan error)\n",
    "try:\n",
    "    y = 1/ x\n",
    "    print('Untuk x = ', x, 'maka nilai dari y = ', y)\n",
    "except:\n",
    "    pass\n",
    "\n",
    "print('End Program')"
   ]
  },
  {
   "cell_type": "code",
   "execution_count": 104,
   "metadata": {},
   "outputs": [
    {
     "name": "stdout",
     "output_type": "stream",
     "text": [
      "It seems to be error because of  division by zero\n",
      "End Program\n"
     ]
    }
   ],
   "source": [
    "# Error Handling [2]\n",
    "\n",
    "x = 0\n",
    "\n",
    "# Coba hitung y dengan rumus 1 / x, jika program gagal dijalankan maka akan diabaikan dan akan ada pesan error\n",
    "try:\n",
    "    y = 1 / x\n",
    "    print('Untuk x = ', x, 'maka nilai dari y = ', y)\n",
    "# Gunakan Exception as nama_variabel untuk mendapatkan pesan error yang terjadi\n",
    "except Exception as error_message:\n",
    "    print('It seems to be error because of ', error_message)\n",
    "\n",
    "print('End Program')"
   ]
  },
  {
   "cell_type": "code",
   "execution_count": 105,
   "metadata": {},
   "outputs": [
    {
     "ename": "Exception",
     "evalue": "('It seems to be error because of ', ZeroDivisionError('division by zero'))",
     "output_type": "error",
     "traceback": [
      "\u001b[1;31m---------------------------------------------------------------------------\u001b[0m",
      "\u001b[1;31mZeroDivisionError\u001b[0m                         Traceback (most recent call last)",
      "\u001b[1;32mC:\\Users\\DESTIA~1\\AppData\\Local\\Temp/ipykernel_15556/4213686616.py\u001b[0m in \u001b[0;36m<module>\u001b[1;34m\u001b[0m\n\u001b[0;32m      4\u001b[0m \u001b[1;32mtry\u001b[0m\u001b[1;33m:\u001b[0m\u001b[1;33m\u001b[0m\u001b[1;33m\u001b[0m\u001b[0m\n\u001b[1;32m----> 5\u001b[1;33m     \u001b[0my\u001b[0m \u001b[1;33m=\u001b[0m \u001b[1;36m1\u001b[0m \u001b[1;33m/\u001b[0m \u001b[0mx\u001b[0m\u001b[1;33m\u001b[0m\u001b[1;33m\u001b[0m\u001b[0m\n\u001b[0m\u001b[0;32m      6\u001b[0m     \u001b[0mprint\u001b[0m\u001b[1;33m(\u001b[0m\u001b[1;34m'Untuk x = '\u001b[0m\u001b[1;33m,\u001b[0m \u001b[0mx\u001b[0m\u001b[1;33m,\u001b[0m \u001b[1;34m'maka nilai dari y = '\u001b[0m\u001b[1;33m,\u001b[0m \u001b[0my\u001b[0m\u001b[1;33m)\u001b[0m\u001b[1;33m\u001b[0m\u001b[1;33m\u001b[0m\u001b[0m\n",
      "\u001b[1;31mZeroDivisionError\u001b[0m: division by zero",
      "\nDuring handling of the above exception, another exception occurred:\n",
      "\u001b[1;31mException\u001b[0m                                 Traceback (most recent call last)",
      "\u001b[1;32mC:\\Users\\DESTIA~1\\AppData\\Local\\Temp/ipykernel_15556/4213686616.py\u001b[0m in \u001b[0;36m<module>\u001b[1;34m\u001b[0m\n\u001b[0;32m      6\u001b[0m     \u001b[0mprint\u001b[0m\u001b[1;33m(\u001b[0m\u001b[1;34m'Untuk x = '\u001b[0m\u001b[1;33m,\u001b[0m \u001b[0mx\u001b[0m\u001b[1;33m,\u001b[0m \u001b[1;34m'maka nilai dari y = '\u001b[0m\u001b[1;33m,\u001b[0m \u001b[0my\u001b[0m\u001b[1;33m)\u001b[0m\u001b[1;33m\u001b[0m\u001b[1;33m\u001b[0m\u001b[0m\n\u001b[0;32m      7\u001b[0m \u001b[1;32mexcept\u001b[0m \u001b[0mException\u001b[0m \u001b[1;32mas\u001b[0m \u001b[0merror_message\u001b[0m\u001b[1;33m:\u001b[0m\u001b[1;33m\u001b[0m\u001b[1;33m\u001b[0m\u001b[0m\n\u001b[1;32m----> 8\u001b[1;33m     \u001b[1;32mraise\u001b[0m \u001b[0mException\u001b[0m\u001b[1;33m(\u001b[0m\u001b[1;34m'It seems to be error because of '\u001b[0m\u001b[1;33m,\u001b[0m \u001b[0merror_message\u001b[0m\u001b[1;33m)\u001b[0m\u001b[1;33m\u001b[0m\u001b[1;33m\u001b[0m\u001b[0m\n\u001b[0m\u001b[0;32m      9\u001b[0m \u001b[1;33m\u001b[0m\u001b[0m\n\u001b[0;32m     10\u001b[0m \u001b[0mprint\u001b[0m\u001b[1;33m(\u001b[0m\u001b[1;34m'End Program'\u001b[0m\u001b[1;33m)\u001b[0m\u001b[1;33m\u001b[0m\u001b[1;33m\u001b[0m\u001b[0m\n",
      "\u001b[1;31mException\u001b[0m: ('It seems to be error because of ', ZeroDivisionError('division by zero'))"
     ]
    }
   ],
   "source": [
    "# Error Handling [3]\n",
    "\n",
    "x = 0\n",
    "\n",
    "# Coba hitung y dengan rumus 1 / x, jika program gagal dijalankan maka program akan berhenti dan akan ditampilkan pesan error\n",
    "try:\n",
    "    y = 1 / x\n",
    "    print('Untuk x = ', x, 'maka nilai dari y = ', y)\n",
    "except Exception as error_message:\n",
    "    raise Exception('It seems to be error because of ', error_message)\n",
    "\n",
    "print('End Program')"
   ]
  },
  {
   "cell_type": "markdown",
   "metadata": {},
   "source": [
    "#### **Black Box Challenge [1]**\n",
    "\n",
    "Definisikan sebuah variabel (misalkan nama variabelnya pi) dan inisialisasikan nilainya menjadi 22/7. Lalu tampilkan nilai variabel tersebut pada konsol, maka output yang mungkin keluar adalah 3,142857142857143.\n",
    "\n",
    "Namun dapatkah kamu menampilkan nilai variabel tersebut dengan mengontrol banyak angka dibelakang koma? Misal hanya menampilkan 2 angka dibelakang koma saja menjadi 3,14?"
   ]
  },
  {
   "cell_type": "code",
   "execution_count": 7,
   "metadata": {},
   "outputs": [
    {
     "name": "stdout",
     "output_type": "stream",
     "text": [
      "NIlai dari pi =  3.142857142857143\n"
     ]
    }
   ],
   "source": [
    "pi = 22/7\n",
    "print('NIlai dari pi = ', pi)"
   ]
  },
  {
   "cell_type": "code",
   "execution_count": 8,
   "metadata": {},
   "outputs": [
    {
     "name": "stdout",
     "output_type": "stream",
     "text": [
      "Nilai dari pi =  3.14\n"
     ]
    }
   ],
   "source": [
    "pi = 22/7\n",
    "print('Nilai dari pi = ', round(pi, 2))"
   ]
  },
  {
   "cell_type": "markdown",
   "metadata": {},
   "source": [
    "#### **Black Box Challenge [2]**\n",
    "\n",
    "Buatlah sebuah program, dimana user menginputkan sembarang bilangan bulat positif dimana hasil inputan merupakan representasi dari detik, lalu konversikan hasil input menjadi format jam - menit - detik."
   ]
  },
  {
   "cell_type": "code",
   "execution_count": 10,
   "metadata": {},
   "outputs": [
    {
     "name": "stdout",
     "output_type": "stream",
     "text": [
      "Hasil konversi adalah 2 jam 28 menit 21 detik\n"
     ]
    }
   ],
   "source": [
    "detik = int(input('Masukkan detik: ')) # Misal: 8901\n",
    "\n",
    "# Ubah detik ke format 24 jam:\n",
    "detik = detik % (24 * 3600)\n",
    "\n",
    "# Karena 1 jam sama dnegan 3600 detik dan 1 menit sama dengan 60 detik, maka:\n",
    "jam = detik // 3600\n",
    "detik %= 3600\n",
    "menit = detik // 60\n",
    "detik %= 60\n",
    "\n",
    "print('Hasil konversi adalah', jam, 'jam', menit, 'menit', detik, 'detik')"
   ]
  },
  {
   "cell_type": "markdown",
   "metadata": {},
   "source": [
    "#### **Black Box Challenge [3]**\n",
    "\n",
    "Kita ingat kembali bahwa fungsi input() pada python akan selalu me-<i>return</i> apapun yang diinputkan user sebagai string, bahkan saat user menginputkan sebuah nilai bukan string (misal angka atau <i>boolean</i>) sekalipun.\n",
    "\n",
    "Namun dapatkah kita memeriksa tipe data yang user inputkan dengan benar? Misalkan user menginput nilai 'dqlab' maka tipe data yang dikeluarkan adalah string, jika user menginputkan nilai 1 maka tipe data yang dikeluarkan adalah int, jika user menginputkan nilai True maka tipe data yang dikeluarkan adalah bool dst. So give us your best manuver answer, how to automatically check the datatype of users input without using any library. Just do it native! Gluck"
   ]
  },
  {
   "cell_type": "code",
   "execution_count": 69,
   "metadata": {},
   "outputs": [
    {
     "name": "stdout",
     "output_type": "stream",
     "text": [
      "Nilai yang diinputkan user adalah -9.81 dengan type data <class 'float'>\n"
     ]
    }
   ],
   "source": [
    "value = input('Masukkan sembarang nilai : ')\n",
    "\n",
    "try:\n",
    "    if type(eval(value)) == float:\n",
    "        print('Nilai yang diinputkan user adalah', value, 'dengan type data', type(eval(value)))\n",
    "    elif type(eval(value)) == int:\n",
    "        print('Nilai yang diinputkan user adalah', value, 'dengan type data', type(eval(value)))\n",
    "    elif type(eval(value)) == bool:\n",
    "        print('Nilai yang diinputkan user adalah', value, 'dengan type data', type(eval(value)))\n",
    "except:     \n",
    "    print('Nilai yang diinputkan user adalah', value, \"dengan type data <class 'str'>\")"
   ]
  }
 ],
 "metadata": {
  "kernelspec": {
   "display_name": "Python 3.9.7 ('base')",
   "language": "python",
   "name": "python3"
  },
  "language_info": {
   "codemirror_mode": {
    "name": "ipython",
    "version": 3
   },
   "file_extension": ".py",
   "mimetype": "text/x-python",
   "name": "python",
   "nbconvert_exporter": "python",
   "pygments_lexer": "ipython3",
   "version": "3.9.7"
  },
  "orig_nbformat": 4,
  "vscode": {
   "interpreter": {
    "hash": "ad2bdc8ecc057115af97d19610ffacc2b4e99fae6737bb82f5d7fb13d2f2c186"
   }
  }
 },
 "nbformat": 4,
 "nbformat_minor": 2
}
