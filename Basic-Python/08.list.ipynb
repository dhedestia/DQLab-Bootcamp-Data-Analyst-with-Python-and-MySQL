{
 "cells": [
  {
   "cell_type": "markdown",
   "metadata": {},
   "source": [
    "#### **1. List**"
   ]
  },
  {
   "cell_type": "code",
   "execution_count": 1,
   "metadata": {},
   "outputs": [
    {
     "name": "stdout",
     "output_type": "stream",
     "text": [
      "['Antara', 'Sendja', 'Kroma']\n"
     ]
    }
   ],
   "source": [
    "''' Membuat List dengan Kurung Siku '''\n",
    "\n",
    "# Assignment list kedalam sebuah variabel\n",
    "dqsquad = ['Antara', 'Sendja', 'Kroma']\n",
    "\n",
    "# Tampilkan hasil\n",
    "print(dqsquad)"
   ]
  },
  {
   "cell_type": "code",
   "execution_count": 2,
   "metadata": {},
   "outputs": [
    {
     "name": "stdout",
     "output_type": "stream",
     "text": [
      "Nilai pada variabel dqsquad = ['Antara', 'Sendja', 'Kroma'] dengan tipe data <class 'list'>\n"
     ]
    }
   ],
   "source": [
    "''' Membuat List dengan Tanda Kurung Siku '''\n",
    "\n",
    "# Assignment list kedalam sebuah variabel\n",
    "dqsquad = ['Antara', 'Sendja', 'Kroma']\n",
    "\n",
    "# Tampilkan hasil\n",
    "print(f\"Nilai pada variabel dqsquad = {dqsquad} dengan tipe data {type(dqsquad)}\")"
   ]
  },
  {
   "cell_type": "code",
   "execution_count": 3,
   "metadata": {},
   "outputs": [
    {
     "name": "stdout",
     "output_type": "stream",
     "text": [
      "['Antara', 'Sendja', 'Kroma', 1, 2, True]\n"
     ]
    }
   ],
   "source": [
    "''' Membuat List dengan Constructor List '''\n",
    "\n",
    "# Assignment list kedalam sebuah variabel dengan konstruktor\n",
    "dqsquad = list(('Antara', 'Sendja', 'Kroma', 1, 2, True))\n",
    "\n",
    "# Tampilkan hasil\n",
    "print(dqsquad)"
   ]
  },
  {
   "cell_type": "code",
   "execution_count": 4,
   "metadata": {},
   "outputs": [
    {
     "name": "stdout",
     "output_type": "stream",
     "text": [
      "Nilai x = [] dengan tipe data <class 'list'>\n",
      "Nilai y = [] dengan tipe data <class 'list'>\n"
     ]
    }
   ],
   "source": [
    "''' Membuat List tanpa Elemen (empty list) '''\n",
    "\n",
    "x = []\n",
    "print(f'Nilai x = {x} dengan tipe data {type(x)}')\n",
    "\n",
    "y = list()\n",
    "print(f'Nilai y = {y} dengan tipe data {type(y)}')"
   ]
  },
  {
   "cell_type": "code",
   "execution_count": 5,
   "metadata": {},
   "outputs": [
    {
     "name": "stdout",
     "output_type": "stream",
     "text": [
      "['DQLab', 'DQLab', 'DQLab', 'DQLab', 'DQLab']\n"
     ]
    }
   ],
   "source": [
    "''' Gunakan simbol * untuk mengalikan elemen pada list '''\n",
    "\n",
    "# Inisialisasikan variabel\n",
    "dqlist = ['DQLab'] * 5\n",
    "\n",
    "# Tampilkan hasilnya\n",
    "print(dqlist)"
   ]
  },
  {
   "cell_type": "code",
   "execution_count": 6,
   "metadata": {},
   "outputs": [
    {
     "name": "stdout",
     "output_type": "stream",
     "text": [
      "Hasil 1 : ['a', 'n', 't', 'a', 'r', 'a']\n",
      "Hasil 2 : ['antara']\n"
     ]
    }
   ],
   "source": [
    "'''\n",
    "  G-Force Exercise #1A\n",
    "  Pendefinisian mirip, mengapa hasil berbeda? Gimme ur best manuver answer!\n",
    "'''\n",
    "\n",
    "hasil1 = list('antara')\n",
    "print(f'Hasil 1 : {hasil1}')\n",
    "\n",
    "hasil2 = ['antara']\n",
    "print(f'Hasil 2 : {hasil2}')"
   ]
  },
  {
   "cell_type": "code",
   "execution_count": 7,
   "metadata": {},
   "outputs": [
    {
     "name": "stdout",
     "output_type": "stream",
     "text": [
      "Hasil 1 : ['DQLab', 'DQLab', 'DQLab', 'DQLab', 'DQLab']\n",
      "Hasil 2 : ['DQLabDQLabDQLabDQLabDQLab']\n"
     ]
    }
   ],
   "source": [
    "'''\n",
    "  G-Force Exercise #1B\n",
    "  Pendefinisian mirip, mengapa hasil berbeda? Gimme ur best manuver answer!\n",
    "'''\n",
    "\n",
    "# Inisialisasikan variabel\n",
    "dqlist1 = ['DQLab'] * 5\n",
    "\n",
    "# Tampilkan hasilnya\n",
    "print(f\"Hasil 1 : {dqlist1}\")\n",
    "\n",
    "# Inisialisasikan variabel\n",
    "dqlist2 = ['DQLab'*5] \n",
    "\n",
    "# Tampilkan hasilnya\n",
    "print(f\"Hasil 2 : {dqlist2}\")"
   ]
  },
  {
   "cell_type": "markdown",
   "metadata": {},
   "source": [
    "#### **2. Accessing List**"
   ]
  },
  {
   "cell_type": "code",
   "execution_count": 8,
   "metadata": {},
   "outputs": [
    {
     "name": "stdout",
     "output_type": "stream",
     "text": [
      "Buku planner DQLab\n"
     ]
    }
   ],
   "source": [
    "''' Mengakses 1 Elemen List pada Index Tertentu '''\n",
    "\n",
    "# Inisialisasi variabel\n",
    "list_produk = ['flash disk DQLab 32GB', 'Buku planner DQLab', 'Gantungan Kunci DQlab', 'kotak pensil DQLab']\n",
    "\n",
    "# Mengakses elemen pada index ke - 1\n",
    "print(list_produk[1])"
   ]
  },
  {
   "cell_type": "code",
   "execution_count": 9,
   "metadata": {},
   "outputs": [
    {
     "name": "stdout",
     "output_type": "stream",
     "text": [
      "Gantungan Kunci DQlab\n"
     ]
    }
   ],
   "source": [
    "''' Mengakses 1 Elemen List pada Index Tertentu yang Bernilai Negatif '''\n",
    "\n",
    "# Inisialisasi variabel\n",
    "list_produk = ['flash disk DQLab 32GB', 'Buku planner DQLab', 'Gantungan Kunci DQlab', 'kotak pensil DQLab']\n",
    "\n",
    "# Mengakses elemen pada index ke 2 hingga akhir \n",
    "print(list_produk[-2])"
   ]
  },
  {
   "cell_type": "code",
   "execution_count": 10,
   "metadata": {},
   "outputs": [
    {
     "name": "stdout",
     "output_type": "stream",
     "text": [
      "['Buku planner DQLab', 'Gantungan Kunci DQlab']\n"
     ]
    }
   ],
   "source": [
    "''' Mengakses Elemen List pada Rentang Index Tertentu '''\n",
    "\n",
    "# Inisialisasi variabel\n",
    "list_produk = ['flash disk DQLab 32GB', 'Buku planner DQLab', 'Gantungan Kunci DQlab', 'kotak pensil DQLab']\n",
    "\n",
    "# Mengakses elemen pada index ke - 1 s.d 2 --> [1:2(+1)]\n",
    "print(list_produk[1:3])"
   ]
  },
  {
   "cell_type": "code",
   "execution_count": 11,
   "metadata": {},
   "outputs": [
    {
     "name": "stdout",
     "output_type": "stream",
     "text": [
      "['Gantungan Kunci DQlab', 'kotak pensil DQLab']\n"
     ]
    }
   ],
   "source": [
    "''' Mengakses Elemen List pada Rentang Index Tertentu '''\n",
    "\n",
    "# Inisialisasi variabel\n",
    "list_produk = ['flash disk DQLab 32GB', 'Buku planner DQLab', 'Gantungan Kunci DQlab', 'kotak pensil DQLab']\n",
    "\n",
    "# Mengakses elemen pada index ke 2 hingga akhir \n",
    "print(list_produk[2:])"
   ]
  },
  {
   "cell_type": "code",
   "execution_count": 12,
   "metadata": {},
   "outputs": [
    {
     "name": "stdout",
     "output_type": "stream",
     "text": [
      "Nilai elemen pada index ke-3 adalah ['d', 'e']\n",
      "Nilai elemen pada index ke-3 dengan posisi subindex 1 adalah e\n"
     ]
    }
   ],
   "source": [
    "''' Mengakses Elemen List pada List (List n-dimensi) '''\n",
    "\n",
    "# Inisialisasi variabel\n",
    "list_2d = ['a', 'b', 'c', ['d', 'e']]\n",
    "\n",
    "# Akses elemen list index ke - 3\n",
    "print(f\"Nilai elemen pada index ke-3 adalah {list_2d[3]}\")\n",
    "\n",
    "# Akses elemen list index ke - 3 posisi subindex - 1 \n",
    "print(f\"Nilai elemen pada index ke-3 dengan posisi subindex 1 adalah {list_2d[3][1]}\")"
   ]
  },
  {
   "cell_type": "code",
   "execution_count": 30,
   "metadata": {},
   "outputs": [
    {
     "name": "stdout",
     "output_type": "stream",
     "text": [
      "Jawaban pertama = ['E', 'F']\n",
      "Jawaban kedua = D\n"
     ]
    }
   ],
   "source": [
    "'''\n",
    "    G-Force Exercise #2 \n",
    "    Diberikan sebuah list dengan nama list_3d, \n",
    "    tentukan bagaimana cara mengakses elemen pada list tersebut\n",
    "    agar output yang dihasilkan sesuai dengan keterangan yang diberikan\n",
    "'''\n",
    "\n",
    "# Inisialisasi variabel\n",
    "list_3d = ['A', 'B', 'C', ['D', ['E', 'F']]]\n",
    "\n",
    "# Tuliskan sebuah sintaks sehingga output yang dihasilkan adalah ['E', 'F'] (dengan mengakses elemen pada list_3d)\n",
    "print(f\"Jawaban pertama = {list_3d[3][1]}\")\n",
    "\n",
    "# Tuliskan sebuah sintaks sehingga output yang dihasilkan adalah 'E' (dengan mengakses elemen pada list_3d)\n",
    "print(f\"Jawaban kedua = {list_3d[3][0]}\")"
   ]
  },
  {
   "cell_type": "markdown",
   "metadata": {},
   "source": [
    "#### **3. Updating List Element**"
   ]
  },
  {
   "cell_type": "code",
   "execution_count": 1,
   "metadata": {},
   "outputs": [
    {
     "name": "stdout",
     "output_type": "stream",
     "text": [
      "list pelanggan awal ['Antara', 'Sendja', 'Kroma', 1, 'Aksara']\n",
      "list pelanggan setelah diupdate ['Antara', 'Sendja', 'Kroma', 'Sunyi', 'Aksara']\n"
     ]
    }
   ],
   "source": [
    "''' Update Elemen pada List '''\n",
    "\n",
    "# Inisialisasi variabel\n",
    "list_pelanggan = ['Antara', 'Sendja', 'Kroma', 1, 'Aksara']\n",
    "\n",
    "# Tampilkan hasilnya\n",
    "print(f'list pelanggan awal {list_pelanggan}')\n",
    "\n",
    "#Update elemen dengan index ke - 3 yang bernilai 1 menjadi Sunyi\n",
    "list_pelanggan[3] = 'Sunyi'\n",
    "\n",
    "# Tampilkan hasilnya\n",
    "print(f'list pelanggan setelah diupdate {list_pelanggan}')"
   ]
  },
  {
   "cell_type": "code",
   "execution_count": 10,
   "metadata": {},
   "outputs": [
    {
     "name": "stdout",
     "output_type": "stream",
     "text": [
      "['Antara', 'Sendja', 'Kroma', 'U', 'n', 'v', 'a', 'l', 'i', 'd', ' ', 'N', 'a', 'm', 'e', 'Aksara']\n"
     ]
    }
   ],
   "source": [
    "'''\n",
    "    G-Force Exercise #3\n",
    "    Pada list dengan nama list_pelanggan terdapat elemen yang tidak valid \n",
    "    (disebut valid jika elemen merupakan nama yang terbaca dan dimengerti dengan \n",
    "    tipe data string)\n",
    "'''\n",
    "\n",
    "# Inisialisasi variabel\n",
    "list_pelanggan = ['Antara', 'Sendja', 'Kroma', 123, '#&%421', [1], True, 'Aksara']\n",
    "\n",
    "# Update elemen nama list pelanggan yang tidak valid dengan 'Unvalid Name'\n",
    "list_pelanggan[3:7] = 'Unvalid Name'\n",
    "\n",
    "# Tampilkan hasilnya \n",
    "print(list_pelanggan)"
   ]
  },
  {
   "cell_type": "markdown",
   "metadata": {},
   "source": [
    "#### **4. Concatenate 2 List**"
   ]
  },
  {
   "cell_type": "code",
   "execution_count": 1,
   "metadata": {},
   "outputs": [
    {
     "name": "stdout",
     "output_type": "stream",
     "text": [
      "['Antara', 'Sendja', 'Kroma']\n"
     ]
    }
   ],
   "source": [
    "''' Menggabungkan Dua List '''\n",
    "\n",
    "dqsquad = ['Antara', 'Sendja'] + ['Kroma']\n",
    "\n",
    "print(dqsquad)"
   ]
  },
  {
   "cell_type": "code",
   "execution_count": 2,
   "metadata": {},
   "outputs": [
    {
     "name": "stdout",
     "output_type": "stream",
     "text": [
      "['Buku planner DQLab', 'Gantungan Kunci DQlab', 'kotak pensil DQLab', 'flash disk DQLab 32GB']\n"
     ]
    }
   ],
   "source": [
    "''' Menggabungkan Dua List '''\n",
    "\n",
    "# Inisialisasikan variabel\n",
    "list_produk = ['Buku planner DQLab','Gantungan Kunci DQlab','kotak pensil DQLab']\n",
    "produk_baru = ['flash disk DQLab 32GB']\n",
    "\n",
    "# Proses penggabungan dua buah list\n",
    "list_produk = list_produk + produk_baru\n",
    "\n",
    "# Tampilkan hasil\n",
    "print(list_produk)"
   ]
  },
  {
   "cell_type": "markdown",
   "metadata": {},
   "source": [
    "### **5. Length of List**"
   ]
  },
  {
   "cell_type": "code",
   "execution_count": 3,
   "metadata": {},
   "outputs": [
    {
     "name": "stdout",
     "output_type": "stream",
     "text": [
      "Banyak elemen pada ['Buku planner DQLab', 'Gantungan Kunci DQlab', 'kotak pensil DQLab'] adalah 3\n"
     ]
    }
   ],
   "source": [
    "''' Menghitung Jumlah Elemen pada List dengan Fungsi len() '''\n",
    "\n",
    "# Inisialisasikan variabel\n",
    "list_produk = ['Buku planner DQLab','Gantungan Kunci DQlab','kotak pensil DQLab']\n",
    "\n",
    "banyak_produk = len(list_produk)\n",
    "\n",
    "# Tampilkan hasil perhitungan\n",
    "print(f'Banyak elemen pada {list_produk} adalah {banyak_produk}')"
   ]
  },
  {
   "cell_type": "code",
   "execution_count": 4,
   "metadata": {},
   "outputs": [
    {
     "name": "stdout",
     "output_type": "stream",
     "text": [
      "Banyak elemen pada ['Aksara', 'Antara', True, [1, 2, ['P', None]]] adalah 4\n"
     ]
    }
   ],
   "source": [
    "''' Menghitung Jumlah Elemen pada List dengan Fungsi len() '''\n",
    "\n",
    "# Inisialisasikan variabel\n",
    "daftar = ['Aksara', 'Antara', True, [1, 2, ['P', None]]]\n",
    "\n",
    "banyak_daftar = len(daftar)\n",
    "\n",
    "# Tampilkan hasil perhitungan\n",
    "print(f'Banyak elemen pada {daftar} adalah {banyak_daftar}')"
   ]
  },
  {
   "cell_type": "markdown",
   "metadata": {},
   "source": [
    "### **6. Membership Operator in List**"
   ]
  },
  {
   "cell_type": "code",
   "execution_count": 5,
   "metadata": {},
   "outputs": [
    {
     "name": "stdout",
     "output_type": "stream",
     "text": [
      "True\n"
     ]
    }
   ],
   "source": [
    "''' Memeriksa Anggota dari Sebuah List '''\n",
    "\n",
    "# Inisialisasi variabel\n",
    "a = 'dqlab'\n",
    "b = ['dqlab', 'mulai', 'belajar', 'data']\n",
    "\n",
    "# Periksa keanggotaannya\n",
    "c = a in b\n",
    "\n",
    "# Tampilkan hasil\n",
    "print(c)"
   ]
  },
  {
   "cell_type": "code",
   "execution_count": 6,
   "metadata": {},
   "outputs": [
    {
     "name": "stdout",
     "output_type": "stream",
     "text": [
      "Apakah [1, 2, 3] merupakan anggota dari [1, 2, 3, 4, 5]? False\n"
     ]
    }
   ],
   "source": [
    "'''\n",
    "  G-Force Exercise #4\n",
    "  Padahal jika sekilas dilihat semua anggota pada list1 termuat dalam list2\n",
    "  Namun ketika diperiksa, list1 bukan merupakaan anggota dari list2.\n",
    "  Mengapa demikian?\n",
    "'''\n",
    "\n",
    "# Inisialisasi variabel\n",
    "list1 = [1, 2, 3]\n",
    "list2 = [1, 2, 3, 4, 5]\n",
    "\n",
    "# Cek keanggotaan dengan operator in\n",
    "cek_anggota = list1 in list2\n",
    "\n",
    "# Tampilkan hasil\n",
    "print(f'Apakah {list1} merupakan anggota dari {list2}? {cek_anggota}')"
   ]
  },
  {
   "cell_type": "markdown",
   "metadata": {},
   "source": [
    "### **7. Method pada List**"
   ]
  },
  {
   "cell_type": "markdown",
   "metadata": {},
   "source": [
    "#### **Append Method**"
   ]
  },
  {
   "cell_type": "code",
   "execution_count": 7,
   "metadata": {},
   "outputs": [
    {
     "name": "stdout",
     "output_type": "stream",
     "text": [
      "List pelanggan awal = ['Antara', 'Sendja', 'Kroma', 'Aksara']\n",
      "List pelanggan update = ['Antara', 'Sendja', 'Kroma', 'Aksara', 'Sunyi']\n"
     ]
    }
   ],
   "source": [
    "# Inisialisasi variabel\n",
    "list_pelanggan = ['Antara', 'Sendja', 'Kroma', 'Aksara']\n",
    "\n",
    "# Tampilkan hasilnya\n",
    "print(f\"List pelanggan awal = {list_pelanggan}\")\n",
    "\n",
    "# Gunakan method append untuk menambahkan Sunyi pada list pelanggan\n",
    "list_pelanggan.append('Sunyi')\n",
    "\n",
    "# Tampilkan hasilnya\n",
    "print(f\"List pelanggan update = {list_pelanggan}\")"
   ]
  },
  {
   "cell_type": "code",
   "execution_count": 8,
   "metadata": {},
   "outputs": [
    {
     "name": "stdout",
     "output_type": "stream",
     "text": [
      "List pelanggan awal = ['Antara', 'Sendja', 'Kroma', 'Aksara']\n",
      "List pelanggan update = ['Antara', 'Sendja', 'Kroma', 'Aksara', ['Sunyi', 'Pandu']]\n"
     ]
    }
   ],
   "source": [
    "# Inisialisasi variabel\n",
    "list_pelanggan = ['Antara', 'Sendja', 'Kroma', 'Aksara']\n",
    "\n",
    "# Tampilkan hasilnya\n",
    "print(f\"List pelanggan awal = {list_pelanggan}\")\n",
    "\n",
    "# Gunakan method append untuk menambahkan Sunyi dan Pandu pada list pelanggan\n",
    "list_pelanggan.append(['Sunyi', 'Pandu'])\n",
    "\n",
    "# Tampilkan hasilnya\n",
    "print(f\"List pelanggan update = {list_pelanggan}\")"
   ]
  },
  {
   "cell_type": "markdown",
   "metadata": {},
   "source": [
    "#### **Insert Method**"
   ]
  },
  {
   "cell_type": "code",
   "execution_count": 9,
   "metadata": {},
   "outputs": [
    {
     "name": "stdout",
     "output_type": "stream",
     "text": [
      "List pelanggan awal = ['Antara', 'Sendja', 'Kroma', 'Aksara']\n",
      "List pelanggan update = ['Antara', 'Sunyi', 'Sendja', 'Kroma', 'Aksara']\n"
     ]
    }
   ],
   "source": [
    "# Inisialisasi variabel\n",
    "list_pelanggan = ['Antara', 'Sendja', 'Kroma', 'Aksara']\n",
    "\n",
    "# Tampilkan hasilnya\n",
    "print(f\"List pelanggan awal = {list_pelanggan}\")\n",
    "\n",
    "# Gunakan method insert untuk menyisipkan elemen Sunyi pada index ke-1 pada list pelanggan\n",
    "list_pelanggan.insert(1, 'Sunyi')\n",
    "\n",
    "# Tampilkan hasilnya\n",
    "print(f\"List pelanggan update = {list_pelanggan}\")"
   ]
  },
  {
   "cell_type": "code",
   "execution_count": 10,
   "metadata": {},
   "outputs": [
    {
     "name": "stdout",
     "output_type": "stream",
     "text": [
      "List pelanggan awal = ['Antara', 'Sendja', 'Kroma', 'Aksara']\n",
      "List pelanggan update = ['Antara', ['Sunyi', 'Senyap'], 'Sendja', 'Kroma', 'Aksara']\n"
     ]
    }
   ],
   "source": [
    "# Inisialisasi variabel\n",
    "list_pelanggan = ['Antara', 'Sendja', 'Kroma', 'Aksara']\n",
    "\n",
    "# Tampilkan hasilnya\n",
    "print(f\"List pelanggan awal = {list_pelanggan}\")\n",
    "\n",
    "# Gunakan method insert untuk menyisipkan elemen Sunyi dan Senyap pada index ke-1 pada list pelanggan\n",
    "list_pelanggan.insert(1, ['Sunyi', 'Senyap'])\n",
    "\n",
    "# Tampilkan hasilnya\n",
    "print(f\"List pelanggan update = {list_pelanggan}\")"
   ]
  },
  {
   "cell_type": "markdown",
   "metadata": {},
   "source": [
    "#### **Remove Method**"
   ]
  },
  {
   "cell_type": "code",
   "execution_count": 11,
   "metadata": {},
   "outputs": [
    {
     "name": "stdout",
     "output_type": "stream",
     "text": [
      "List pelanggan awal = ['Antara', 'Sendja', 'Kroma', 'Aksara', 'Sendja']\n",
      "List pelanggan update = ['Antara', 'Kroma', 'Aksara', 'Sendja']\n"
     ]
    }
   ],
   "source": [
    "# Inisialisasi variabel\n",
    "list_pelanggan = ['Antara', 'Sendja', 'Kroma', 'Aksara', 'Sendja']\n",
    "\n",
    "# Tampilkan hasilnya\n",
    "print(f\"List pelanggan awal = {list_pelanggan}\")\n",
    "\n",
    "# Gunakan method remove untuk menghapus elemen 'Sendja' (yang ditemukan pertama) pada list\n",
    "list_pelanggan.remove('Sendja')\n",
    "\n",
    "# Tampilkan hasilnya\n",
    "print(f\"List pelanggan update = {list_pelanggan}\")"
   ]
  },
  {
   "cell_type": "code",
   "execution_count": 12,
   "metadata": {},
   "outputs": [
    {
     "name": "stdout",
     "output_type": "stream",
     "text": [
      "List pelanggan awal = ['Antara', 'Sendja', 'Kroma', 'Aksara', 'Sendja']\n"
     ]
    },
    {
     "ename": "ValueError",
     "evalue": "list.remove(x): x not in list",
     "output_type": "error",
     "traceback": [
      "\u001b[1;31m---------------------------------------------------------------------------\u001b[0m",
      "\u001b[1;31mValueError\u001b[0m                                Traceback (most recent call last)",
      "\u001b[1;32mC:\\Users\\DESTIA~1\\AppData\\Local\\Temp/ipykernel_9828/3711770383.py\u001b[0m in \u001b[0;36m<module>\u001b[1;34m\u001b[0m\n\u001b[0;32m      6\u001b[0m \u001b[1;33m\u001b[0m\u001b[0m\n\u001b[0;32m      7\u001b[0m \u001b[1;31m# Gunakan method remove untuk menghapus elemen 'Sunyi' (yang ditemukan pertama) pada list\u001b[0m\u001b[1;33m\u001b[0m\u001b[1;33m\u001b[0m\u001b[0m\n\u001b[1;32m----> 8\u001b[1;33m \u001b[0mlist_pelanggan\u001b[0m\u001b[1;33m.\u001b[0m\u001b[0mremove\u001b[0m\u001b[1;33m(\u001b[0m\u001b[1;34m'Sunyi'\u001b[0m\u001b[1;33m)\u001b[0m\u001b[1;33m\u001b[0m\u001b[1;33m\u001b[0m\u001b[0m\n\u001b[0m\u001b[0;32m      9\u001b[0m \u001b[1;33m\u001b[0m\u001b[0m\n\u001b[0;32m     10\u001b[0m \u001b[1;31m# Tampilkan hasilnya\u001b[0m\u001b[1;33m\u001b[0m\u001b[1;33m\u001b[0m\u001b[0m\n",
      "\u001b[1;31mValueError\u001b[0m: list.remove(x): x not in list"
     ]
    }
   ],
   "source": [
    "# Inisialisasi variabel\n",
    "list_pelanggan = ['Antara', 'Sendja', 'Kroma', 'Aksara', 'Sendja']\n",
    "\n",
    "# Tampilkan hasilnya\n",
    "print(f\"List pelanggan awal = {list_pelanggan}\")\n",
    "\n",
    "# Gunakan method remove untuk menghapus elemen 'Sunyi' (yang ditemukan pertama) pada list\n",
    "list_pelanggan.remove('Sunyi')\n",
    "\n",
    "# Tampilkan hasilnya\n",
    "print(f\"List pelanggan update = {list_pelanggan}\")"
   ]
  },
  {
   "cell_type": "markdown",
   "metadata": {},
   "source": [
    "#### **Sort Method**"
   ]
  },
  {
   "cell_type": "code",
   "execution_count": 13,
   "metadata": {},
   "outputs": [
    {
     "name": "stdout",
     "output_type": "stream",
     "text": [
      "List awal = [4, 5, 6, 8, 1, 10]\n",
      "List daftar terurut = [1, 4, 5, 6, 8, 10]\n"
     ]
    }
   ],
   "source": [
    "# Inisialisasi variabel\n",
    "daftar = [4, 5, 6, 8, 1, 10]\n",
    "\n",
    "# Tampilkan hasilnya\n",
    "print(f\"List awal = {daftar}\")\n",
    "\n",
    "# Gunakan method sort untuk mengurutkan\n",
    "daftar.sort()\n",
    "\n",
    "# Tampilkan hasilnya\n",
    "print(f\"List daftar terurut = {daftar}\")"
   ]
  },
  {
   "cell_type": "code",
   "execution_count": 14,
   "metadata": {},
   "outputs": [
    {
     "name": "stdout",
     "output_type": "stream",
     "text": [
      "List pelanggan awal = ['Antara', 'Sendja', 'Kroma', 'Aksara', 'Sendja']\n",
      "List pelanggan terurut = ['Aksara', 'Antara', 'Kroma', 'Sendja', 'Sendja']\n"
     ]
    }
   ],
   "source": [
    "# Inisialisasi variabel\n",
    "list_pelanggan = ['Antara', 'Sendja', 'Kroma', 'Aksara', 'Sendja']\n",
    "\n",
    "# Tampilkan hasilnya\n",
    "print(f\"List pelanggan awal = {list_pelanggan}\")\n",
    "\n",
    "# Gunakan method sort untuk mengurutkan\n",
    "list_pelanggan.sort()\n",
    "\n",
    "# Tampilkan hasilnya\n",
    "print(f\"List pelanggan terurut = {list_pelanggan}\")"
   ]
  },
  {
   "cell_type": "code",
   "execution_count": 15,
   "metadata": {},
   "outputs": [
    {
     "name": "stdout",
     "output_type": "stream",
     "text": [
      "List pelanggan awal = ['Antara', 'sendja', 'Kroma', 'Aksara', 'Sendja', 1, 2, 0]\n"
     ]
    },
    {
     "ename": "TypeError",
     "evalue": "'<' not supported between instances of 'int' and 'str'",
     "output_type": "error",
     "traceback": [
      "\u001b[1;31m---------------------------------------------------------------------------\u001b[0m",
      "\u001b[1;31mTypeError\u001b[0m                                 Traceback (most recent call last)",
      "\u001b[1;32mC:\\Users\\DESTIA~1\\AppData\\Local\\Temp/ipykernel_9828/2516676644.py\u001b[0m in \u001b[0;36m<module>\u001b[1;34m\u001b[0m\n\u001b[0;32m      6\u001b[0m \u001b[1;33m\u001b[0m\u001b[0m\n\u001b[0;32m      7\u001b[0m \u001b[1;31m# Gunakan method sort untuk mengurutkan\u001b[0m\u001b[1;33m\u001b[0m\u001b[1;33m\u001b[0m\u001b[0m\n\u001b[1;32m----> 8\u001b[1;33m \u001b[0mlist_pelanggan\u001b[0m\u001b[1;33m.\u001b[0m\u001b[0msort\u001b[0m\u001b[1;33m(\u001b[0m\u001b[1;33m)\u001b[0m\u001b[1;33m\u001b[0m\u001b[1;33m\u001b[0m\u001b[0m\n\u001b[0m\u001b[0;32m      9\u001b[0m \u001b[1;33m\u001b[0m\u001b[0m\n\u001b[0;32m     10\u001b[0m \u001b[1;31m# Tampilkan hasilnya\u001b[0m\u001b[1;33m\u001b[0m\u001b[1;33m\u001b[0m\u001b[0m\n",
      "\u001b[1;31mTypeError\u001b[0m: '<' not supported between instances of 'int' and 'str'"
     ]
    }
   ],
   "source": [
    "# Inisialisasi variabel\n",
    "list_pelanggan = ['Antara', 'sendja', 'Kroma', 'Aksara', 'Sendja', 1, 2, 0]\n",
    "\n",
    "# Tampilkan hasilnya\n",
    "print(f\"List pelanggan awal = {list_pelanggan}\")\n",
    "\n",
    "# Gunakan method sort untuk mengurutkan\n",
    "list_pelanggan.sort()\n",
    "\n",
    "# Tampilkan hasilnya\n",
    "print(f\"List pelanggan update = {list_pelanggan}\")"
   ]
  },
  {
   "cell_type": "markdown",
   "metadata": {},
   "source": [
    "### **8. Looping pada List**"
   ]
  },
  {
   "cell_type": "code",
   "execution_count": 16,
   "metadata": {},
   "outputs": [
    {
     "name": "stdout",
     "output_type": "stream",
     "text": [
      "Nama pelanggan = Antara\n",
      "Nama pelanggan = Sendja\n",
      "Nama pelanggan = Kroma\n",
      "Nama pelanggan = Aksara\n",
      "Nama pelanggan = Sunyi\n"
     ]
    }
   ],
   "source": [
    "''' Penggunaan Loop pada List '''\n",
    "\n",
    "# Inisialisasi variabel\n",
    "list_pelanggan = ['Antara', 'Sendja', 'Kroma', 'Aksara', 'Sunyi']\n",
    "\n",
    "# Proses looping\n",
    "for cust in list_pelanggan:\n",
    "    print(f\"Nama pelanggan = {cust}\")"
   ]
  },
  {
   "cell_type": "code",
   "execution_count": 17,
   "metadata": {},
   "outputs": [
    {
     "name": "stdout",
     "output_type": "stream",
     "text": [
      "List elemen dengan nilai ganjil = [1, 3, 5, 7]\n",
      "List elemen dengan nilai genap = [2, 4, 6]\n"
     ]
    }
   ],
   "source": [
    "''' Penggunaan Loop dan Kondisi pada List '''\n",
    "\n",
    "# Inisialisasi variabel\n",
    "list_angka = [1, 2, 3, 4, 5, 6, 7]\n",
    "\n",
    "# Definisikan sebuah list kosong \n",
    "# Hal ini berguna untuk memberi perintah bahwa variabel list_genap merupakan sebuah list\n",
    "list_genap = list()\n",
    "list_ganjil = list()\n",
    "\n",
    "# Proses looping dan conditions untuk mendapatkan list \n",
    "for i in list_angka:\n",
    "    if(i % 2 == 0):\n",
    "        list_genap.append(i)\n",
    "    else:\n",
    "        list_ganjil.append(i)\n",
    "\n",
    "# Tampilkan hasilnya\n",
    "print(f'List elemen dengan nilai ganjil = {list_ganjil}')\n",
    "print(f'List elemen dengan nilai genap = {list_genap}')"
   ]
  },
  {
   "cell_type": "code",
   "execution_count": null,
   "metadata": {},
   "outputs": [],
   "source": [
    "'''\n",
    "  G-Force Exercise #5\n",
    "  Gunakan looping untuk menggabungkan semua elemen pada list berikut menjadi sebuah string\n",
    "  ex : ['D', 'Q', 'L', 'a', 'b'] menjadi 'DQLab'\n",
    "'''\n",
    "\n",
    "listed = ['D', 'a', 't', 'a', ' ', 'A', 'n', 'a', 'l', 'y', 's', 't', ' ', 'B', 'o', 'o', 't', 'c', 'a', 'm', 'p', ' ', 'w', 'i', 't', 'h', ' ', 'D', 'Q', 'L', 'A', 'B']\n",
    "\n",
    "# Type your best manuver answer below here\n",
    "...\n",
    "\n",
    "result = ...\n",
    "\n",
    "print(f'Hasil penggabungan elemen pada list adalah {result}')"
   ]
  },
  {
   "cell_type": "markdown",
   "metadata": {},
   "source": [
    "### **9. List Comprehension**"
   ]
  },
  {
   "cell_type": "code",
   "execution_count": 18,
   "metadata": {},
   "outputs": [
    {
     "name": "stdout",
     "output_type": "stream",
     "text": [
      "Hasil pangkat 2 dari list angka [1, -2, -3, 0, 4, 5, -6, 7] adalah [1, 4, 9, 0, 16, 25, 36, 49]\n"
     ]
    }
   ],
   "source": [
    "''' Penggunaan List Comprehension #1 '''\n",
    "\n",
    "# Inisialisasi variabel\n",
    "list_angka = [1, -2, -3, 0, 4, 5, -6, 7]\n",
    "\n",
    "# Pangkat dua pada seluruh elemen pada list\n",
    "list_pangkat = [i**2 for i in list_angka]\n",
    "\n",
    "# Tampilkan hasilnya\n",
    "print(f\"Hasil pangkat 2 dari list angka {list_angka} adalah {list_pangkat}\")"
   ]
  },
  {
   "cell_type": "code",
   "execution_count": 19,
   "metadata": {},
   "outputs": [
    {
     "name": "stdout",
     "output_type": "stream",
     "text": [
      "Filter nilai negatif dari list angka [1, -2, -3, 0, 4, 5, -6, 7] adalah [-2, -3, -6]\n"
     ]
    }
   ],
   "source": [
    "''' Penggunaan List Comprehension #2 '''\n",
    "\n",
    "# Inisialisasi variabel\n",
    "list_angka = [1, -2, -3, 0, 4, 5, -6, 7]\n",
    "\n",
    "# Filter hanya angka negatif pada list\n",
    "list_negatif = [i for i in list_angka if (i < 0)]\n",
    "\n",
    "# Tampilkan hasilnya\n",
    "print(f\"Filter nilai negatif dari list angka {list_angka} adalah {list_negatif}\")"
   ]
  },
  {
   "cell_type": "code",
   "execution_count": 20,
   "metadata": {},
   "outputs": [
    {
     "name": "stdout",
     "output_type": "stream",
     "text": [
      "Nilai absolut dari list angka [1, -2, -3, 0, 4, 5, -6, 7] adalah [1, 2, 3, 0, 4, 5, 6, 7]\n"
     ]
    }
   ],
   "source": [
    "''' Penggunaan List Comprehension #3 '''\n",
    "\n",
    "# Inisialisasi variabel\n",
    "list_angka = [1, -2, -3, 0, 4, 5, -6, 7]\n",
    "\n",
    "# Nilai multak atau absolut dari list angka\n",
    "list_abs = [-1 * i if (i < 0) else i for i in list_angka]\n",
    "\n",
    "# Tampilkan hasilnya\n",
    "print(f\"Nilai absolut dari list angka {list_angka} adalah {list_abs}\")"
   ]
  },
  {
   "cell_type": "markdown",
   "metadata": {},
   "source": [
    "#### **- Other Hands On-**"
   ]
  },
  {
   "cell_type": "code",
   "execution_count": 23,
   "metadata": {
    "id": "TQvfBVt-ZwxL"
   },
   "outputs": [
    {
     "name": "stdout",
     "output_type": "stream",
     "text": [
      "1500\n",
      "1350\n",
      "1750\n",
      "1749\n"
     ]
    }
   ],
   "source": [
    "pendapatan1 = 1500\n",
    "pendapatan2 = 1350\n",
    "pendapatan3 = 1750\n",
    "pendapatan4 = 1749\n",
    "\n",
    "print(pendapatan1)\n",
    "print(pendapatan2)\n",
    "print(pendapatan3)\n",
    "print(pendapatan4)"
   ]
  },
  {
   "cell_type": "code",
   "execution_count": 24,
   "metadata": {
    "colab": {
     "base_uri": "https://localhost:8080/"
    },
    "id": "kQdz-VW1bqJH",
    "outputId": "0f4e03ce-c0f7-433a-8dda-f57b55f5fb7b"
   },
   "outputs": [
    {
     "name": "stdout",
     "output_type": "stream",
     "text": [
      "[1500, 1350, 1750, 1749]\n"
     ]
    }
   ],
   "source": [
    "#LIST (DAFTAR)\n",
    "\n",
    "pendapatan = [1500, 1350, 1750, 1749]\n",
    "\n",
    "print(pendapatan)"
   ]
  },
  {
   "cell_type": "code",
   "execution_count": 25,
   "metadata": {
    "colab": {
     "base_uri": "https://localhost:8080/"
    },
    "id": "TICwwuTzcFO6",
    "outputId": "ae94ca6c-3761-466c-d899-087694d2032c"
   },
   "outputs": [
    {
     "name": "stdout",
     "output_type": "stream",
     "text": [
      "[1700000, 'Party', 'Nasi Kucing', 9.7, True, [1, 2, 3]]\n"
     ]
    }
   ],
   "source": [
    "to_do_list = [1700000, 'Party', 'Nasi Kucing', 9.7, True, [1, 2, 3]]\n",
    "\n",
    "print(to_do_list)"
   ]
  },
  {
   "cell_type": "code",
   "execution_count": 26,
   "metadata": {
    "id": "RNpx0189dKAH"
   },
   "outputs": [
    {
     "name": "stdout",
     "output_type": "stream",
     "text": [
      "<class 'bool'>\n"
     ]
    }
   ],
   "source": [
    "to_do_list = [1700000, 'Party', 'Nasi Kucing', 9.7, True]\n",
    "\n",
    "x = True\n",
    "print(type(x))"
   ]
  },
  {
   "cell_type": "code",
   "execution_count": 27,
   "metadata": {
    "colab": {
     "base_uri": "https://localhost:8080/"
    },
    "id": "5sjStf1JfGSf",
    "outputId": "9361a392-688b-42f8-b4e8-852c41eb7bef"
   },
   "outputs": [
    {
     "name": "stdout",
     "output_type": "stream",
     "text": [
      "Nilai dari list kosong adalah [] dengan tipe data <class 'list'>\n"
     ]
    }
   ],
   "source": [
    "list_kosong = []\n",
    "\n",
    "print('Nilai dari list kosong adalah', list_kosong, 'dengan tipe data', type(list_kosong))"
   ]
  },
  {
   "cell_type": "code",
   "execution_count": 28,
   "metadata": {
    "colab": {
     "base_uri": "https://localhost:8080/"
    },
    "id": "22puH4D7gsBO",
    "outputId": "557e94f2-6c47-4fc7-dcd8-3ab4361ddc8d"
   },
   "outputs": [
    {
     "name": "stdout",
     "output_type": "stream",
     "text": [
      "['UA', 'UA', 'UA', 'UA']\n"
     ]
    }
   ],
   "source": [
    "list_banyak = ['UA'] * 4\n",
    "\n",
    "print(list_banyak)"
   ]
  },
  {
   "cell_type": "code",
   "execution_count": 29,
   "metadata": {
    "colab": {
     "base_uri": "https://localhost:8080/"
    },
    "id": "_5QI0uRShmna",
    "outputId": "0ab2db0a-0598-4577-d8da-0e44ca2a4f82"
   },
   "outputs": [
    {
     "name": "stdout",
     "output_type": "stream",
     "text": [
      "1000\n",
      "2000\n",
      "3000\n",
      "4000\n"
     ]
    }
   ],
   "source": [
    "# range(start, stop, step)\n",
    "\n",
    "# [1000, 2000, 3000, 4000] => start = 1000, stop = 4000, step = 1000\n",
    "# [1, 2, 4, 8]\n",
    "\n",
    "for i in range(1000, 5000, 1000):\n",
    "    print(i)"
   ]
  },
  {
   "cell_type": "code",
   "execution_count": 30,
   "metadata": {
    "colab": {
     "base_uri": "https://localhost:8080/"
    },
    "id": "eaPJFEhqir2H",
    "outputId": "65c7a1b2-e91b-4201-d177-78f08ee427da"
   },
   "outputs": [
    {
     "data": {
      "text/plain": [
       "[1000, 2000, 3000, 4000]"
      ]
     },
     "execution_count": 30,
     "metadata": {},
     "output_type": "execute_result"
    }
   ],
   "source": [
    "list(range(1000, 5000, 1000))"
   ]
  },
  {
   "cell_type": "code",
   "execution_count": 32,
   "metadata": {
    "colab": {
     "base_uri": "https://localhost:8080/"
    },
    "id": "hgrEA5olkXnf",
    "outputId": "5772712a-02bd-4052-c936-d378b771d84a"
   },
   "outputs": [
    {
     "name": "stdout",
     "output_type": "stream",
     "text": [
      "[10, 20, 30, 40, 50]\n"
     ]
    }
   ],
   "source": [
    "# Masukan nilai\n",
    "angka = input('Masukan angka positif :')\n",
    "banyakbarisan = input('Masukan banyak barisan: ')\n",
    "\n",
    "# Konversi tipe data\n",
    "angka = int(angka)\n",
    "banyakbarisan = int(banyakbarisan)\n",
    "\n",
    "# Buat list kosong\n",
    "kelipatan = []\n",
    "\n",
    "# Hitung barisan\n",
    "for i in range(1, banyakbarisan + 1, 1):\n",
    "    hasil = angka * i\n",
    "    kelipatan.append(hasil)\n",
    "  \n",
    "# Tampilkan hasil\n",
    "print(kelipatan)"
   ]
  },
  {
   "cell_type": "code",
   "execution_count": 33,
   "metadata": {
    "colab": {
     "base_uri": "https://localhost:8080/"
    },
    "id": "fcRv91HDl9_r",
    "outputId": "bfa808df-15c7-49d2-fc8a-772ff669913f"
   },
   "outputs": [
    {
     "name": "stdout",
     "output_type": "stream",
     "text": [
      "35\n"
     ]
    }
   ],
   "source": [
    "# Masukan nilai\n",
    "angka = input('Masukan angka positif :')\n",
    "banyakbarisan = input('Masukan banyak barisan: ')\n",
    "\n",
    "# Konversi tipe data\n",
    "angka = int(angka)\n",
    "banyakbarisan = int(banyakbarisan)\n",
    "\n",
    "# Un = a + (n-1)*b (kalo kelipatan maka a = b)\n",
    "hitung = angka + (banyakbarisan - 1) * angka\n",
    "\n",
    "print(hitung)"
   ]
  },
  {
   "cell_type": "code",
   "execution_count": 34,
   "metadata": {
    "colab": {
     "base_uri": "https://localhost:8080/"
    },
    "id": "C7EeJhUEm4n7",
    "outputId": "539beb7b-556b-48cf-c4d9-0e1ca8cffb27"
   },
   "outputs": [
    {
     "name": "stdout",
     "output_type": "stream",
     "text": [
      "98\n"
     ]
    }
   ],
   "source": [
    "nilai_kalkulus = [56, 43, 89, 90, 98, 25]\n",
    "\n",
    "nilai_kalkulus_hari_ke_5 = nilai_kalkulus[4]\n",
    "\n",
    "print(nilai_kalkulus_hari_ke_5)"
   ]
  },
  {
   "cell_type": "code",
   "execution_count": 35,
   "metadata": {
    "colab": {
     "base_uri": "https://localhost:8080/"
    },
    "id": "aym2r1C9n5Dx",
    "outputId": "8eb1c68b-957b-418d-b747-16acf4f7ca03"
   },
   "outputs": [
    {
     "name": "stdout",
     "output_type": "stream",
     "text": [
      "25\n"
     ]
    }
   ],
   "source": [
    "nilai_kalkulus = [56, 43, 89, 90, 98, 25]\n",
    "\n",
    "nilai_kalkulus_hari_terakhir = nilai_kalkulus[-1]\n",
    "\n",
    "print(nilai_kalkulus_hari_terakhir)"
   ]
  },
  {
   "cell_type": "code",
   "execution_count": 36,
   "metadata": {
    "colab": {
     "base_uri": "https://localhost:8080/"
    },
    "id": "PdP6uXcOoUgg",
    "outputId": "78e7c8ba-434b-45f0-ba07-6627852267ba"
   },
   "outputs": [
    {
     "name": "stdout",
     "output_type": "stream",
     "text": [
      "[56, 43, 89]\n"
     ]
    }
   ],
   "source": [
    "nilai_kalkulus = [56, 43, 89, 90, 98, 25]\n",
    "\n",
    "nilai_kalkulus_hari_awal = nilai_kalkulus[0 : 3]\n",
    "\n",
    "print(nilai_kalkulus_hari_awal)"
   ]
  },
  {
   "cell_type": "code",
   "execution_count": 37,
   "metadata": {
    "colab": {
     "base_uri": "https://localhost:8080/"
    },
    "id": "swOX3XgRo4NH",
    "outputId": "a6d1fd77-a7b0-42d7-b07b-4bc617a19ee6"
   },
   "outputs": [
    {
     "data": {
      "text/plain": [
       "2"
      ]
     },
     "execution_count": 37,
     "metadata": {},
     "output_type": "execute_result"
    }
   ],
   "source": [
    "nilai_kalkulus = [56, 43, 89, 90, 98, 25, 89]\n",
    "\n",
    "nilai_kalkulus.index(89)"
   ]
  },
  {
   "cell_type": "code",
   "execution_count": 38,
   "metadata": {
    "colab": {
     "base_uri": "https://localhost:8080/"
    },
    "id": "1Gb_oqEfp8nb",
    "outputId": "097c8df6-aa67-4bd2-df5e-a825d3bab6ec"
   },
   "outputs": [
    {
     "name": "stdout",
     "output_type": "stream",
     "text": [
      "3\n"
     ]
    }
   ],
   "source": [
    "# Matrix = elemen 3 itu terletak pada baris ke 2 kolom ke 1 (2, 1) --> (1, 0)\n",
    "# | 1  2 |\n",
    "# | 3  4 |\n",
    "\n",
    "matrix = [[1, 2], [3, 4]]\n",
    "\n",
    "print(matrix[1][0])"
   ]
  },
  {
   "cell_type": "code",
   "execution_count": 39,
   "metadata": {
    "colab": {
     "base_uri": "https://localhost:8080/"
    },
    "id": "M1aGxBj8rf39",
    "outputId": "d18aec7e-532c-485d-c731-bc8dfc9f5345"
   },
   "outputs": [
    {
     "name": "stdout",
     "output_type": "stream",
     "text": [
      "[56, 43, 89, 90, 98, 23, 89]\n"
     ]
    }
   ],
   "source": [
    "nilai_kalkulus = [56, 43, 89, 90, 98, 25, 89]\n",
    "\n",
    "# Untuk dapat mengupdate / memperbarui nilai maka ketahui dulu index / posisi yang mau diganti\n",
    "nilai_kalkulus[5] = 23\n",
    "\n",
    "print(nilai_kalkulus)"
   ]
  },
  {
   "cell_type": "code",
   "execution_count": 40,
   "metadata": {
    "colab": {
     "base_uri": "https://localhost:8080/"
    },
    "id": "BHi3GQ1_sjyX",
    "outputId": "cfda4ac3-5cbe-4de7-8ec8-bb32ed502802"
   },
   "outputs": [
    {
     "name": "stdout",
     "output_type": "stream",
     "text": [
      "[56, 43, 89, 90, 98, 23, 89]\n"
     ]
    }
   ],
   "source": [
    "nilai_kalkulus = [56, 43, 89, 90, 98, 25, 89]\n",
    "\n",
    "# Untuk dapat mengupdate / memperbarui nilai maka ketahui dulu index / posisi yang mau diganti\n",
    "nilai_kalkulus[-2] = 23\n",
    "\n",
    "print(nilai_kalkulus)"
   ]
  },
  {
   "cell_type": "code",
   "execution_count": 41,
   "metadata": {
    "colab": {
     "base_uri": "https://localhost:8080/"
    },
    "id": "PcYUHNrPtJmE",
    "outputId": "470a5beb-3997-40f7-8191-34819d5f01bc"
   },
   "outputs": [
    {
     "name": "stdout",
     "output_type": "stream",
     "text": [
      "Nilai kalkulus sebelum  [56, 43, 89, 90, 98, 25, 89]\n",
      "Nilai kalkulus setelah  [56, 43, 89, 90, 98, 25, 89, 8]\n"
     ]
    }
   ],
   "source": [
    "nilai_kalkulus = [56, 43, 89, 90, 98, 25, 89]\n",
    "\n",
    "print('Nilai kalkulus sebelum ', nilai_kalkulus)\n",
    "\n",
    "nilai_kalkulus.append(8)\n",
    "\n",
    "print('Nilai kalkulus setelah ', nilai_kalkulus)"
   ]
  },
  {
   "cell_type": "code",
   "execution_count": 42,
   "metadata": {
    "colab": {
     "base_uri": "https://localhost:8080/"
    },
    "id": "R3Y8Es7It2pW",
    "outputId": "3cae2742-4cc3-41c0-ef6d-a1b45d215ef9"
   },
   "outputs": [
    {
     "name": "stdout",
     "output_type": "stream",
     "text": [
      "Nilai kalkulus sebelum  [56, 43, 89, 90, 98, 25, 89, 8]\n",
      "Nilai kalkulus setelah  [56, 43, 100, 89, 90, 98, 25, 89, 8]\n"
     ]
    }
   ],
   "source": [
    "nilai_kalkulus = [56, 43, 89, 90, 98, 25, 89, 8]\n",
    "\n",
    "print('Nilai kalkulus sebelum ', nilai_kalkulus)\n",
    "\n",
    "# Menyisipkan nilai pada index ke - 2 dengan nilai 100\n",
    "nilai_kalkulus.insert(2, 100)\n",
    "\n",
    "print('Nilai kalkulus setelah ', nilai_kalkulus)"
   ]
  },
  {
   "cell_type": "code",
   "execution_count": 43,
   "metadata": {
    "colab": {
     "base_uri": "https://localhost:8080/"
    },
    "id": "VwW_Psnsutks",
    "outputId": "a8bcc580-5ebc-402c-89a6-9a50123f39bd"
   },
   "outputs": [
    {
     "name": "stdout",
     "output_type": "stream",
     "text": [
      "56\n",
      "43\n",
      "89\n",
      "90\n",
      "98\n",
      "25\n",
      "89\n",
      "8\n"
     ]
    }
   ],
   "source": [
    "# ITERABLES : variabel yang bisa dicacah (dilakukan iterasi / loop)\n",
    "\n",
    "nilai_kalkulus = [56, 43, 89, 90, 98, 25, 89, 8]\n",
    "\n",
    "for nilai in nilai_kalkulus:\n",
    "    print(nilai)"
   ]
  },
  {
   "cell_type": "code",
   "execution_count": 44,
   "metadata": {
    "colab": {
     "base_uri": "https://localhost:8080/"
    },
    "id": "hNDReC5NxvoM",
    "outputId": "cd1e09f7-3da0-418c-ba6d-b464b1b74dd9"
   },
   "outputs": [
    {
     "name": "stdout",
     "output_type": "stream",
     "text": [
      "89\n",
      "90\n",
      "98\n",
      "89\n"
     ]
    }
   ],
   "source": [
    "nilai_kalkulus = [56, 43, 89, 90, 98, 25, 89, 8]\n",
    "\n",
    "for nilai in nilai_kalkulus:\n",
    "    if (nilai > 75) :\n",
    "      print(nilai)"
   ]
  }
 ],
 "metadata": {
  "kernelspec": {
   "display_name": "Python 3.9.7 ('base')",
   "language": "python",
   "name": "python3"
  },
  "language_info": {
   "codemirror_mode": {
    "name": "ipython",
    "version": 3
   },
   "file_extension": ".py",
   "mimetype": "text/x-python",
   "name": "python",
   "nbconvert_exporter": "python",
   "pygments_lexer": "ipython3",
   "version": "3.9.7"
  },
  "orig_nbformat": 4,
  "vscode": {
   "interpreter": {
    "hash": "ad2bdc8ecc057115af97d19610ffacc2b4e99fae6737bb82f5d7fb13d2f2c186"
   }
  }
 },
 "nbformat": 4,
 "nbformat_minor": 2
}
