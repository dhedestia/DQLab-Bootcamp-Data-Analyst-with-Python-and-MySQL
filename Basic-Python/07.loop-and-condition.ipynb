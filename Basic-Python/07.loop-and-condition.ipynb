{
 "cells": [
  {
   "cell_type": "markdown",
   "metadata": {},
   "source": [
    "#### **1. Comparison**"
   ]
  },
  {
   "cell_type": "code",
   "execution_count": 1,
   "metadata": {},
   "outputs": [
    {
     "name": "stdout",
     "output_type": "stream",
     "text": [
      "False\n"
     ]
    }
   ],
   "source": [
    "x = 3\n",
    "y = 4\n",
    "print(x > y)"
   ]
  },
  {
   "cell_type": "code",
   "execution_count": 2,
   "metadata": {},
   "outputs": [
    {
     "name": "stdout",
     "output_type": "stream",
     "text": [
      "True\n"
     ]
    }
   ],
   "source": [
    "x = 3\n",
    "y = 4\n",
    "print(x <= y)"
   ]
  },
  {
   "cell_type": "code",
   "execution_count": 3,
   "metadata": {},
   "outputs": [
    {
     "name": "stdout",
     "output_type": "stream",
     "text": [
      "True\n"
     ]
    }
   ],
   "source": [
    "a = 5\n",
    "b = 5\n",
    "print (a == b)"
   ]
  },
  {
   "cell_type": "code",
   "execution_count": 4,
   "metadata": {},
   "outputs": [
    {
     "name": "stdout",
     "output_type": "stream",
     "text": [
      "False\n"
     ]
    }
   ],
   "source": [
    "a = 5\n",
    "b = 4\n",
    "print(a == b)"
   ]
  },
  {
   "cell_type": "code",
   "execution_count": 3,
   "metadata": {},
   "outputs": [
    {
     "name": "stdout",
     "output_type": "stream",
     "text": [
      "Apakah aku sama dengan kamu? Ternyata False\n"
     ]
    }
   ],
   "source": [
    "x = 'aku'\n",
    "y = 'kamu'\n",
    "\n",
    "z = (x == y)\n",
    "\n",
    "print(f'Apakah {x} sama dengan {y}? Ternyata {z}')"
   ]
  },
  {
   "cell_type": "code",
   "execution_count": 5,
   "metadata": {},
   "outputs": [
    {
     "name": "stdout",
     "output_type": "stream",
     "text": [
      "False\n"
     ]
    }
   ],
   "source": [
    "x = 'aku'\n",
    "y = 'Aku'\n",
    "print(x == y)"
   ]
  },
  {
   "cell_type": "code",
   "execution_count": 4,
   "metadata": {},
   "outputs": [
    {
     "name": "stdout",
     "output_type": "stream",
     "text": [
      "True\n"
     ]
    }
   ],
   "source": [
    "'''\n",
    "  G-Force Exercise #1\n",
    "  Buat dua buah variabel (misalkan a dan b)\n",
    "  Inisialisasikan nilai a dengan 3.0 dan inisialisasikan b dengan 3\n",
    "  Dengan menggunakan operator pembanding, periksa nilai kebenaran apakah a sama dengan b\n",
    "  Berikan alasanmu juga ya atas hasil yang diperoleh!\n",
    "'''\n",
    "\n",
    "a = 3.0\n",
    "b = 3\n",
    "print (a == b)\n",
    "\n",
    "# Jawabannya True, karena:\n",
    "# 3.0 and 3 represent the same number.\n",
    "# Python doesn't require that two objects have the same type for them to be considered equal."
   ]
  },
  {
   "cell_type": "markdown",
   "metadata": {},
   "source": [
    "#### **2. Logical Operator**"
   ]
  },
  {
   "cell_type": "code",
   "execution_count": 5,
   "metadata": {},
   "outputs": [
    {
     "name": "stdout",
     "output_type": "stream",
     "text": [
      "Apakah x = 10 memenuhi kondisi y? False\n"
     ]
    }
   ],
   "source": [
    "x = 10\n",
    "\n",
    "y = (1 <= x) and (x <= 5)\n",
    "\n",
    "print(f'Apakah x = {x} memenuhi kondisi y? {y}')"
   ]
  },
  {
   "cell_type": "code",
   "execution_count": 6,
   "metadata": {},
   "outputs": [
    {
     "name": "stdout",
     "output_type": "stream",
     "text": [
      "Apakah x = 10 memenuhi kondisi y? True\n"
     ]
    }
   ],
   "source": [
    "x = 10\n",
    "\n",
    "y = (1 <= x) or (x <= 5)\n",
    "\n",
    "print(f'Apakah x = {x} memenuhi kondisi y? {y}')"
   ]
  },
  {
   "cell_type": "code",
   "execution_count": 7,
   "metadata": {},
   "outputs": [
    {
     "name": "stdout",
     "output_type": "stream",
     "text": [
      "Kondisi x = True, maka negasinya adalah kondisi y = False\n"
     ]
    }
   ],
   "source": [
    "x = True\n",
    "\n",
    "y = not x\n",
    "\n",
    "print(f'Kondisi x = {x}, maka negasinya adalah kondisi y = {y}')"
   ]
  },
  {
   "cell_type": "code",
   "execution_count": null,
   "metadata": {},
   "outputs": [],
   "source": [
    "'''\n",
    "    G-Force Exercise #2\n",
    "    Dalam logika matematika diketahui sifat negasi berlaku hukum distributif \n",
    "    pada notasi konjungsi dan disjungsi\n",
    "    sebagai contoh :\n",
    "    ~ (p && q) ekuivalen dengan (~p || ~q) \n",
    "    ~ (p || q) ekuivalen dengan (~p && ~q) \n",
    "    Buat dua buah variable (misalkan p dan q) lalu assign nilainya dengan kondisi boolean\n",
    "    dan periksa kebenaran pernyataan diatas \n",
    "'''"
   ]
  },
  {
   "cell_type": "markdown",
   "metadata": {},
   "source": [
    "#### **3. Membership Operator**"
   ]
  },
  {
   "cell_type": "code",
   "execution_count": 8,
   "metadata": {},
   "outputs": [
    {
     "name": "stdout",
     "output_type": "stream",
     "text": [
      "True\n"
     ]
    }
   ],
   "source": [
    "x = 'dqsquad hebat!'\n",
    "y = ('dqsquad' in x)\n",
    "\n",
    "print(y)"
   ]
  },
  {
   "cell_type": "code",
   "execution_count": 9,
   "metadata": {},
   "outputs": [
    {
     "name": "stdout",
     "output_type": "stream",
     "text": [
      "False\n"
     ]
    }
   ],
   "source": [
    "x = 'dqsquad hebat!'\n",
    "y = ('DQSquad' in x)\n",
    "\n",
    "print(y)"
   ]
  },
  {
   "cell_type": "code",
   "execution_count": 10,
   "metadata": {},
   "outputs": [
    {
     "name": "stdout",
     "output_type": "stream",
     "text": [
      "True\n"
     ]
    }
   ],
   "source": [
    "x = 'dqsquad hebat!'\n",
    "y = ('DQSquad' not in x)\n",
    "\n",
    "print(y)"
   ]
  },
  {
   "cell_type": "code",
   "execution_count": 11,
   "metadata": {},
   "outputs": [
    {
     "ename": "TypeError",
     "evalue": "'in <string>' requires string as left operand, not int",
     "output_type": "error",
     "traceback": [
      "\u001b[1;31m---------------------------------------------------------------------------\u001b[0m",
      "\u001b[1;31mTypeError\u001b[0m                                 Traceback (most recent call last)",
      "\u001b[1;32mC:\\Users\\DESTIA~1\\AppData\\Local\\Temp/ipykernel_7688/1705811175.py\u001b[0m in \u001b[0;36m<module>\u001b[1;34m\u001b[0m\n\u001b[0;32m      8\u001b[0m \u001b[0my\u001b[0m \u001b[1;33m=\u001b[0m \u001b[1;34m'123456'\u001b[0m\u001b[1;33m\u001b[0m\u001b[1;33m\u001b[0m\u001b[0m\n\u001b[0;32m      9\u001b[0m \u001b[1;33m\u001b[0m\u001b[0m\n\u001b[1;32m---> 10\u001b[1;33m \u001b[0mz\u001b[0m \u001b[1;33m=\u001b[0m \u001b[0mx\u001b[0m \u001b[1;32min\u001b[0m \u001b[0my\u001b[0m\u001b[1;33m\u001b[0m\u001b[1;33m\u001b[0m\u001b[0m\n\u001b[0m\u001b[0;32m     11\u001b[0m \u001b[1;33m\u001b[0m\u001b[0m\n\u001b[0;32m     12\u001b[0m \u001b[0mprint\u001b[0m\u001b[1;33m(\u001b[0m\u001b[0mz\u001b[0m\u001b[1;33m)\u001b[0m\u001b[1;33m\u001b[0m\u001b[1;33m\u001b[0m\u001b[0m\n",
      "\u001b[1;31mTypeError\u001b[0m: 'in <string>' requires string as left operand, not int"
     ]
    }
   ],
   "source": [
    "'''\n",
    "  G-Force Exercise #3\n",
    "  Periksa kembali sintaks dibawah ini, mengapa ketika dijalankan\n",
    "  error? Berikan alasan yang tepat ya!\n",
    "'''\n",
    "\n",
    "x = 123\n",
    "y = '123456'\n",
    "\n",
    "z = x in y\n",
    "\n",
    "print(z)\n",
    "\n",
    "# Answer: Error karena berbeda tipe data, x adalah integer sedangkan y adalah string"
   ]
  },
  {
   "cell_type": "markdown",
   "metadata": {},
   "source": [
    "#### **4. Condition (IF-ELIF-ELSE)**"
   ]
  },
  {
   "cell_type": "code",
   "execution_count": 12,
   "metadata": {},
   "outputs": [
    {
     "name": "stdout",
     "output_type": "stream",
     "text": [
      "Nilai a = 4 merupakan bilangan genap\n"
     ]
    }
   ],
   "source": [
    "''' Satu kondisi '''\n",
    "\n",
    "a = 4\n",
    "\n",
    "if(a % 2 == 0):\n",
    "    print(f'Nilai a = {a} merupakan bilangan genap')"
   ]
  },
  {
   "cell_type": "code",
   "execution_count": 13,
   "metadata": {},
   "outputs": [
    {
     "name": "stdout",
     "output_type": "stream",
     "text": [
      "Nilai a = 5 merupakan bilangan ganjil\n"
     ]
    }
   ],
   "source": [
    "''' Satu kondisi dengan satu kondisi default '''\n",
    "\n",
    "a = 5\n",
    "\n",
    "if(a % 2 == 0):\n",
    "    print(f'Nilai a = {a} merupakan bilangan genap')\n",
    "else:\n",
    "    print(f'Nilai a = {a} merupakan bilangan ganjil')"
   ]
  },
  {
   "cell_type": "code",
   "execution_count": 14,
   "metadata": {},
   "outputs": [
    {
     "name": "stdout",
     "output_type": "stream",
     "text": [
      "b lebih besar nilainya daripada a\n"
     ]
    }
   ],
   "source": [
    "''' Dua kondisi dengan satu kondisi default [1] '''\n",
    "\n",
    "a = 33\n",
    "b = 200\n",
    "\n",
    "if (b > a):\n",
    "    print('b lebih besar nilainya daripada a')\n",
    "elif (b < a):\n",
    "    print('b lebih kecil nilainya daripada a')\n",
    "else:\n",
    "    print('nilai b sama dengan nilai a')"
   ]
  },
  {
   "cell_type": "code",
   "execution_count": 16,
   "metadata": {},
   "outputs": [
    {
     "name": "stdout",
     "output_type": "stream",
     "text": [
      "\n",
      "Nilai b = 2.0 lebih besar nilainya daripada a = 1.0\n"
     ]
    }
   ],
   "source": [
    "''' Dua kondisi dengan satu kondisi default [2] '''\n",
    "\n",
    "# Input user pada variabel\n",
    "a = input('Masukan nilai a : ')\n",
    "b = input('Masukan nilai b : ')\n",
    "\n",
    "# Pastikan type data variabel input benar --> konversi tipe data!\n",
    "a = float(a)\n",
    "b = float(b)\n",
    "\n",
    "# Kondisi percabangan\n",
    "if (b > a):\n",
    "    print(f'\\nNilai b = {b} lebih besar nilainya daripada a = {a}')\n",
    "elif (b < a):\n",
    "    print(f'\\nNilai b = {b} lebih kecil nilainya daripada a = {a}')\n",
    "else:\n",
    "    print(f'\\nNilai b = {b} sama dengan nilai a = {a}')"
   ]
  },
  {
   "cell_type": "code",
   "execution_count": 17,
   "metadata": {},
   "outputs": [
    {
     "name": "stdout",
     "output_type": "stream",
     "text": [
      "Anda perlu melakukan perbaikan pada salah satu pelajaran\n"
     ]
    }
   ],
   "source": [
    "''' Penggunaan Operator Logika '''\n",
    "\n",
    "nilai_ipa = 75\n",
    "nilai_ips = 60\n",
    "\n",
    "if(nilai_ipa >= 75 and nilai_ips >= 75):\n",
    "    print('Selamat anda lulus!')\n",
    "elif(nilai_ipa < 75 and nilai_ips < 75):\n",
    "    print('Maaf anda belum lulus')\n",
    "else:\n",
    "    print('Anda perlu melakukan perbaikan pada salah satu pelajaran')"
   ]
  },
  {
   "cell_type": "code",
   "execution_count": 19,
   "metadata": {},
   "outputs": [
    {
     "name": "stdout",
     "output_type": "stream",
     "text": [
      "Nilai y = 15 dapat membagi x = 3 maka 15 merupakan faktor dari x\n"
     ]
    }
   ],
   "source": [
    "'''\n",
    "  G-Force Exercise #4\n",
    "  Lengkapi kondisi berikut untuk memeriksa apakah y merupakan faktor dari x\n",
    "'''\n",
    "\n",
    "x = input('Masukan nilai x')\n",
    "y = input('Masukan nilai y')\n",
    "\n",
    "# Pastikan x dan y bertipe data angka\n",
    "x = int(x)\n",
    "y = int(y)\n",
    "\n",
    "# Periksa kondisi\n",
    "if(y/x):\n",
    "    print(f\"Nilai y = {y} dapat membagi x = {x} maka {y} merupakan faktor dari x\")\n",
    "else:\n",
    "    print(f\"Nilai y = {y} tidak dapat membagi x = {x} maka {y} bukan merupakan faktor dari x\")"
   ]
  },
  {
   "cell_type": "markdown",
   "metadata": {},
   "source": [
    "#### **5. Condition (Nested IF)**"
   ]
  },
  {
   "cell_type": "code",
   "execution_count": 20,
   "metadata": {},
   "outputs": [
    {
     "name": "stdout",
     "output_type": "stream",
     "text": [
      "\n",
      "Urutan nilai dari yang terkecil hingga terbesar 3.0, 4.0, 5.0\n"
     ]
    }
   ],
   "source": [
    "''' Penggunaan Nested if '''\n",
    "\n",
    "# Input variabel\n",
    "a = input('Masukan nilai a : ')\n",
    "b = input('Masukan nilai b : ')\n",
    "c = input('Masukan nilai c : ')\n",
    "\n",
    "# Pastikan type data variabel input benar --> konversi tipe data!\n",
    "a = float(a)\n",
    "b = float(b)\n",
    "c = float(c)\n",
    "\n",
    "print('\\nUrutan nilai dari yang terkecil hingga terbesar', end = ' ')\n",
    "\n",
    "if (a <= b):\n",
    "    if (b <= c):\n",
    "        print(f'{a}, {b}, {c}')\n",
    "    elif(a <= c):\n",
    "        print(f'{a}, {c}, {b}')\n",
    "    else:\n",
    "        print(f'{c}, {a}, {b}')\n",
    "else:\n",
    "    if (a <= c):\n",
    "        print(f'{b}, {a}, {c}')\n",
    "    elif(b <= c):\n",
    "        print(f'{b}, {c}, {a}')\n",
    "    else:\n",
    "        print(f'{c}, {b}, {a}')"
   ]
  },
  {
   "cell_type": "code",
   "execution_count": 21,
   "metadata": {},
   "outputs": [
    {
     "name": "stdout",
     "output_type": "stream",
     "text": [
      "Ya benar, nilai 10 lebih besar dari sama dengan 9\n",
      "Ya benar, nilai 10 dapat dibagi habis dengan 2 (genap)\n",
      "Ya benar, terdapat angka 0 pada 10\n"
     ]
    }
   ],
   "source": [
    "'''\n",
    "    G-Force Exercise #5\n",
    "    Jika dituliskan sebuah kondisi tanpa adanya indentasi dan hanya kondisi IF,\n",
    "    apa yang akan terjadi? Berikan alasanmu dan\n",
    "    Silahkan eksekusi sintaks dibawah ini\n",
    "'''\n",
    "\n",
    "# Inisialisasi variabel\n",
    "x = 10\n",
    "\n",
    "# Conditions\n",
    "if(x >= 9):\n",
    "    print(f'Ya benar, nilai {x} lebih besar dari sama dengan 9')\n",
    "if(x % 2 == 0):\n",
    "    print(f'Ya benar, nilai {x} dapat dibagi habis dengan 2 (genap)')\n",
    "if('0' in str(x)):\n",
    "    print(f'Ya benar, terdapat angka 0 pada {x}')\n",
    "if(x < 0):\n",
    "    print(f'Ya benar, nilai x merupakan nilai negatif')\n",
    "\n",
    "# Tanpa adanya indentasi dan IF semuanya, maka semua statement akan tetap dijalankan,\n",
    "# walaupun statement pertama sudah dijalankan dan benar hasilnya."
   ]
  },
  {
   "cell_type": "markdown",
   "metadata": {},
   "source": [
    "#### **6. Loop**"
   ]
  },
  {
   "cell_type": "code",
   "execution_count": 22,
   "metadata": {},
   "outputs": [
    {
     "name": "stdout",
     "output_type": "stream",
     "text": [
      "<class 'range'>\n"
     ]
    }
   ],
   "source": [
    "# Definisikan range\n",
    "rentang = range(0, 5)\n",
    "\n",
    "# Memeriksa tipe \n",
    "print(type(rentang))"
   ]
  },
  {
   "cell_type": "code",
   "execution_count": 23,
   "metadata": {},
   "outputs": [
    {
     "name": "stdout",
     "output_type": "stream",
     "text": [
      "True\n"
     ]
    }
   ],
   "source": [
    "# Memeriksa keanggotaan pada range\n",
    "x = 4 in range(0, 5)\n",
    "\n",
    "# Tampilkan hasilnya\n",
    "print(x)"
   ]
  },
  {
   "cell_type": "code",
   "execution_count": 24,
   "metadata": {},
   "outputs": [
    {
     "name": "stdout",
     "output_type": "stream",
     "text": [
      "Nilai i saat ini 0\n",
      "Nilai i saat ini 1\n",
      "Nilai i saat ini 2\n",
      "Nilai i saat ini 3\n",
      "Nilai i saat ini 4\n",
      "Nilai i saat ini 5\n"
     ]
    }
   ],
   "source": [
    "''' Menggunakan Fungsi range() untuk Perulangan '''\n",
    "\n",
    "# Range 0 - 5 dengan step = 1\n",
    "for i in range(0, 6, 1): # Format range(start, stop, step)\n",
    "    print(f'Nilai i saat ini {i}')"
   ]
  },
  {
   "cell_type": "code",
   "execution_count": 25,
   "metadata": {},
   "outputs": [
    {
     "name": "stdout",
     "output_type": "stream",
     "text": [
      "Nilai i saat ini 0\n",
      "Nilai i saat ini 2\n",
      "Nilai i saat ini 4\n"
     ]
    }
   ],
   "source": [
    "# Range 0 - 5 dengan step = 2\n",
    "for i in range(0, 6, 2):\n",
    "    print(f'Nilai i saat ini {i}')"
   ]
  },
  {
   "cell_type": "code",
   "execution_count": 26,
   "metadata": {},
   "outputs": [
    {
     "name": "stdout",
     "output_type": "stream",
     "text": [
      "Nilai i saat ini 5\n",
      "Nilai i saat ini 4\n",
      "Nilai i saat ini 3\n",
      "Nilai i saat ini 2\n"
     ]
    }
   ],
   "source": [
    "# Range 5 - 1 dengan step = -1 (berjalan mundur)\n",
    "for i in range(5, 1, -1):\n",
    "    print(f'Nilai i saat ini {i}')"
   ]
  },
  {
   "cell_type": "code",
   "execution_count": 27,
   "metadata": {},
   "outputs": [
    {
     "name": "stdout",
     "output_type": "stream",
     "text": [
      "0 0 0 0 0 1 1 1 1 1 2 2 2 2 2 3 3 3 3 3 4 4 4 4 4 "
     ]
    }
   ],
   "source": [
    "# Nested for\n",
    "seq = range(0, 5, 1)\n",
    "\n",
    "for i in seq:\n",
    "    for j in seq:\n",
    "        print(f'{i}', end = ' ')"
   ]
  },
  {
   "cell_type": "code",
   "execution_count": 28,
   "metadata": {},
   "outputs": [
    {
     "name": "stdout",
     "output_type": "stream",
     "text": [
      "Nilai i = 0\n",
      "\tNilai j = 0 --> (i,j) = (0, 0)\n",
      "\tNilai j = 1 --> (i,j) = (0, 1)\n",
      "\tNilai j = 2 --> (i,j) = (0, 2)\n",
      "\tNilai j = 3 --> (i,j) = (0, 3)\n",
      "Nilai i = 1\n",
      "\tNilai j = 0 --> (i,j) = (1, 0)\n",
      "\tNilai j = 1 --> (i,j) = (1, 1)\n",
      "\tNilai j = 2 --> (i,j) = (1, 2)\n",
      "\tNilai j = 3 --> (i,j) = (1, 3)\n",
      "Nilai i = 2\n",
      "\tNilai j = 0 --> (i,j) = (2, 0)\n",
      "\tNilai j = 1 --> (i,j) = (2, 1)\n",
      "\tNilai j = 2 --> (i,j) = (2, 2)\n",
      "\tNilai j = 3 --> (i,j) = (2, 3)\n"
     ]
    }
   ],
   "source": [
    "# Nested For \n",
    "for i in range(0, 3, 1):\n",
    "    print(f'Nilai i = {i}')\n",
    "    for j in range(0, 4, 1):\n",
    "        print(f'\\tNilai j = {j} --> (i,j) = {i,j}')"
   ]
  },
  {
   "cell_type": "code",
   "execution_count": 29,
   "metadata": {},
   "outputs": [
    {
     "name": "stdout",
     "output_type": "stream",
     "text": [
      "Nilai i = 1 merupakan bilangan ganjil\n",
      "Nilai i = 2 merupakan bilangan genap\n",
      "Nilai i = 3 merupakan bilangan ganjil\n",
      "Nilai i = 4 merupakan bilangan genap\n",
      "Nilai i = 5 merupakan bilangan ganjil\n"
     ]
    }
   ],
   "source": [
    "''' Gabungan antara Perulangan dan Kondisi '''\n",
    "\n",
    "for i in range(1, 6, 1):\n",
    "    if (i % 2 == 0):\n",
    "        print(f\"Nilai i = {i} merupakan bilangan genap\")\n",
    "    else:\n",
    "        print(f\"Nilai i = {i} merupakan bilangan ganjil\")"
   ]
  },
  {
   "cell_type": "code",
   "execution_count": 30,
   "metadata": {},
   "outputs": [
    {
     "name": "stdout",
     "output_type": "stream",
     "text": [
      "d\n",
      "q\n",
      "s\n",
      "q\n",
      "u\n",
      "a\n",
      "d\n",
      "h\n",
      "e\n",
      "b\n",
      "a\n",
      "t\n"
     ]
    }
   ],
   "source": [
    "# String juga termasuk tipe data yang dapat dicacah\n",
    "for i in 'dqsquadhebat':\n",
    "    print(i)"
   ]
  },
  {
   "cell_type": "code",
   "execution_count": 15,
   "metadata": {},
   "outputs": [
    {
     "ename": "TypeError",
     "evalue": "argument of type 'int' is not iterable",
     "output_type": "error",
     "traceback": [
      "\u001b[1;31m---------------------------------------------------------------------------\u001b[0m",
      "\u001b[1;31mTypeError\u001b[0m                                 Traceback (most recent call last)",
      "\u001b[1;32mC:\\Users\\DESTIA~1\\AppData\\Local\\Temp/ipykernel_19428/3011392760.py\u001b[0m in \u001b[0;36m<module>\u001b[1;34m\u001b[0m\n\u001b[0;32m     11\u001b[0m \u001b[1;33m\u001b[0m\u001b[0m\n\u001b[0;32m     12\u001b[0m \u001b[1;32mfor\u001b[0m \u001b[0mn\u001b[0m \u001b[1;32min\u001b[0m \u001b[0mrange\u001b[0m\u001b[1;33m(\u001b[0m\u001b[1;36m0\u001b[0m\u001b[1;33m,\u001b[0m \u001b[0mn\u001b[0m\u001b[1;33m,\u001b[0m \u001b[1;36m1\u001b[0m\u001b[1;33m)\u001b[0m\u001b[1;33m:\u001b[0m\u001b[1;33m\u001b[0m\u001b[1;33m\u001b[0m\u001b[0m\n\u001b[1;32m---> 13\u001b[1;33m     \u001b[1;32mif\u001b[0m\u001b[1;33m(\u001b[0m\u001b[1;36m1\u001b[0m \u001b[1;32min\u001b[0m \u001b[0mn\u001b[0m\u001b[1;33m)\u001b[0m\u001b[1;33m:\u001b[0m\u001b[1;33m\u001b[0m\u001b[1;33m\u001b[0m\u001b[0m\n\u001b[0m\u001b[0;32m     14\u001b[0m         \u001b[0mprint\u001b[0m\u001b[1;33m(\u001b[0m\u001b[0mn\u001b[0m\u001b[1;33m,\u001b[0m \u001b[1;34m'mengandung karakter 1 : True'\u001b[0m\u001b[1;33m)\u001b[0m\u001b[1;33m\u001b[0m\u001b[1;33m\u001b[0m\u001b[0m\n\u001b[0;32m     15\u001b[0m     \u001b[1;32melse\u001b[0m\u001b[1;33m:\u001b[0m\u001b[1;33m\u001b[0m\u001b[1;33m\u001b[0m\u001b[0m\n",
      "\u001b[1;31mTypeError\u001b[0m: argument of type 'int' is not iterable"
     ]
    }
   ],
   "source": [
    "'''\n",
    "    G-Force Exercise #6\n",
    "    Misalkan n adalah sebuah parameter input, dimana user\n",
    "    harus menginputkan dalam bentuk integer positif. Dari angka 0 hingga n (step = 1)\n",
    "    Tampilkan nilai True jika angka yang dikeluarkan menggandung angka 1\n",
    "    dan tampilkan nilai False jika angka yang dikeluarkan tidak mengandung\n",
    "    angka 1\n",
    "'''\n",
    "\n",
    "n = int(input('Masukkan bilangan bulat positif: '))\n",
    "\n",
    "for n in range(0, n, 1):\n",
    "    if(1 in n):\n",
    "        print(n, 'mengandung karakter 1 : True')\n",
    "    else:\n",
    "        print(n, 'mengandung karakter 1 : False')"
   ]
  }
 ],
 "metadata": {
  "kernelspec": {
   "display_name": "Python 3.9.7 64-bit",
   "language": "python",
   "name": "python3"
  },
  "language_info": {
   "codemirror_mode": {
    "name": "ipython",
    "version": 3
   },
   "file_extension": ".py",
   "mimetype": "text/x-python",
   "name": "python",
   "nbconvert_exporter": "python",
   "pygments_lexer": "ipython3",
   "version": "3.9.7"
  },
  "orig_nbformat": 4,
  "vscode": {
   "interpreter": {
    "hash": "ad2bdc8ecc057115af97d19610ffacc2b4e99fae6737bb82f5d7fb13d2f2c186"
   }
  }
 },
 "nbformat": 4,
 "nbformat_minor": 2
}
