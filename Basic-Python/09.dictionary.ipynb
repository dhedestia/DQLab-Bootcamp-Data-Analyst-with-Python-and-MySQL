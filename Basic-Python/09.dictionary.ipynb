{
 "cells": [
  {
   "cell_type": "markdown",
   "metadata": {},
   "source": [
    "#### **Creating Dictionary**"
   ]
  },
  {
   "cell_type": "code",
   "execution_count": 1,
   "metadata": {},
   "outputs": [
    {
     "name": "stdout",
     "output_type": "stream",
     "text": [
      "{'Corkcicle': 940000, 'Smiggle Drink Bottle': 550000, 'Tupperware': 57000, 'Botol Kecap Bekas': 1000}\n"
     ]
    }
   ],
   "source": [
    "''' Membuat Dictionary dengan Simbol Kurung Kurawal '''\n",
    "\n",
    "# Inisialisasi variabel\n",
    "harga_barang = {\n",
    "    \"Corkcicle\" : 940000,\n",
    "    \"Smiggle Drink Bottle\" : 550000,\n",
    "    \"Tupperware\"  : 57000,\n",
    "    \"Botol Kecap Bekas\" : 1000\n",
    "}\n",
    "\n",
    "# Tampilkan hasilnya\n",
    "print(harga_barang)"
   ]
  },
  {
   "cell_type": "code",
   "execution_count": 2,
   "metadata": {},
   "outputs": [
    {
     "name": "stdout",
     "output_type": "stream",
     "text": [
      "{'Corkcicle': 940000, 'Smiggle_Drink_Bottle': 550000, 'Tupperware': 57000, 'Botol_Kecap_Bekas': 1000}\n"
     ]
    }
   ],
   "source": [
    "''' Membuat Dictionary dengan Konstruktor '''\n",
    "\n",
    "# Inisialisasi variabel\n",
    "harga_barang = dict(\n",
    "    Corkcicle = 940000,\n",
    "    Smiggle_Drink_Bottle = 550000,\n",
    "    Tupperware = 57000,\n",
    "    Botol_Kecap_Bekas = 1000\n",
    ")\n",
    "\n",
    "# Tampilkan hasilnya\n",
    "print(harga_barang)"
   ]
  },
  {
   "cell_type": "markdown",
   "metadata": {},
   "source": [
    "#### **Checking Data Type**"
   ]
  },
  {
   "cell_type": "code",
   "execution_count": 3,
   "metadata": {},
   "outputs": [
    {
     "name": "stdout",
     "output_type": "stream",
     "text": [
      "Variabel harga barang = {'Corkcicle': 940000, 'Smiggle Drink Bottle': 550000, 'Tupperware': 57000, 'Botol Kecap Bekas': 1000} \n",
      "mempunyai tipe data <class 'dict'>\n"
     ]
    }
   ],
   "source": [
    "''' Memeriksa tipe data dictionary '''\n",
    "\n",
    "# Inisialisasi variabel\n",
    "harga_barang = {\n",
    "    \"Corkcicle\" : 940000,\n",
    "    \"Smiggle Drink Bottle\" : 550000,\n",
    "    \"Tupperware\"  : 57000,\n",
    "    \"Botol Kecap Bekas\" : 1000\n",
    "}\n",
    "\n",
    "# Periksa tipe data\n",
    "tipedata = type(harga_barang)\n",
    "\n",
    "# Tampilkan hasilnya\n",
    "print(f'Variabel harga barang = {harga_barang} \\nmempunyai tipe data {tipedata}')"
   ]
  },
  {
   "cell_type": "markdown",
   "metadata": {},
   "source": [
    "#### **Empty Dictionary**"
   ]
  },
  {
   "cell_type": "code",
   "execution_count": 4,
   "metadata": {},
   "outputs": [
    {
     "name": "stdout",
     "output_type": "stream",
     "text": [
      "Nilai variabel dict1 = {} dengan tipedata = <class 'dict'>\n",
      "Nilai variabel dict2 = {} dengan tipedata = <class 'dict'>\n"
     ]
    }
   ],
   "source": [
    "''' Membuat Dictionary Kosong '''\n",
    "\n",
    "# Membuat dictionary kosong dengan simbol\n",
    "dict1 = {}\n",
    "\n",
    "# Tampilkan hasilnya\n",
    "print(f\"Nilai variabel dict1 = {dict1} dengan tipedata = {type(dict1)}\")\n",
    "\n",
    "# Membuat dictionary kosong dengan konstruktor\n",
    "dict2 = dict()\n",
    "\n",
    "# Tampilkan hasilnya\n",
    "print(f\"Nilai variabel dict2 = {dict2} dengan tipedata = {type(dict2)}\")"
   ]
  },
  {
   "cell_type": "markdown",
   "metadata": {},
   "source": [
    "#### **Length of Dictionary**"
   ]
  },
  {
   "cell_type": "code",
   "execution_count": 5,
   "metadata": {},
   "outputs": [
    {
     "name": "stdout",
     "output_type": "stream",
     "text": [
      "Variabel harga barang = {'Corkcicle': 940000, 'Smiggle Drink Bottle': 550000, 'Tupperware': 57000, 'Botol Kecap Bekas': 1000} \n",
      "mempunyai banyak elemen 4\n"
     ]
    }
   ],
   "source": [
    "''' Menghitung banyak elemen pada dictionary '''\n",
    "\n",
    "# Inisialisasi variabel\n",
    "harga_barang = {\n",
    "    \"Corkcicle\" : 940000,\n",
    "    \"Smiggle Drink Bottle\" : 550000,\n",
    "    \"Tupperware\"  : 57000,\n",
    "    \"Botol Kecap Bekas\" : 1000\n",
    "}\n",
    "\n",
    "# Hitung banyak elemen pada dict\n",
    "banyakelemen = len(harga_barang)\n",
    "\n",
    "# Tampilkan hasilnya\n",
    "print(f'Variabel harga barang = {harga_barang} \\nmempunyai banyak elemen {banyakelemen}')"
   ]
  },
  {
   "cell_type": "code",
   "execution_count": 6,
   "metadata": {},
   "outputs": [
    {
     "name": "stdout",
     "output_type": "stream",
     "text": [
      "Variabel harga barang = {'Corkcicle': [940000, 750000, 1050000], 'Smiggle Drink Bottle': 550000, 'Tupperware': [57000, 78000], 'Botol Kecap Bekas': 1000} \n",
      "mempunyai banyak elemen 4\n"
     ]
    }
   ],
   "source": [
    "''' Menghitung banyak elemen pada dictionary dengan len '''\n",
    "\n",
    "# Inisialisasi variabel\n",
    "harga_barang = {\n",
    "    \"Corkcicle\" : [940000, 750000, 1050000],\n",
    "    \"Smiggle Drink Bottle\" : 550000,\n",
    "    \"Tupperware\"  : [57000, 78000],\n",
    "    \"Botol Kecap Bekas\" : 1000\n",
    "}\n",
    "\n",
    "# Hitung banyak elemen pada dict\n",
    "banyakelemen = len(harga_barang)\n",
    "\n",
    "# Tampilkan hasilnya\n",
    "print(f'Variabel harga barang = {harga_barang} \\nmempunyai banyak elemen {banyakelemen}')"
   ]
  },
  {
   "cell_type": "markdown",
   "metadata": {},
   "source": [
    "#### **Accessing Dictionary**"
   ]
  },
  {
   "cell_type": "code",
   "execution_count": 7,
   "metadata": {},
   "outputs": [
    {
     "name": "stdout",
     "output_type": "stream",
     "text": [
      "Varian Harga Botol Kecap Bekas = [1000, 1500]\n"
     ]
    }
   ],
   "source": [
    "# Inisialisasi variabel\n",
    "harga_barang = {\n",
    "    \"Corkcicle\" : [940000, 750000, 1050000],\n",
    "    \"Smiggle Drink Bottle\" : 550000,\n",
    "    \"Tupperware\"  : [57000, 78000],\n",
    "    \"Botol Kecap Bekas\" : [1000, 1500]\n",
    "}\n",
    "\n",
    "# Akses dict harga_barang dengan kunci (key)\n",
    "harga_botol = harga_barang[\"Botol Kecap Bekas\"]\n",
    "\n",
    "# Tampilkan hasilnya\n",
    "print(f'Varian Harga Botol Kecap Bekas = {harga_botol}')"
   ]
  },
  {
   "cell_type": "code",
   "execution_count": 8,
   "metadata": {},
   "outputs": [
    {
     "name": "stdout",
     "output_type": "stream",
     "text": [
      "Varian Harga Botol Kecap Bekas = 1500\n"
     ]
    }
   ],
   "source": [
    "# Inisialisasi variabel\n",
    "harga_barang = {\n",
    "    \"Corkcicle\" : [940000, 750000, 1050000],\n",
    "    \"Smiggle Drink Bottle\" : 550000,\n",
    "    \"Tupperware\"  : [57000, 78000],\n",
    "    \"Botol Kecap Bekas\" : [1000, 1500]\n",
    "}\n",
    "\n",
    "# Akses dict harga_barang dengan kunci (key)\n",
    "harga_botol = harga_barang[\"Botol Kecap Bekas\"][1]\n",
    "\n",
    "# Tampilkan hasilnya\n",
    "print(f'Varian Harga Botol Kecap Bekas = {harga_botol}')"
   ]
  },
  {
   "cell_type": "code",
   "execution_count": 9,
   "metadata": {},
   "outputs": [
    {
     "name": "stdout",
     "output_type": "stream",
     "text": [
      "Gaji karyawan atas nama Sendja adalah Rp.8500000\n"
     ]
    }
   ],
   "source": [
    "# Inisialisasi variabel\n",
    "data_karyawan = {\n",
    "    'karyawan1': {'nama': 'Aksara', 'salary': 7500000},\n",
    "    'karyawan2': {'nama': 'Antara', 'salary': 8000000},\n",
    "    'karyawan3': {'nama': 'Sendja', 'salary': 8500000}\n",
    "}\n",
    "\n",
    "# Gaji Sendja\n",
    "gaji_sendja = data_karyawan['karyawan3']['salary']\n",
    "\n",
    "# Tampilkan hasilnya\n",
    "print(f'Gaji karyawan atas nama Sendja adalah Rp.{gaji_sendja}')"
   ]
  },
  {
   "cell_type": "markdown",
   "metadata": {},
   "source": [
    "#### **Updating Dictionary**"
   ]
  },
  {
   "cell_type": "code",
   "execution_count": 10,
   "metadata": {},
   "outputs": [
    {
     "name": "stdout",
     "output_type": "stream",
     "text": [
      "Varian Harga Botol Kecap Bekas sebelum update = [1000, 1500]\n",
      "Varian Harga Botol Kecap Bekas sesudah update = [1250, 1750]\n"
     ]
    }
   ],
   "source": [
    "# Inisialisasi variabel\n",
    "harga_barang = {\n",
    "    \"Corkcicle\" : [940000, 750000, 1050000],\n",
    "    \"Smiggle Drink Bottle\" : 550000,\n",
    "    \"Tupperware\"  : [57000, 78000],\n",
    "    \"Botol Kecap Bekas\" : [1000, 1500]\n",
    "}\n",
    "\n",
    "# Access dict\n",
    "harga_botol = harga_barang[\"Botol Kecap Bekas\"]\n",
    "\n",
    "# Tampilkan hasil\n",
    "print(f'Varian Harga Botol Kecap Bekas sebelum update = {harga_botol}')\n",
    "\n",
    "# Update dict\n",
    "harga_barang[\"Botol Kecap Bekas\"] = [1250, 1750]\n",
    "\n",
    "# Access dict\n",
    "harga_botol = harga_barang[\"Botol Kecap Bekas\"]\n",
    "\n",
    "# Tampilkan hasilnya\n",
    "print(f'Varian Harga Botol Kecap Bekas sesudah update = {harga_botol}')"
   ]
  },
  {
   "cell_type": "code",
   "execution_count": 11,
   "metadata": {},
   "outputs": [
    {
     "name": "stdout",
     "output_type": "stream",
     "text": [
      "Varian Harga Botol Kecap Bekas sebelum update = [1000, 1500]\n",
      "Varian Harga Botol Kecap Bekas sesudah update = [1250, 1500]\n"
     ]
    }
   ],
   "source": [
    "# Inisialisasi variabel\n",
    "harga_barang = {\n",
    "    \"Corkcicle\" : [940000, 750000, 1050000],\n",
    "    \"Smiggle Drink Bottle\" : 550000,\n",
    "    \"Tupperware\"  : [57000, 78000],\n",
    "    \"Botol Kecap Bekas\" : [1000, 1500]\n",
    "}\n",
    "\n",
    "# Access dict\n",
    "harga_botol = harga_barang[\"Botol Kecap Bekas\"]\n",
    "\n",
    "# Tampilkan hasil\n",
    "print(f'Varian Harga Botol Kecap Bekas sebelum update = {harga_botol}')\n",
    "\n",
    "# Update dict\n",
    "harga_barang[\"Botol Kecap Bekas\"][0] = 1250\n",
    "\n",
    "# Access dict\n",
    "harga_botol = harga_barang[\"Botol Kecap Bekas\"]\n",
    "\n",
    "# Tampilkan hasilnya\n",
    "print(f'Varian Harga Botol Kecap Bekas sesudah update = {harga_botol}')"
   ]
  },
  {
   "cell_type": "markdown",
   "metadata": {},
   "source": [
    "#### **Method pada Dictionary: get**"
   ]
  },
  {
   "cell_type": "code",
   "execution_count": 12,
   "metadata": {},
   "outputs": [
    {
     "name": "stdout",
     "output_type": "stream",
     "text": [
      "Sekill yang dibutuhkan bagi data engineer adalah ['Database Knowledge', 'Data Modelling', 'Programming Lang. (Python, Scala, etc)']\n"
     ]
    }
   ],
   "source": [
    "# Inisialisasi variabel\n",
    "skill_needed = dict(\n",
    "    data_analyst = ['SQL', 'Business Knowledge', 'Descriptive Analysis', 'Diagnostics Analysis'],\n",
    "    data_engineer = ['Database Knowledge', 'Data Modelling', 'Programming Lang. (Python, Scala, etc)'],\n",
    "    data_scientist = ['Machine Learning', 'Business Knowledge', 'Predictive Analysis']\n",
    ")\n",
    "\n",
    "# Penggunaan method get pada dictionary\n",
    "DE_skill = skill_needed.get('data_engineer')\n",
    "\n",
    "# Tampilkan hasil\n",
    "print(f'Sekill yang dibutuhkan bagi data engineer adalah {DE_skill}')"
   ]
  },
  {
   "cell_type": "markdown",
   "metadata": {},
   "source": [
    "#### **Method pada Dictionary: fromkeys**"
   ]
  },
  {
   "cell_type": "code",
   "execution_count": 13,
   "metadata": {},
   "outputs": [
    {
     "name": "stdout",
     "output_type": "stream",
     "text": [
      "{'a': 1, 'b': 1, 'c': 1}\n"
     ]
    }
   ],
   "source": [
    "# Kunci untuk dictionary\n",
    "kunci = ['a', 'b', 'c']\n",
    "\n",
    "# Nilai untuk dictionary\n",
    "nilai = 1\n",
    "\n",
    "# creates a dictionary with keys and values\n",
    "dictionary = dict.fromkeys(kunci, nilai)\n",
    "\n",
    "# Tampilkan hasil\n",
    "print(dictionary)"
   ]
  },
  {
   "cell_type": "markdown",
   "metadata": {},
   "source": [
    "#### **Method pada Dictionary: update**"
   ]
  },
  {
   "cell_type": "code",
   "execution_count": 14,
   "metadata": {},
   "outputs": [
    {
     "name": "stdout",
     "output_type": "stream",
     "text": [
      "Sebelum diupdate :\n",
      "{'data_analyst': ['SQL', 'Business Knowledge', 'Descriptive Analysis', 'Diagnostics Analysis'], 'data_engineer': ['Database Knowledge', 'Data Modelling', 'Programming Lang. (Python, Scala, etc)'], 'data_scientist': ['Machine Learning', 'Business Knowledge', 'Predictive Analysis']}\n",
      "Setelah diupdate :\n",
      "{'data_analyst': ['SQL', 'Business Knowledge', 'Descriptive Analysis', 'Diagnostics Analysis'], 'data_engineer': ['Database Knowledge', 'Data Modelling', 'Programming Lang. (Python, Scala, etc)'], 'data_scientist': ['Machine Learning', 'Business Knowledge', 'Predictive Analysis', 'Prespective Analysis'], 'business_intelligence_dev': ['BI Tools', 'Visualization Concept', 'SQL']}\n"
     ]
    }
   ],
   "source": [
    "# Inisialisasi variabel\n",
    "skill_needed = dict(\n",
    "    data_analyst = ['SQL', 'Business Knowledge', 'Descriptive Analysis', 'Diagnostics Analysis'],\n",
    "    data_engineer = ['Database Knowledge', 'Data Modelling', 'Programming Lang. (Python, Scala, etc)'],\n",
    "    data_scientist = ['Machine Learning', 'Business Knowledge', 'Predictive Analysis']\n",
    ")\n",
    "\n",
    "# Tampilkan hasil\n",
    "print(f\"Sebelum diupdate :\\n{skill_needed}\")\n",
    "\n",
    "skill_needed.update({\n",
    "    'data_scientist' : ['Machine Learning', 'Business Knowledge', 'Predictive Analysis', 'Prespective Analysis'],\n",
    "    'business_intelligence_dev' : ['BI Tools', 'Visualization Concept', 'SQL']\n",
    "})\n",
    "\n",
    "# Tampilkan hasil\n",
    "print(f\"Setelah diupdate :\\n{skill_needed}\")"
   ]
  },
  {
   "cell_type": "markdown",
   "metadata": {},
   "source": [
    "#### **Method pada Dictionary: keys and values**"
   ]
  },
  {
   "cell_type": "code",
   "execution_count": 16,
   "metadata": {
    "colab": {
     "base_uri": "https://localhost:8080/"
    },
    "id": "rOeBwHMdKILU",
    "outputId": "da5a9da2-534d-4653-c947-f6ccb5d04780"
   },
   "outputs": [
    {
     "name": "stdout",
     "output_type": "stream",
     "text": [
      "Kunci pada dict skill_needed adalah dict_keys(['data_analyst', 'data_engineer', 'data_scientist']) dengan tipe data <class 'dict_keys'>\n"
     ]
    }
   ],
   "source": [
    "# Inisialisasi variabel\n",
    "skill_needed = dict(\n",
    "    data_analyst = ['SQL', 'Business Knowledge', 'Descriptive Analysis', 'Diagnostics Analysis'],\n",
    "    data_engineer = ['Database Knowledge', 'Data Modelling', 'Programming Lang. (Python, Scala, etc)'],\n",
    "    data_scientist = ['Machine Learning', 'Business Knowledge', 'Predictive Analysis']\n",
    ")\n",
    "\n",
    "# Dapatkan seluruh keys pada skill_needed\n",
    "key = skill_needed.keys()\n",
    "\n",
    "# Tampilkan hasilnya\n",
    "print(f'Kunci pada dict skill_needed adalah {key} dengan tipe data {type(key)}')"
   ]
  },
  {
   "cell_type": "code",
   "execution_count": 17,
   "metadata": {
    "colab": {
     "base_uri": "https://localhost:8080/"
    },
    "id": "nwVV_GavLp5K",
    "outputId": "a9e4e373-6a2b-4c61-d347-149cf861122a"
   },
   "outputs": [
    {
     "name": "stdout",
     "output_type": "stream",
     "text": [
      "Kunci pada dict skill_needed adalah ['data_analyst', 'data_engineer', 'data_scientist'] dengan tipe data <class 'list'>\n"
     ]
    }
   ],
   "source": [
    "# Inisialisasi variabel\n",
    "skill_needed = dict(\n",
    "    data_analyst = ['SQL', 'Business Knowledge', 'Descriptive Analysis', 'Diagnostics Analysis'],\n",
    "    data_engineer = ['Database Knowledge', 'Data Modelling', 'Programming Lang. (Python, Scala, etc)'],\n",
    "    data_scientist = ['Machine Learning', 'Business Knowledge', 'Predictive Analysis']\n",
    ")\n",
    "\n",
    "# Dapatkan seluruh keys pada skill_needed\n",
    "key = skill_needed.keys()\n",
    "\n",
    "# Konversi ke list\n",
    "key = list(key)\n",
    "\n",
    "# Tampilkan hasilnya\n",
    "print(f'Kunci pada dict skill_needed adalah {key} dengan tipe data {type(key)}')"
   ]
  },
  {
   "cell_type": "code",
   "execution_count": 18,
   "metadata": {
    "colab": {
     "base_uri": "https://localhost:8080/"
    },
    "id": "rJDllyP9Kx5x",
    "outputId": "be911797-2955-4203-a7ef-cdb303c3831c"
   },
   "outputs": [
    {
     "name": "stdout",
     "output_type": "stream",
     "text": [
      "Kunci pada dict skill_needed adalah dict_values([['SQL', 'Business Knowledge', 'Descriptive Analysis', 'Diagnostics Analysis'], ['Database Knowledge', 'Data Modelling', 'Programming Lang. (Python, Scala, etc)'], ['Machine Learning', 'Business Knowledge', 'Predictive Analysis']]) dengan tipe data <class 'dict_values'>\n"
     ]
    }
   ],
   "source": [
    "# Inisialisasi variabel\n",
    "skill_needed = dict(\n",
    "    data_analyst = ['SQL', 'Business Knowledge', 'Descriptive Analysis', 'Diagnostics Analysis'],\n",
    "    data_engineer = ['Database Knowledge', 'Data Modelling', 'Programming Lang. (Python, Scala, etc)'],\n",
    "    data_scientist = ['Machine Learning', 'Business Knowledge', 'Predictive Analysis']\n",
    ")\n",
    "\n",
    "# Dapatkan seluruh keys pada skill_needed\n",
    "value = skill_needed.values()\n",
    "\n",
    "# Tampilkan hasilnya\n",
    "print(f'Kunci pada dict skill_needed adalah {value} dengan tipe data {type(value)}')"
   ]
  },
  {
   "cell_type": "markdown",
   "metadata": {},
   "source": [
    "#### **Looping in Dictionary**"
   ]
  },
  {
   "cell_type": "code",
   "execution_count": 22,
   "metadata": {
    "colab": {
     "base_uri": "https://localhost:8080/"
    },
    "id": "dfol455vMiLW",
    "outputId": "dd1a82b5-a427-4e60-9c6b-75081902e4de"
   },
   "outputs": [
    {
     "name": "stdout",
     "output_type": "stream",
     "text": [
      "Pada kunci = data_analyst mempunyai nilai = ['SQL', 'Business Knowledge', 'Descriptive Analysis', 'Diagnostics Analysis']\n",
      "Pada kunci = data_engineer mempunyai nilai = ['Database Knowledge', 'Data Modelling', 'Programming Lang. (Python, Scala, etc)']\n",
      "Pada kunci = data_scientist mempunyai nilai = ['Machine Learning', 'Business Knowledge', 'Predictive Analysis']\n"
     ]
    }
   ],
   "source": [
    "''' Penggunaan Loop pada Dictionary '''\n",
    "\n",
    "# Inisialisasi variabel\n",
    "skill_needed = dict(\n",
    "    data_analyst = ['SQL', 'Business Knowledge', 'Descriptive Analysis', 'Diagnostics Analysis'],\n",
    "    data_engineer = ['Database Knowledge', 'Data Modelling', 'Programming Lang. (Python, Scala, etc)'],\n",
    "    data_scientist = ['Machine Learning', 'Business Knowledge', 'Predictive Analysis']\n",
    ")\n",
    "\n",
    "# Proses perulangan\n",
    "for key, value in skill_needed.items():\n",
    "    print(f'Pada kunci = {key} mempunyai nilai = {value}')"
   ]
  },
  {
   "cell_type": "markdown",
   "metadata": {},
   "source": [
    "#### **Intro to PANDAS**"
   ]
  },
  {
   "cell_type": "code",
   "execution_count": 23,
   "metadata": {
    "colab": {
     "base_uri": "https://localhost:8080/",
     "height": 206
    },
    "id": "A_jgJhj8jtgo",
    "outputId": "99cad0b6-e26b-4871-aeb2-6d725412d573"
   },
   "outputs": [
    {
     "data": {
      "text/html": [
       "<div>\n",
       "<style scoped>\n",
       "    .dataframe tbody tr th:only-of-type {\n",
       "        vertical-align: middle;\n",
       "    }\n",
       "\n",
       "    .dataframe tbody tr th {\n",
       "        vertical-align: top;\n",
       "    }\n",
       "\n",
       "    .dataframe thead th {\n",
       "        text-align: right;\n",
       "    }\n",
       "</style>\n",
       "<table border=\"1\" class=\"dataframe\">\n",
       "  <thead>\n",
       "    <tr style=\"text-align: right;\">\n",
       "      <th></th>\n",
       "      <th>id_trx</th>\n",
       "      <th>id_cust</th>\n",
       "      <th>item_name</th>\n",
       "      <th>price</th>\n",
       "      <th>qty</th>\n",
       "    </tr>\n",
       "  </thead>\n",
       "  <tbody>\n",
       "    <tr>\n",
       "      <th>0</th>\n",
       "      <td>DQ12345</td>\n",
       "      <td>DQCUST01</td>\n",
       "      <td>Mendoan</td>\n",
       "      <td>3500</td>\n",
       "      <td>3</td>\n",
       "    </tr>\n",
       "    <tr>\n",
       "      <th>1</th>\n",
       "      <td>DQ23718</td>\n",
       "      <td>DQCUST02</td>\n",
       "      <td>Mie Kirin</td>\n",
       "      <td>5000</td>\n",
       "      <td>5</td>\n",
       "    </tr>\n",
       "    <tr>\n",
       "      <th>2</th>\n",
       "      <td>DQ78161</td>\n",
       "      <td>DQCUST03</td>\n",
       "      <td>Tas Dori</td>\n",
       "      <td>160000</td>\n",
       "      <td>4</td>\n",
       "    </tr>\n",
       "    <tr>\n",
       "      <th>3</th>\n",
       "      <td>None</td>\n",
       "      <td>DQCUST04</td>\n",
       "      <td>Motor Kawsakiti</td>\n",
       "      <td>8900000</td>\n",
       "      <td>1</td>\n",
       "    </tr>\n",
       "    <tr>\n",
       "      <th>4</th>\n",
       "      <td>DQ99817</td>\n",
       "      <td>None</td>\n",
       "      <td>Sepatu Roobek</td>\n",
       "      <td>560000</td>\n",
       "      <td>2</td>\n",
       "    </tr>\n",
       "  </tbody>\n",
       "</table>\n",
       "</div>"
      ],
      "text/plain": [
       "    id_trx   id_cust        item_name    price  qty\n",
       "0  DQ12345  DQCUST01          Mendoan     3500    3\n",
       "1  DQ23718  DQCUST02        Mie Kirin     5000    5\n",
       "2  DQ78161  DQCUST03         Tas Dori   160000    4\n",
       "3     None  DQCUST04  Motor Kawsakiti  8900000    1\n",
       "4  DQ99817      None    Sepatu Roobek   560000    2"
      ]
     },
     "metadata": {},
     "output_type": "display_data"
    }
   ],
   "source": [
    "# Import library yang dibutuhkan : pandas\n",
    "import pandas\n",
    "\n",
    "# Inisialisasi variabel\n",
    "transact = dict(\n",
    "    id_trx = ['DQ12345', 'DQ23718', 'DQ78161', None, 'DQ99817'],\n",
    "    id_cust = ['DQCUST01', 'DQCUST02', 'DQCUST03', 'DQCUST04', None],\n",
    "    item_name = ['Mendoan', 'Mie Kirin', 'Tas Dori', 'Motor Kawsakiti', 'Sepatu Roobek'],\n",
    "    price = [3500, 5000, 160000, 8900000, 560000],\n",
    "    qty = [3, 5, 4, 1, 2] \n",
    ")\n",
    "\n",
    "# Ubah menjadi dataframe pandas\n",
    "data = pandas.DataFrame(transact)\n",
    "\n",
    "# Tampilkan data\n",
    "display(data)"
   ]
  },
  {
   "cell_type": "code",
   "execution_count": 24,
   "metadata": {
    "colab": {
     "base_uri": "https://localhost:8080/"
    },
    "id": "Ndr8DdSXogrO",
    "outputId": "1d18a131-7768-43e9-8080-fb5812d1e020"
   },
   "outputs": [
    {
     "name": "stdout",
     "output_type": "stream",
     "text": [
      "<class 'pandas.core.frame.DataFrame'>\n",
      "RangeIndex: 5 entries, 0 to 4\n",
      "Data columns (total 5 columns):\n",
      " #   Column     Non-Null Count  Dtype \n",
      "---  ------     --------------  ----- \n",
      " 0   id_trx     4 non-null      object\n",
      " 1   id_cust    4 non-null      object\n",
      " 2   item_name  5 non-null      object\n",
      " 3   price      5 non-null      int64 \n",
      " 4   qty        5 non-null      int64 \n",
      "dtypes: int64(2), object(3)\n",
      "memory usage: 328.0+ bytes\n"
     ]
    }
   ],
   "source": [
    "data.info()"
   ]
  }
 ],
 "metadata": {
  "kernelspec": {
   "display_name": "Python 3.9.7 ('base')",
   "language": "python",
   "name": "python3"
  },
  "language_info": {
   "codemirror_mode": {
    "name": "ipython",
    "version": 3
   },
   "file_extension": ".py",
   "mimetype": "text/x-python",
   "name": "python",
   "nbconvert_exporter": "python",
   "pygments_lexer": "ipython3",
   "version": "3.9.7"
  },
  "orig_nbformat": 4,
  "vscode": {
   "interpreter": {
    "hash": "ad2bdc8ecc057115af97d19610ffacc2b4e99fae6737bb82f5d7fb13d2f2c186"
   }
  }
 },
 "nbformat": 4,
 "nbformat_minor": 2
}
